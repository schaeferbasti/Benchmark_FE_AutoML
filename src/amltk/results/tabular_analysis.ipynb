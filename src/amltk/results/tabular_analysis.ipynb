{
 "cells": [
  {
   "metadata": {},
   "cell_type": "markdown",
   "source": [
    "# Analysis of the AMLTK Pipeline\n",
    "OpenFE-like Analysis"
   ],
   "id": "146bdc70903a3128"
  },
  {
   "metadata": {},
   "cell_type": "markdown",
   "source": "### To Do for the User",
   "id": "58c202e150c98a6b"
  },
  {
   "metadata": {
    "ExecuteTime": {
     "end_time": "2024-07-10T12:03:01.126289Z",
     "start_time": "2024-07-10T12:03:01.123704Z"
    }
   },
   "cell_type": "code",
   "source": "# No more To Dos",
   "id": "ad49e094ce21437c",
   "outputs": [],
   "execution_count": 5
  },
  {
   "metadata": {},
   "cell_type": "markdown",
   "source": "### Imports\n",
   "id": "9af30369bbe6f3a2"
  },
  {
   "metadata": {
    "ExecuteTime": {
     "end_time": "2024-07-10T12:03:01.150908Z",
     "start_time": "2024-07-10T12:03:01.148073Z"
    }
   },
   "cell_type": "code",
   "source": [
    "import os\n",
    "import numpy as np\n",
    "\n",
    "import pandas as pd\n",
    "import seaborn as sns\n",
    "import matplotlib.pyplot as plt\n",
    "from tabulate import tabulate\n",
    "\n",
    "import warnings\n",
    "warnings.simplefilter(action='ignore', category=FutureWarning)"
   ],
   "id": "45f7d1e9c31a38a5",
   "outputs": [],
   "execution_count": 6
  },
  {
   "metadata": {},
   "cell_type": "markdown",
   "source": "### Read Files",
   "id": "b24031355132aed5"
  },
  {
   "metadata": {
    "ExecuteTime": {
     "end_time": "2024-07-10T12:03:01.157590Z",
     "start_time": "2024-07-10T12:03:01.153563Z"
    }
   },
   "cell_type": "code",
   "source": [
    "files = os.listdir(os.curdir)\n",
    "parquet_files = []\n",
    "for file in files:\n",
    "    if file.endswith(\".parquet\") and not file.__contains__(\"tabular_data\"):\n",
    "        parquet_files.append(file)\n",
    "print(parquet_files)"
   ],
   "id": "fdff4d8293b912bd",
   "outputs": [
    {
     "name": "stdout",
     "output_type": "stream",
     "text": [
      "['results_abalone_dataset_autogluon_0.parquet', 'results_moneyball_dataset_autofeat_0.parquet', 'results_moneyball_dataset_autogluon_0.parquet', 'results_moneyball_dataset_original_0.parquet', 'results_bioresponse_dataset_h2o_0.parquet', 'results_australian_dataset_correlationBasedFS_0.parquet', 'results_abalone_dataset_original_0.parquet', 'results_bioresponse_dataset_mljar_0.parquet', 'results_australian_dataset_boruta_0.parquet', 'results_abalone_dataset_autofeat_0.parquet', 'results_australian_dataset_h2o_0.parquet']\n"
     ]
    }
   ],
   "execution_count": 7
  },
  {
   "metadata": {
    "ExecuteTime": {
     "end_time": "2024-07-10T12:03:01.416922Z",
     "start_time": "2024-07-10T12:03:01.159504Z"
    }
   },
   "cell_type": "code",
   "source": [
    "df_all = pd.DataFrame(columns=['Dataset', 'Method', 'Fold', 'Value'])\n",
    "\n",
    "for file in parquet_files:\n",
    "    print(file)\n",
    "    core_name = file[len('results_'):-len('.parquet')]\n",
    "    parts = core_name.split('_')\n",
    "    dataset = parts[0]\n",
    "    method = parts[2]\n",
    "    fold = parts[3]\n",
    "    \n",
    "    df = pd.read_parquet(file)\n",
    "    df = df[df['status'] == 'success']\n",
    "    metric_accuracy = df[\"metric:roc_auc_ovo [0.0, 1.0] (maximize)\"].tolist()\n",
    "    value = np.average(metric_accuracy)\n",
    "    df_all = df_all._append({'Dataset': dataset, 'Method': method, 'Fold': fold, 'Value': value}, ignore_index=True)\n",
    "print(df_all)"
   ],
   "id": "cc6371399537f2fb",
   "outputs": [
    {
     "name": "stdout",
     "output_type": "stream",
     "text": [
      "results_abalone_dataset_autogluon_0.parquet\n",
      "results_moneyball_dataset_autofeat_0.parquet\n",
      "results_moneyball_dataset_autogluon_0.parquet\n",
      "results_moneyball_dataset_original_0.parquet\n",
      "results_bioresponse_dataset_h2o_0.parquet\n",
      "results_australian_dataset_correlationBasedFS_0.parquet\n",
      "results_abalone_dataset_original_0.parquet\n",
      "results_bioresponse_dataset_mljar_0.parquet\n",
      "results_australian_dataset_boruta_0.parquet\n",
      "results_abalone_dataset_autofeat_0.parquet\n",
      "results_australian_dataset_h2o_0.parquet\n",
      "        Dataset              Method Fold     Value\n",
      "0       abalone           autogluon    0  0.893359\n",
      "1     moneyball            autofeat    0  0.872661\n",
      "2     moneyball           autogluon    0  0.848152\n",
      "3     moneyball            original    0  0.849608\n",
      "4   bioresponse                 h2o    0  0.860691\n",
      "5    australian  correlationBasedFS    0  0.880407\n",
      "6       abalone            original    0  0.896770\n",
      "7   bioresponse               mljar    0  0.871477\n",
      "8    australian              boruta    0  0.879575\n",
      "9       abalone            autofeat    0  0.879162\n",
      "10   australian                 h2o    0  0.910575\n"
     ]
    }
   ],
   "execution_count": 8
  },
  {
   "metadata": {
    "ExecuteTime": {
     "end_time": "2024-07-10T12:03:01.423876Z",
     "start_time": "2024-07-10T12:03:01.418437Z"
    }
   },
   "cell_type": "code",
   "source": [
    "# Standard Deviation\n",
    "df_stddev = df_all.groupby(['Dataset', 'Method'])['Value'].std().reset_index()\n",
    "df_stddev.rename(columns={'Value': 'StdDev'}, inplace=True)\n",
    "df_stddev['StdDev'] = df_stddev['StdDev'].fillna(0)\n",
    "# Average values\n",
    "df_summary = df_all.groupby(['Dataset', 'Method'])['Value'].mean().reset_index().fillna(0)"
   ],
   "id": "3020a585095f5f61",
   "outputs": [],
   "execution_count": 9
  },
  {
   "metadata": {
    "ExecuteTime": {
     "end_time": "2024-07-10T12:03:01.430641Z",
     "start_time": "2024-07-10T12:03:01.425228Z"
    }
   },
   "cell_type": "code",
   "source": [
    "# Add standard deviation to the averages values\n",
    "df_summary = pd.merge(df_summary, df_stddev)\n",
    "df_summary['Value_with_StdDev'] = df_summary.apply(lambda row: f\"{row['Value']} ± {row['StdDev']}\", axis=1)"
   ],
   "id": "e11c883d21ac5e91",
   "outputs": [],
   "execution_count": 10
  },
  {
   "metadata": {
    "ExecuteTime": {
     "end_time": "2024-07-10T12:03:01.441385Z",
     "start_time": "2024-07-10T12:03:01.432924Z"
    }
   },
   "cell_type": "code",
   "source": [
    "# Print and write to file\n",
    "pivot_table = df_summary.pivot(index='Dataset', columns='Method', values='Value_with_StdDev').fillna('0 ± 0')\n",
    "pivot_table.reset_index(inplace=True)\n",
    "pivot_table.to_parquet('tabular_data.parquet')\n",
    "print(tabulate(pivot_table, headers='keys', tablefmt='pretty'))"
   ],
   "id": "94bc92eb98f3b90a",
   "outputs": [
    {
     "name": "stdout",
     "output_type": "stream",
     "text": [
      "+---+-------------+--------------------------+--------------------------+--------------------------+--------------------------+--------------------------+--------------------------+--------------------------+\n",
      "|   |   Dataset   |         autofeat         |        autogluon         |          boruta          |    correlationBasedFS    |           h2o            |          mljar           |         original         |\n",
      "+---+-------------+--------------------------+--------------------------+--------------------------+--------------------------+--------------------------+--------------------------+--------------------------+\n",
      "| 0 |   abalone   | 0.8791619555562445 ± 0.0 | 0.8933593902001659 ± 0.0 |          0 ± 0           |          0 ± 0           |          0 ± 0           |          0 ± 0           | 0.8967698071278396 ± 0.0 |\n",
      "| 1 | australian  |          0 ± 0           |          0 ± 0           | 0.8795748590552972 ± 0.0 | 0.8804072722834173 ± 0.0 |   0.910574796605 ± 0.0   |          0 ± 0           |          0 ± 0           |\n",
      "| 2 | bioresponse |          0 ± 0           |          0 ± 0           |          0 ± 0           |          0 ± 0           | 0.8606906198163633 ± 0.0 | 0.8714768632613419 ± 0.0 |          0 ± 0           |\n",
      "| 3 |  moneyball  | 0.8726606151425894 ± 0.0 | 0.8481521293247445 ± 0.0 |          0 ± 0           |          0 ± 0           |          0 ± 0           |          0 ± 0           | 0.8496083120542365 ± 0.0 |\n",
      "+---+-------------+--------------------------+--------------------------+--------------------------+--------------------------+--------------------------+--------------------------+--------------------------+\n"
     ]
    }
   ],
   "execution_count": 11
  },
  {
   "metadata": {},
   "cell_type": "markdown",
   "source": "### Boxplots",
   "id": "25e9e8fbbe3f48fd"
  },
  {
   "metadata": {
    "ExecuteTime": {
     "end_time": "2024-07-10T12:03:01.662122Z",
     "start_time": "2024-07-10T12:03:01.442427Z"
    }
   },
   "cell_type": "code",
   "source": [
    "# Extract values\n",
    "def extract_value(value_with_stddev):\n",
    "    value, _ = value_with_stddev.split(' ± ')\n",
    "    return float(value)\n",
    "\n",
    "pivot_table_numeric = pivot_table.set_index('Dataset').applymap(extract_value).reset_index()\n",
    "\n",
    "# Melt DataFrame to format for seaborn\n",
    "melted_df = pd.melt(pivot_table_numeric, id_vars=['Dataset'], var_name='Type', value_name='Value')\n",
    "\n",
    "plt.figure(figsize=(10, 6))\n",
    "sns.boxplot(x='Type', y='Value', data=melted_df)\n",
    "plt.xlabel(\"Type\")\n",
    "plt.ylabel(\"Value\")\n",
    "plt.title(\"Box Plot of Values by Type\")\n",
    "plt.xticks(rotation=45)  # Rotate x-axis labels if necessary\n",
    "plt.grid(True)\n",
    "plt.tight_layout()\n",
    "plt.savefig('plots/box_plot.png')\n",
    "plt.show()"
   ],
   "id": "9b649b0cecc589e8",
   "outputs": [
    {
     "data": {
      "text/plain": [
       "<Figure size 1000x600 with 1 Axes>"
      ],
      "image/png": "[encoded data removed]"
     },
     "metadata": {},
     "output_type": "display_data"
    }
   ],
   "execution_count": 12
  }
 ],
 "metadata": {
  "kernelspec": {
   "display_name": "Python 3",
   "language": "python",
   "name": "python3"
  },
  "language_info": {
   "codemirror_mode": {
    "name": "ipython",
    "version": 2
   },
   "file_extension": ".py",
   "mimetype": "text/x-python",
   "name": "python",
   "nbconvert_exporter": "python",
   "pygments_lexer": "ipython2",
   "version": "2.7.6"
  }
 },
 "nbformat": 4,
 "nbformat_minor": 5
}
