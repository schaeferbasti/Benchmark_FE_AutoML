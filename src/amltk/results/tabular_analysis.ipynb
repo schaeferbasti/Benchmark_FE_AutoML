{
 "cells": [
  {
   "metadata": {},
   "cell_type": "markdown",
   "source": [
    "# Analysis of the AMLTK Pipeline\n",
    "OpenFE-like Analysis"
   ],
   "id": "146bdc70903a3128"
  },
  {
   "metadata": {},
   "cell_type": "markdown",
   "source": "### To Do for the User",
   "id": "58c202e150c98a6b"
  },
  {
   "metadata": {
    "ExecuteTime": {
     "end_time": "2024-05-25T21:15:40.663051Z",
     "start_time": "2024-05-25T21:15:40.656157Z"
    }
   },
   "cell_type": "code",
   "source": [
    "# TODO 1 for the user: Adapt list of labels (has to correspond to the method names for which the AMLTK was executed in the src/amtlk/main.py main()-method\n",
    "label_list = ['Original Data', 'Self-feature-engineered Data', 'autofeat Data', 'OpenFE Data', 'H2O', 'MLJAR', 'AutoGluon']\n",
    "# TODO 2 for the user: Adjust part size number according to the max_trials variable defined in src/amltk/main.py\n",
    "part_size = 10\n",
    "# TODO 3 for the user: Define the names of the used datasets\n",
    "# all 10 datasets\n",
    "datasets = [\"abalone dataset\", \"moneyball dataset\", \"australian dataset\", \"blood transfusion service center dataset\", \"car dataset\", \"churn dataset\", \"credit g dataset\", \"kr-vs-kp dataset\", \"pc4 dataset\", \"wilt dataset\"]#, \"wine-quality-white dataset\"]\n",
    "# 5 small datasets\n",
    "# datasets = [\"australian dataset\", \"blood transfusion service center dataset\", \"car dataset\", \"credit g dataset\", \"wilt dataset\"]\n",
    "# 1 dataset to test new methods\n",
    "# datasets = ['blood transfusion service center dataset']\n",
    "# TODO 4 for the user. Define number of folds\n",
    "folds = 1"
   ],
   "id": "ad49e094ce21437c",
   "outputs": [],
   "execution_count": 158
  },
  {
   "metadata": {},
   "cell_type": "markdown",
   "source": "### Imports\n",
   "id": "9af30369bbe6f3a2"
  },
  {
   "metadata": {
    "ExecuteTime": {
     "end_time": "2024-05-25T21:15:40.669033Z",
     "start_time": "2024-05-25T21:15:40.665714Z"
    }
   },
   "cell_type": "code",
   "source": [
    "import pandas as pd\n",
    "import numpy as np\n",
    "from tabulate import tabulate\n",
    "\n",
    "import warnings\n",
    "warnings.simplefilter(action='ignore', category=FutureWarning)"
   ],
   "id": "45f7d1e9c31a38a5",
   "outputs": [],
   "execution_count": 159
  },
  {
   "metadata": {},
   "cell_type": "markdown",
   "source": "### Read Files",
   "id": "b24031355132aed5"
  },
  {
   "metadata": {
    "ExecuteTime": {
     "end_time": "2024-05-25T21:15:41.008549Z",
     "start_time": "2024-05-25T21:15:40.670282Z"
    }
   },
   "cell_type": "code",
   "source": [
    "df_all = pd.DataFrame(columns=['Dataset', 'Type', 'Fold', 'Value'])\n",
    "\n",
    "# Process the data\n",
    "for dataset in datasets:\n",
    "    for fold in range(folds):\n",
    "        dataset_cleaned = dataset.replace(\" \", \"_\").replace(\"-\", \"_\")\n",
    "        df_fold = pd.read_parquet(f\"results_{dataset_cleaned}_fold_{fold}.parquet\")\n",
    "\n",
    "        for i, label in enumerate(label_list):\n",
    "            metric_accuracy = df_fold[\"metric:accuracy [0.0, 1.0] (maximize)\"].tolist()\n",
    "            metric_accuracy = [sum(metric_accuracy[x:x+part_size]) for x in range(0, len(metric_accuracy), part_size)]\n",
    "\n",
    "            # Only add value if lengths match\n",
    "            if len(metric_accuracy) == len(label_list):\n",
    "                value = metric_accuracy[i]\n",
    "                df_all = df_all._append({'Dataset': dataset, 'Type': label, 'Fold': fold, 'Value': value}, ignore_index=True)\n",
    "\n",
    "# Summarize by grouping and pivot the DataFrame\n",
    "df_summary = df_all.groupby(['Dataset', 'Type'])['Value'].sum().reset_index()\n",
    "pivot_table = df_summary.pivot(index='Dataset', columns='Type', values='Value').fillna(0)\n",
    "\n",
    "pivot_table.reset_index(inplace=True)\n",
    "pivot_table.to_parquet(\"tabular_data.parquet\")\n",
    "\n",
    "# Print the tabulated format using tabulate\n",
    "print(tabulate(pivot_table, headers='keys', tablefmt='pretty'))"
   ],
   "id": "cc6371399537f2fb",
   "outputs": [
    {
     "name": "stdout",
     "output_type": "stream",
     "text": [
      "+---+------------------------------------------+-------------------+--------------------+-------------------+--------------------+-------------------+------------------------------+-------------------+\n",
      "|   |                 Dataset                  |     AutoGluon     |        H2O         |       MLJAR       |    OpenFE Data     |   Original Data   | Self-feature-engineered Data |   autofeat Data   |\n",
      "+---+------------------------------------------+-------------------+--------------------+-------------------+--------------------+-------------------+------------------------------+-------------------+\n",
      "| 0 |             abalone dataset              | 0.472740779385746 | 2.4448526743183776 | 2.517729551331489 | 2.4522926779476477 | 2.539019189765458 |      2.522525291475752       | 2.545399333121626 |\n",
      "| 1 |            australian dataset            | 8.70004995004995  | 8.587745587745587  | 8.616487678987678 | 8.671599234099233  | 8.650120712620712 |       8.38838245088245       | 8.65174408924409  |\n",
      "| 2 | blood transfusion service center dataset | 7.668522408963586 | 7.571901260504202  | 7.594152661064425 | 7.558350840336134  | 7.668522408963586 |      7.6106092436974775      | 7.634296218487394 |\n",
      "| 3 |               car dataset                | 8.185867697594503 |        0.0         | 9.333743061062648 | 9.663663098070314  | 8.477917657943431 |      7.9402788791964065      | 9.518358445678032 |\n",
      "| 4 |              churn dataset               | 9.186449134972156 | 9.183559651207627  | 9.322007958129745 | 9.530903728121464  | 9.213124909135733 |      8.958455275816513       | 9.367345672964484 |\n",
      "| 5 |             credit g dataset             | 7.472927860303413 | 7.345132743362832  | 7.485283659924146 | 7.481807048040455  | 7.368441845764854 |      7.337636298988622       | 7.472927860303413 |\n",
      "| 6 |             kr-vs-kp dataset             | 9.816731468585576 |  9.77570024760136  | 9.834118693902816 | 9.915498297740637  | 9.831340916125038 |      9.205354379449087       | 9.868561397400185 |\n",
      "| 7 |               pc4 dataset                | 8.973323170731707 | 8.925304878048781  | 8.970274390243903 | 9.134146341463413  | 8.973323170731707 |      8.836128048780488       | 8.984756097560975 |\n",
      "| 8 |               wilt dataset               | 9.643629840124122 | 9.458333614409067  | 9.790125809498111 | 9.815838758094982  | 9.643629840124122 |      9.567399150026983       | 9.814915424311927 |\n",
      "+---+------------------------------------------+-------------------+--------------------+-------------------+--------------------+-------------------+------------------------------+-------------------+\n"
     ]
    }
   ],
   "execution_count": 160
  }
 ],
 "metadata": {
  "kernelspec": {
   "display_name": "Python 3",
   "language": "python",
   "name": "python3"
  },
  "language_info": {
   "codemirror_mode": {
    "name": "ipython",
    "version": 2
   },
   "file_extension": ".py",
   "mimetype": "text/x-python",
   "name": "python",
   "nbconvert_exporter": "python",
   "pygments_lexer": "ipython2",
   "version": "2.7.6"
  }
 },
 "nbformat": 4,
 "nbformat_minor": 5
}
