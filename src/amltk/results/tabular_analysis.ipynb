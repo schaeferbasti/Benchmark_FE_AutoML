{
 "cells": [
  {
   "metadata": {},
   "cell_type": "markdown",
   "source": [
    "# Analysis of the AMLTK Pipeline\n",
    "OpenFE-like Analysis"
   ],
   "id": "146bdc70903a3128"
  },
  {
   "metadata": {},
   "cell_type": "markdown",
   "source": "### To Do for the User",
   "id": "58c202e150c98a6b"
  },
  {
   "metadata": {
    "ExecuteTime": {
     "end_time": "2024-08-16T14:14:41.438812Z",
     "start_time": "2024-08-16T14:14:41.436013Z"
    }
   },
   "cell_type": "code",
   "source": "# Nothing To Do",
   "id": "ad49e094ce21437c",
   "outputs": [],
   "execution_count": 5
  },
  {
   "metadata": {},
   "cell_type": "markdown",
   "source": "### Imports\n",
   "id": "9af30369bbe6f3a2"
  },
  {
   "metadata": {
    "ExecuteTime": {
     "end_time": "2024-08-16T14:14:41.453650Z",
     "start_time": "2024-08-16T14:14:41.450567Z"
    }
   },
   "cell_type": "code",
   "source": [
    "import os\n",
    "import numpy as np\n",
    "\n",
    "import pandas as pd\n",
    "import seaborn as sns\n",
    "import matplotlib.pyplot as plt\n",
    "from tabulate import tabulate\n",
    "\n",
    "import warnings\n",
    "warnings.simplefilter(action='ignore', category=FutureWarning)"
   ],
   "id": "45f7d1e9c31a38a5",
   "outputs": [],
   "execution_count": 6
  },
  {
   "metadata": {},
   "cell_type": "markdown",
   "source": "### Read Files",
   "id": "b24031355132aed5"
  },
  {
   "metadata": {
    "ExecuteTime": {
     "end_time": "2024-08-16T14:14:41.472869Z",
     "start_time": "2024-08-16T14:14:41.467719Z"
    }
   },
   "cell_type": "code",
   "source": [
    "files_2 = os.listdir(os.curdir + \"/second_try\")\n",
    "files_3 = os.listdir(os.curdir + \"/third_try\")\n",
    "files_4 = os.listdir(os.curdir + \"/fourth_try\")\n",
    "parquet_files = []\n",
    "for file in files_2:\n",
    "    if file.endswith(\".parquet\") and not file.__contains__(\"tabular_data\"):\n",
    "        parquet_files.append(file)\n",
    "for file in files_3:\n",
    "    if file.endswith(\".parquet\") and not file.__contains__(\"tabular_data\"):\n",
    "        parquet_files.append(file)\n",
    "for file in files_4:\n",
    "    if file.endswith(\".parquet\") and not file.__contains__(\"tabular_data\"):\n",
    "        parquet_files.append(file)\n",
    "print(parquet_files[1])"
   ],
   "id": "fdff4d8293b912bd",
   "outputs": [
    {
     "name": "stdout",
     "output_type": "stream",
     "text": [
      "results_car_dataset_bioautoml_lgbm_classifier_pipeline_6.parquet\n"
     ]
    }
   ],
   "execution_count": 7
  },
  {
   "metadata": {
    "ExecuteTime": {
     "end_time": "2024-08-16T14:14:58.547296Z",
     "start_time": "2024-08-16T14:14:41.474549Z"
    }
   },
   "cell_type": "code",
   "source": [
    "df_all = pd.DataFrame(columns=['Dataset', 'Method', 'Fold', 'Value'])\n",
    "\n",
    "for file in parquet_files:\n",
    "    core_name = file[len('results_'):-len('.parquet')]\n",
    "    parts = core_name.split('_')\n",
    "    if parts[1] == \"dataset\":\n",
    "        dataset = parts[0]\n",
    "        method = parts[2]\n",
    "        fold = parts[-1]\n",
    "    elif parts[2] == \"dataset\":\n",
    "        dataset = parts[0] + parts[1]\n",
    "        method = parts[3]\n",
    "        fold = parts[-1]\n",
    "    elif parts[3] == \"dataset\":\n",
    "        dataset = parts[0] + parts[1] + parts[2]\n",
    "        method = parts[4]\n",
    "        fold = parts[-1]\n",
    "    if method == \"xxx\":\n",
    "        print(\"xxx is not a valid method name\")\n",
    "    else:\n",
    "        try:\n",
    "            df = pd.read_parquet(\"second_try/\" + file)\n",
    "        except:\n",
    "            try:\n",
    "                df = pd.read_parquet(\"third_try/\" + file)\n",
    "            except:\n",
    "                df = pd.read_parquet(\"fourth_try/\" + file)\n",
    "        df = df[df['status'] == 'success']\n",
    "        try:\n",
    "            metric_accuracy = df[\"metric:roc_auc_ovo [0.0, 1.0] (maximize)\"].tolist()\n",
    "            value = np.average(metric_accuracy)\n",
    "            df_all = df_all._append({'Dataset': dataset, 'Method': method, 'Fold': fold, 'Value': value}, ignore_index=True)\n",
    "        except KeyError as e:\n",
    "            print(str(e) + \" for file \" + str(file))\n",
    "print(df_all)"
   ],
   "id": "cc6371399537f2fb",
   "outputs": [
    {
     "name": "stdout",
     "output_type": "stream",
     "text": [
      "'metric:roc_auc_ovo [0.0, 1.0] (maximize)' for file results_abalone_dataset_mljar_lgbm_classifier_pipeline_4.parquet\n",
      "'metric:roc_auc_ovo [0.0, 1.0] (maximize)' for file results_blood_transfusion_service_center_dataset_original_lgbm_classifier_pipeline_4.parquet\n",
      "'metric:roc_auc_ovo [0.0, 1.0] (maximize)' for file results_moneyball_dataset_mljar_lgbm_classifier_pipeline_5.parquet\n",
      "'metric:roc_auc_ovo [0.0, 1.0] (maximize)' for file results_moneyball_dataset_mljar_lgbm_classifier_pipeline_0.parquet\n",
      "'metric:roc_auc_ovo [0.0, 1.0] (maximize)' for file results_abalone_dataset_mljar_lgbm_classifier_pipeline_2.parquet\n",
      "'metric:roc_auc_ovo [0.0, 1.0] (maximize)' for file results_moneyball_dataset_autogluon_lgbm_classifier_pipeline_6.parquet\n",
      "'metric:roc_auc_ovo [0.0, 1.0] (maximize)' for file results_moneyball_dataset_original_lgbm_classifier_pipeline_4.parquet\n",
      "'metric:roc_auc_ovo [0.0, 1.0] (maximize)' for file results_abalone_dataset_mljar_lgbm_classifier_pipeline_3.parquet\n",
      "'metric:roc_auc_ovo [0.0, 1.0] (maximize)' for file results_wine_quality_white_dataset_correlationBasedFS_lgbm_classifier_pipeline_9.parquet\n",
      "'metric:roc_auc_ovo [0.0, 1.0] (maximize)' for file results_abalone_dataset_mljar_lgbm_classifier_pipeline_1.parquet\n",
      "'metric:roc_auc_ovo [0.0, 1.0] (maximize)' for file results_abalone_dataset_mljar_lgbm_classifier_pipeline_0.parquet\n",
      "'metric:roc_auc_ovo [0.0, 1.0] (maximize)' for file results_abalone_dataset_h2o_lgbm_classifier_pipeline_0.parquet\n",
      "'metric:roc_auc_ovo [0.0, 1.0] (maximize)' for file results_abalone_dataset_h2o_lgbm_classifier_pipeline_9.parquet\n",
      "'metric:roc_auc_ovo [0.0, 1.0] (maximize)' for file results_abalone_dataset_h2o_lgbm_classifier_pipeline_2.parquet\n",
      "'metric:roc_auc_ovo [0.0, 1.0] (maximize)' for file results_moneyball_dataset_h2o_lgbm_classifier_pipeline_6.parquet\n",
      "'metric:roc_auc_ovo [0.0, 1.0] (maximize)' for file results_moneyball_dataset_h2o_lgbm_classifier_pipeline_4.parquet\n",
      "'metric:roc_auc_ovo [0.0, 1.0] (maximize)' for file results_wine_quality_white_dataset_h2o_lgbm_classifier_pipeline_7.parquet\n",
      "'metric:roc_auc_ovo [0.0, 1.0] (maximize)' for file results_moneyball_dataset_h2o_lgbm_classifier_pipeline_5.parquet\n",
      "'metric:roc_auc_ovo [0.0, 1.0] (maximize)' for file results_abalone_dataset_openfe_lgbm_classifier_pipeline_lgbm_lgbm_3.parquet\n",
      "'metric:roc_auc_ovo [0.0, 1.0] (maximize)' for file results_abalone_dataset_openfe_lgbm_classifier_pipeline_lgbm_lgbm_2.parquet\n",
      "'metric:roc_auc_ovo [0.0, 1.0] (maximize)' for file results_abalone_dataset_openfe_lgbm_classifier_pipeline_lgbm_lgbm_9.parquet\n",
      "'metric:roc_auc_ovo [0.0, 1.0] (maximize)' for file results_abalone_dataset_openfe_lgbm_classifier_pipeline_lgbm_lgbm_0.parquet\n",
      "'metric:roc_auc_ovo [0.0, 1.0] (maximize)' for file results_abalone_dataset_openfe_lgbm_classifier_pipeline_lgbm_lgbm_1.parquet\n",
      "'metric:roc_auc_ovo [0.0, 1.0] (maximize)' for file results_abalone_dataset_openfe_lgbm_classifier_pipeline_lgbm_lgbm_8.parquet\n",
      "'metric:roc_auc_ovo [0.0, 1.0] (maximize)' for file results_abalone_dataset_openfe_lgbm_classifier_pipeline_lgbm_lgbm_4.parquet\n",
      "'metric:roc_auc_ovo [0.0, 1.0] (maximize)' for file results_abalone_dataset_openfe_lgbm_classifier_pipeline_lgbm_lgbm_5.parquet\n",
      "'metric:roc_auc_ovo [0.0, 1.0] (maximize)' for file results_abalone_dataset_openfe_lgbm_classifier_pipeline_lgbm_lgbm_7.parquet\n",
      "'metric:roc_auc_ovo [0.0, 1.0] (maximize)' for file results_moneyball_dataset_openfe_lgbm_classifier_pipeline_lgbm_lgbm_0.parquet\n",
      "'metric:roc_auc_ovo [0.0, 1.0] (maximize)' for file results_abalone_dataset_openfe_lgbm_classifier_pipeline_lgbm_lgbm_6.parquet\n",
      "              Dataset              Method Fold     Value\n",
      "0                wilt           bioautoml    2  0.986178\n",
      "1                 car           bioautoml    6  0.772343\n",
      "2    winequalitywhite           autogluon    4  0.942185\n",
      "3              krvskp            autofeat    9  0.938921\n",
      "4             abalone  correlationBasedFS    0  0.984474\n",
      "..                ...                 ...  ...       ...\n",
      "849           abalone              boruta    8  0.888432\n",
      "850        australian              boruta    8  0.924352\n",
      "851             churn              openfe    2  0.956896\n",
      "852               car           autogluon    5  0.898011\n",
      "853           creditg              boruta    6  0.866598\n",
      "\n",
      "[854 rows x 4 columns]\n"
     ]
    }
   ],
   "execution_count": 8
  },
  {
   "metadata": {
    "ExecuteTime": {
     "end_time": "2024-08-16T14:14:58.557605Z",
     "start_time": "2024-08-16T14:14:58.547940Z"
    }
   },
   "cell_type": "code",
   "source": [
    "# Standard Deviation\n",
    "df_stddev = df_all.groupby(['Dataset', 'Method'])['Value'].std().reset_index()\n",
    "df_stddev.rename(columns={'Value': 'StdDev'}, inplace=True)\n",
    "df_stddev['StdDev'] = df_stddev['StdDev'].fillna(0)\n",
    "# Average values\n",
    "df_summary = df_all.groupby(['Dataset', 'Method'])['Value'].mean().reset_index().fillna(0)\n",
    "print(df_summary)"
   ],
   "id": "3020a585095f5f61",
   "outputs": [
    {
     "name": "stdout",
     "output_type": "stream",
     "text": [
      "              Dataset              Method     Value\n",
      "0             abalone            autofeat  0.819402\n",
      "1             abalone           autogluon  0.988046\n",
      "2             abalone              boruta  0.882522\n",
      "3             abalone  correlationBasedFS  0.871825\n",
      "4             abalone               mljar  0.906537\n",
      "..                ...                 ...       ...\n",
      "111  winequalitywhite           autogluon  0.862041\n",
      "112  winequalitywhite           bioautoml  0.814809\n",
      "113  winequalitywhite  correlationBasedFS  0.898586\n",
      "114  winequalitywhite                 h2o  0.931301\n",
      "115  winequalitywhite            original  0.793592\n",
      "\n",
      "[116 rows x 3 columns]\n"
     ]
    }
   ],
   "execution_count": 9
  },
  {
   "metadata": {
    "ExecuteTime": {
     "end_time": "2024-08-16T14:14:58.567321Z",
     "start_time": "2024-08-16T14:14:58.558790Z"
    }
   },
   "cell_type": "code",
   "source": [
    "# Add standard deviation to the averages values\n",
    "df_summary = pd.merge(df_summary, df_stddev)\n",
    "df_summary['Value_with_StdDev'] = df_summary.apply(lambda row: f\"{row['Value']} ± {row['StdDev']}\", axis=1)\n",
    "print(df_summary)"
   ],
   "id": "e11c883d21ac5e91",
   "outputs": [
    {
     "name": "stdout",
     "output_type": "stream",
     "text": [
      "              Dataset              Method     Value    StdDev  \\\n",
      "0             abalone            autofeat  0.819402  0.101732   \n",
      "1             abalone           autogluon  0.988046  0.000697   \n",
      "2             abalone              boruta  0.882522  0.051062   \n",
      "3             abalone  correlationBasedFS  0.871825  0.064189   \n",
      "4             abalone               mljar  0.906537  0.027967   \n",
      "..                ...                 ...       ...       ...   \n",
      "111  winequalitywhite           autogluon  0.862041  0.086511   \n",
      "112  winequalitywhite           bioautoml  0.814809  0.119195   \n",
      "113  winequalitywhite  correlationBasedFS  0.898586  0.136011   \n",
      "114  winequalitywhite                 h2o  0.931301  0.004015   \n",
      "115  winequalitywhite            original  0.793592  0.098753   \n",
      "\n",
      "                              Value_with_StdDev  \n",
      "0       0.8194015784898294 ± 0.1017316426295408  \n",
      "1    0.9880464056575461 ± 0.0006970561316272044  \n",
      "2      0.8825222913243327 ± 0.05106192258216179  \n",
      "3      0.8718249558849116 ± 0.06418907916916664  \n",
      "4     0.9065366690453756 ± 0.027967032734993923  \n",
      "..                                          ...  \n",
      "111    0.8620411768682991 ± 0.08651077253841949  \n",
      "112    0.8148094889508789 ± 0.11919462018573637  \n",
      "113     0.8985861818427876 ± 0.1360114341388088  \n",
      "114   0.9313013410967348 ± 0.004014590879946034  \n",
      "115    0.7935923926807757 ± 0.09875319090187777  \n",
      "\n",
      "[116 rows x 5 columns]\n"
     ]
    }
   ],
   "execution_count": 10
  },
  {
   "metadata": {
    "ExecuteTime": {
     "end_time": "2024-08-16T14:14:58.584764Z",
     "start_time": "2024-08-16T14:14:58.568642Z"
    }
   },
   "cell_type": "code",
   "source": [
    "# Print and write to file\n",
    "pivot_table = df_summary.pivot(index='Dataset', columns='Method', values='Value_with_StdDev').fillna('Failed')\n",
    "pivot_table.reset_index(inplace=True)\n",
    "pivot_table.to_parquet('tabular_data.parquet')\n",
    "print(tabulate(pivot_table, headers='keys', tablefmt='pretty'))"
   ],
   "id": "94bc92eb98f3b90a",
   "outputs": [
    {
     "name": "stdout",
     "output_type": "stream",
     "text": [
      "+----+------------------------+-------------------------------------------+--------------------------------------------+-------------------------------------------+--------------------------------------------+-------------------------------------------+-------------------------------------------+-------------------------------------------+------------------------------------------+-------------------------------------------+\n",
      "|    |        Dataset         |                 autofeat                  |                 autogluon                  |                 bioautoml                 |                   boruta                   |            correlationBasedFS             |                    h2o                    |                   mljar                   |                  openfe                  |                 original                  |\n",
      "+----+------------------------+-------------------------------------------+--------------------------------------------+-------------------------------------------+--------------------------------------------+-------------------------------------------+-------------------------------------------+-------------------------------------------+------------------------------------------+-------------------------------------------+\n",
      "| 0  |        abalone         |  0.8194015784898294 ± 0.1017316426295408  | 0.9880464056575461 ± 0.0006970561316272044 |                  Failed                   |  0.8825222913243327 ± 0.05106192258216179  | 0.8718249558849116 ± 0.06418907916916664  |                  Failed                   | 0.9065366690453756 ± 0.027967032734993923 |                  Failed                  | 0.9220546053046594 ± 0.02971391233483771  |\n",
      "| 1  |       australian       | 0.8542997800438551 ± 0.08971174006093109  |  0.744631574362767 ± 0.012700916371611914  |                  Failed                   |  0.8806502079824351 ± 0.04369985739210765  | 0.8295351984075391 ± 0.048554150165285186 | 0.7198733418063107 ± 0.016119939848684792 | 0.8927051762257942 ± 0.08008168889898327  | 0.8509496765791776 ± 0.03581595960826208 | 0.8758764126618763 ± 0.08565244531285042  |\n",
      "| 2  |      bioresponse       |                  Failed                   | 0.7547462852836957 ± 0.062487803244902364  | 0.8849653404795725 ± 0.07753546233715496  |  0.8613380712697131 ± 0.05623228915792643  |                  Failed                   |  0.6942983867000283 ± 0.0196331200138928  | 0.8610900326148757 ± 0.06199563810753851  |                  Failed                  | 0.8997770221731992 ± 0.06295072635743637  |\n",
      "| 3  |          car           |  0.8408859886264751 ± 0.0961944987114638  |  0.8862574728813104 ± 0.04549919695159032  |  0.819605987379247 ± 0.0660055594859167   | 0.8635906141045786 ± 0.052040925786856325  | 0.6638880727709618 ± 0.024889309511862703 |  0.690046246660246 ± 0.01521602220756849  | 0.8934624438698769 ± 0.06902162276216363  | 0.9271435772110459 ± 0.03070526808186203 | 0.9197291968535585 ± 0.03634818966255844  |\n",
      "| 4  |         churn          | 0.9852346203071739 ± 0.01383681692705294  | 0.8953151233744542 ± 0.039661211339240166  | 0.8458429768993561 ± 0.08752486535554371  |  0.8860941314019745 ± 0.04395655566397232  | 0.6652941267863438 ± 0.03743706114318039  | 0.6878755866071001 ± 0.018653095698970758 | 0.8490126912325043 ± 0.08195752110475908  | 0.8908144034683517 ± 0.04274368511421341 | 0.8762556126646086 ± 0.09504550806901742  |\n",
      "| 5  |        creditg         | 0.8225935850487778 ± 0.09585236440949237  |                   Failed                   | 0.7866832045615908 ± 0.061391135410357046 |  0.8561256173753944 ± 0.04295294069853894  | 0.6522391210879072 ± 0.01660706340888032  | 0.7413784017468769 ± 0.09733967982953731  | 0.8418646507279558 ± 0.05615514728621626  |                  Failed                  | 0.8724955807148831 ± 0.07222799352373331  |\n",
      "| 6  |          dna           |         0.9961905504387769 ± 0.0          |  0.9358637693535113 ± 0.11754256363480994  |  0.898425632119619 ± 0.09722552036787081  | 0.9742393019085619 ± 0.007026358760236767  | 0.6954827299508721 ± 0.06979356679316517  |  0.7987157888272898 ± 0.135921794867315   | 0.8866056828009293 ± 0.09121022263211859  | 0.9031376395733589 ± 0.13498133209846985 |  0.9013099918519829 ± 0.0511158231395866  |\n",
      "| 7  |          gina          |                  Failed                   |  0.9433814398187094 ± 0.10551822425674473  | 0.8948891737624646 ± 0.10539652792062669  | 0.9836885986070267 ± 0.007874034810349612  |  0.712252107925479 ± 0.03336075448168162  | 0.9427428548527189 ± 0.005089817991339251 | 0.9211044515319047 ± 0.07472300252061481  |                  Failed                  | 0.9038943006938488 ± 0.048729817575913575 |\n",
      "| 8  | internetadvertisements |                  Failed                   |  0.979085991016964 ± 0.017104389034332958  | 0.9777575398044762 ± 0.009731247371568035 | 0.9735907607316364 ± 0.0037801890603654754 |         0.9173157337781506 ± 0.0          |  0.841266486227779 ± 0.14629113091056456  | 0.9214588896554821 ± 0.08069154785742787  |                  Failed                  | 0.9255779864219337 ± 0.010681982577200778 |\n",
      "| 9  |         krvskp         | 0.9386504428492958 ± 0.08365790365614349  |  0.9595791799811109 ± 0.07894905464776812  |  0.90837174730785 ± 0.14412012093106882   | 0.9757847345614461 ± 0.0008845712307620162 |  0.732731321667328 ± 0.06694035048089239  | 0.942618829498519 ± 0.0069096996144491435 | 0.9285018226676179 ± 0.09034987333460558  |                  Failed                  | 0.9292909166477578 ± 0.005507000097968827 |\n",
      "| 10 |        madeline        |                  Failed                   |                   Failed                   |  0.857789236806444 ± 0.1325206196575541   | 0.9759160003699616 ± 0.006553556451039409  | 0.7169476838721791 ± 0.06275439404544375  | 0.9370703871957176 ± 0.010284682885086629 | 0.9422497811041411 ± 0.008135314267027866 |                  Failed                  | 0.9021989496477403 ± 0.03126568234889316  |\n",
      "| 11 |      mfeatfactors      |                  Failed                   | 0.9721740728523619 ± 0.022941145660106355  | 0.7439055491682564 ± 0.11893063597603322  |  0.9093058504268912 ± 0.13002618398658608  |  0.759473972044774 ± 0.09374499896193944  | 0.946492806514102 ± 0.008893985484706844  | 0.9824978137347119 ± 0.01491847510495016  |                  Failed                  | 0.9146986805327476 ± 0.03996048868964189  |\n",
      "| 12 |       moneyball        | 0.8359432634516457 ± 0.09109172373479321  |          0.9965756917355153 ± 0.0          |                  Failed                   |  0.8787428241653977 ± 0.05485861799698742  |                  Failed                   |          0.684206197228709 ± 0.0          | 0.9355957263326126 ± 0.050430108586709786 |                  Failed                  | 0.9119449286375376 ± 0.08498329540219988  |\n",
      "| 13 |          pc4           | 0.9536417450595238 ± 0.013368035679634804 |   0.94755927681705 ± 0.08169635112120442   |  0.911765123266196 ± 0.06663770635825293  | 0.9679830274667616 ± 0.004303713408772779  |  0.7335485208948657 ± 0.0513553153555975  | 0.9413238225539983 ± 0.005205696588718992 | 0.9600831479118158 ± 0.01282299638185154  |                  Failed                  | 0.9039145485168216 ± 0.07043773276707434  |\n",
      "| 14 |          wilt          | 0.9298836019493438 ± 0.11390168402279446  |  0.9336082493279716 ± 0.07160708600849394  | 0.8916512400715453 ± 0.07369875516134718  |  0.9524671237127557 ± 0.08011652048301118  | 0.9232039908309387 ± 0.09894986090665658  |  0.890861303574836 ± 0.10152131911616318  |                  Failed                   |                  Failed                  | 0.9335379267976026 ± 0.01040291969207195  |\n",
      "| 15 |    winequalitywhite    | 0.8485698550967256 ± 0.17818802057108346  |  0.8620411768682991 ± 0.08651077253841949  | 0.8148094889508789 ± 0.11919462018573637  |                   Failed                   |  0.8985861818427876 ± 0.1360114341388088  | 0.9313013410967348 ± 0.004014590879946034 |                  Failed                   |                  Failed                  | 0.7935923926807757 ± 0.09875319090187777  |\n",
      "+----+------------------------+-------------------------------------------+--------------------------------------------+-------------------------------------------+--------------------------------------------+-------------------------------------------+-------------------------------------------+-------------------------------------------+------------------------------------------+-------------------------------------------+\n"
     ]
    }
   ],
   "execution_count": 11
  },
  {
   "metadata": {},
   "cell_type": "markdown",
   "source": "### Boxplots",
   "id": "25e9e8fbbe3f48fd"
  },
  {
   "metadata": {
    "ExecuteTime": {
     "end_time": "2024-08-16T14:14:58.839669Z",
     "start_time": "2024-08-16T14:14:58.585649Z"
    }
   },
   "cell_type": "code",
   "source": [
    "# Extract values\n",
    "def extract_value(value_with_stddev):\n",
    "    try:\n",
    "        value, _ = value_with_stddev.split(' ± ')\n",
    "        return float(value)\n",
    "    except:\n",
    "        return None        \n",
    "\n",
    "pivot_table_numeric = pivot_table.set_index('Dataset').applymap(extract_value).reset_index()\n",
    "\n",
    "# Melt DataFrame to format for seaborn\n",
    "melted_df = pd.melt(pivot_table_numeric, id_vars=['Dataset'], var_name='Type', value_name='Value')\n",
    "\n",
    "plt.figure(figsize=(10, 6))\n",
    "sns.boxplot(x='Type', y='Value', data=melted_df)\n",
    "plt.xlabel(\"Type\")\n",
    "plt.ylabel(\"Value\")\n",
    "plt.title(\"Box Plot of Values by Type\")\n",
    "plt.xticks(rotation=45)  # Rotate x-axis labels if necessary\n",
    "plt.grid(True)\n",
    "plt.tight_layout()\n",
    "plt.savefig('plots/box_plot.png')\n",
    "plt.show()"
   ],
   "id": "9b649b0cecc589e8",
   "outputs": [
    {
     "data": {
      "text/plain": [
       "<Figure size 1000x600 with 1 Axes>"
      ],
      "image/png": "[encoded data removed]"
     },
     "metadata": {},
     "output_type": "display_data"
    }
   ],
   "execution_count": 12
  }
 ],
 "metadata": {
  "kernelspec": {
   "display_name": "Python 3",
   "language": "python",
   "name": "python3"
  },
  "language_info": {
   "codemirror_mode": {
    "name": "ipython",
    "version": 2
   },
   "file_extension": ".py",
   "mimetype": "text/x-python",
   "name": "python",
   "nbconvert_exporter": "python",
   "pygments_lexer": "ipython2",
   "version": "2.7.6"
  }
 },
 "nbformat": 4,
 "nbformat_minor": 5
}
