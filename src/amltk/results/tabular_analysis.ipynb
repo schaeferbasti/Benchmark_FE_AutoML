{
 "cells": [
  {
   "metadata": {},
   "cell_type": "markdown",
   "source": [
    "# Analysis of the AMLTK Pipeline\n",
    "OpenFE-like Analysis"
   ],
   "id": "146bdc70903a3128"
  },
  {
   "metadata": {},
   "cell_type": "markdown",
   "source": "### To Do for the User",
   "id": "58c202e150c98a6b"
  },
  {
   "metadata": {
    "ExecuteTime": {
     "end_time": "2024-05-25T21:47:05.204648Z",
     "start_time": "2024-05-25T21:47:05.201569Z"
    }
   },
   "cell_type": "code",
   "source": [
    "# TODO 1 for the user: Adapt list of labels (has to correspond to the method names for which the AMLTK was executed in the src/amtlk/main.py main()-method\n",
    "label_list = ['Original Data', 'Self-feature-engineered Data', 'autofeat Data', 'OpenFE Data', 'H2O', 'MLJAR', 'AutoGluon']\n",
    "# TODO 2 for the user: Adjust part size number according to the max_trials variable defined in src/amltk/main.py\n",
    "part_size = 10\n",
    "# TODO 3 for the user: Define the names of the used datasets\n",
    "# all 10 datasets\n",
    "datasets = [\"abalone dataset\", \"moneyball dataset\", \"australian dataset\", \"blood transfusion service center dataset\", \"car dataset\", \"churn dataset\", \"credit g dataset\", \"kr-vs-kp dataset\", \"pc4 dataset\", \"wilt dataset\"]#, \"wine-quality-white dataset\"]\n",
    "# 5 small datasets\n",
    "# datasets = [\"australian dataset\", \"blood transfusion service center dataset\", \"car dataset\", \"credit g dataset\", \"wilt dataset\"]\n",
    "# 1 dataset to test new methods\n",
    "# datasets = ['blood transfusion service center dataset']\n",
    "# TODO 4 for the user. Define number of folds\n",
    "folds = 1"
   ],
   "id": "ad49e094ce21437c",
   "outputs": [],
   "execution_count": 191
  },
  {
   "metadata": {},
   "cell_type": "markdown",
   "source": "### Imports\n",
   "id": "9af30369bbe6f3a2"
  },
  {
   "metadata": {
    "ExecuteTime": {
     "end_time": "2024-05-25T21:47:05.209017Z",
     "start_time": "2024-05-25T21:47:05.206181Z"
    }
   },
   "cell_type": "code",
   "source": [
    "import pandas as pd\n",
    "import statistics\n",
    "from tabulate import tabulate\n",
    "\n",
    "import warnings\n",
    "warnings.simplefilter(action='ignore', category=FutureWarning)"
   ],
   "id": "45f7d1e9c31a38a5",
   "outputs": [],
   "execution_count": 192
  },
  {
   "metadata": {},
   "cell_type": "markdown",
   "source": "### Read Files",
   "id": "b24031355132aed5"
  },
  {
   "metadata": {
    "ExecuteTime": {
     "end_time": "2024-05-25T21:47:05.417187Z",
     "start_time": "2024-05-25T21:47:05.209730Z"
    }
   },
   "cell_type": "code",
   "source": [
    "df_all = pd.DataFrame(columns=['Dataset', 'Type', 'Fold', 'Value'])\n",
    "\n",
    "# Process the data\n",
    "for dataset in datasets:\n",
    "    for fold in range(folds):\n",
    "        dataset_string = dataset.replace(\" \", \"_\").replace(\"-\", \"_\")\n",
    "        df_fold = pd.read_parquet(f\"results_{dataset_string}_fold_{fold}.parquet\")\n",
    "\n",
    "        for i, label in enumerate(label_list):\n",
    "            metric_accuracy = df_fold[\"metric:accuracy [0.0, 1.0] (maximize)\"].tolist()\n",
    "            metric_accuracy = [sum(metric_accuracy[x:x+part_size]) for x in range(0, len(metric_accuracy), part_size)]\n",
    "\n",
    "            # Only add value if lengths match\n",
    "            if len(metric_accuracy) == len(label_list):\n",
    "                value = metric_accuracy[i]\n",
    "                df_all = df_all._append({'Dataset': dataset, 'Type': label, 'Fold': fold, 'Value': value}, ignore_index=True)\n",
    "                \n",
    "# Standard Deviation\n",
    "df_stddev = df_all.groupby(['Dataset', 'Type'])['Value'].std().reset_index()\n",
    "df_stddev.rename(columns={'Value': 'StdDev'}, inplace=True)\n",
    "df_stddev['StdDev'] = df_stddev['StdDev'].fillna(0)\n",
    "# Average values\n",
    "df_summary = df_all.groupby(['Dataset', 'Type'])['Value'].mean().reset_index()\n",
    "\n",
    "# Add standard deviation to the averages values\n",
    "df_summary = pd.merge(df_summary, df_stddev)\n",
    "df_summary['Value_with_StdDev'] = df_summary.apply(lambda row: f\"{row['Value']} ± {row['StdDev']}\", axis=1)\n",
    "\n",
    "# Print and write to file\n",
    "pivot_table = df_summary.pivot(index='Dataset', columns='Type', values='Value_with_StdDev').fillna('0 ± 0')\n",
    "pivot_table.reset_index(inplace=True)\n",
    "pivot_table.to_parquet('tabular_data.parquet')\n",
    "print(tabulate(pivot_table, headers='keys', tablefmt='pretty'))"
   ],
   "id": "cc6371399537f2fb",
   "outputs": [
    {
     "name": "stdout",
     "output_type": "stream",
     "text": [
      "+---+------------------------------------------+-------------------------+--------------------------+-------------------------+--------------------------+-------------------------+------------------------------+-------------------------+\n",
      "|   |                 Dataset                  |        AutoGluon        |           H2O            |          MLJAR          |       OpenFE Data        |      Original Data      | Self-feature-engineered Data |      autofeat Data      |\n",
      "+---+------------------------------------------+-------------------------+--------------------------+-------------------------+--------------------------+-------------------------+------------------------------+-------------------------+\n",
      "| 0 |             abalone dataset              | 0.472740779385746 ± 0.0 | 2.4448526743183776 ± 0.0 | 2.517729551331489 ± 0.0 | 2.4522926779476477 ± 0.0 | 2.539019189765458 ± 0.0 |   2.522525291475752 ± 0.0    | 2.545399333121626 ± 0.0 |\n",
      "| 1 |            australian dataset            | 8.70004995004995 ± 0.0  | 8.587745587745587 ± 0.0  | 8.616487678987678 ± 0.0 | 8.671599234099233 ± 0.0  | 8.650120712620712 ± 0.0 |    8.38838245088245 ± 0.0    | 8.65174408924409 ± 0.0  |\n",
      "| 2 | blood transfusion service center dataset | 7.668522408963586 ± 0.0 | 7.571901260504202 ± 0.0  | 7.594152661064425 ± 0.0 | 7.558350840336134 ± 0.0  | 7.668522408963586 ± 0.0 |   7.6106092436974775 ± 0.0   | 7.634296218487394 ± 0.0 |\n",
      "| 3 |               car dataset                | 8.185867697594503 ± 0.0 |        nan ± 0.0         | 9.333743061062648 ± 0.0 | 9.663663098070314 ± 0.0  | 8.477917657943431 ± 0.0 |   7.9402788791964065 ± 0.0   | 9.518358445678032 ± 0.0 |\n",
      "| 4 |              churn dataset               | 9.186449134972156 ± 0.0 | 9.183559651207627 ± 0.0  | 9.322007958129745 ± 0.0 | 9.530903728121464 ± 0.0  | 9.213124909135733 ± 0.0 |   8.958455275816513 ± 0.0    | 9.367345672964484 ± 0.0 |\n",
      "| 5 |             credit g dataset             | 7.472927860303413 ± 0.0 | 7.345132743362832 ± 0.0  | 7.485283659924146 ± 0.0 | 7.481807048040455 ± 0.0  | 7.368441845764854 ± 0.0 |   7.337636298988622 ± 0.0    | 7.472927860303413 ± 0.0 |\n",
      "| 6 |             kr-vs-kp dataset             | 9.816731468585576 ± 0.0 |  9.77570024760136 ± 0.0  | 9.834118693902816 ± 0.0 | 9.915498297740637 ± 0.0  | 9.831340916125038 ± 0.0 |   9.205354379449087 ± 0.0    | 9.868561397400185 ± 0.0 |\n",
      "| 7 |               pc4 dataset                | 8.973323170731707 ± 0.0 | 8.925304878048781 ± 0.0  | 8.970274390243903 ± 0.0 | 9.134146341463413 ± 0.0  | 8.973323170731707 ± 0.0 |   8.836128048780488 ± 0.0    | 8.984756097560975 ± 0.0 |\n",
      "| 8 |               wilt dataset               | 9.643629840124122 ± 0.0 | 9.458333614409067 ± 0.0  | 9.790125809498111 ± 0.0 | 9.815838758094982 ± 0.0  | 9.643629840124122 ± 0.0 |   9.567399150026983 ± 0.0    | 9.814915424311927 ± 0.0 |\n",
      "+---+------------------------------------------+-------------------------+--------------------------+-------------------------+--------------------------+-------------------------+------------------------------+-------------------------+\n"
     ]
    }
   ],
   "execution_count": 193
  },
  {
   "metadata": {
    "ExecuteTime": {
     "end_time": "2024-05-25T21:47:05.419441Z",
     "start_time": "2024-05-25T21:47:05.417854Z"
    }
   },
   "cell_type": "code",
   "source": "",
   "id": "81cfc550cf6e4eb3",
   "outputs": [],
   "execution_count": 193
  }
 ],
 "metadata": {
  "kernelspec": {
   "display_name": "Python 3",
   "language": "python",
   "name": "python3"
  },
  "language_info": {
   "codemirror_mode": {
    "name": "ipython",
    "version": 2
   },
   "file_extension": ".py",
   "mimetype": "text/x-python",
   "name": "python",
   "nbconvert_exporter": "python",
   "pygments_lexer": "ipython2",
   "version": "2.7.6"
  }
 },
 "nbformat": 4,
 "nbformat_minor": 5
}
