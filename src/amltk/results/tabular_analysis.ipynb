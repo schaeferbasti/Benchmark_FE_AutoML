{
 "cells": [
  {
   "metadata": {},
   "cell_type": "markdown",
   "source": [
    "# Analysis of the AMLTK Pipeline\n",
    "OpenFE-like Analysis"
   ],
   "id": "146bdc70903a3128"
  },
  {
   "metadata": {},
   "cell_type": "markdown",
   "source": "### To Do for the User",
   "id": "58c202e150c98a6b"
  },
  {
   "metadata": {
    "ExecuteTime": {
     "end_time": "2024-09-05T15:03:25.679257Z",
     "start_time": "2024-09-05T15:03:25.676353Z"
    }
   },
   "cell_type": "code",
   "source": "# Nothing To Do",
   "id": "ad49e094ce21437c",
   "outputs": [],
   "execution_count": 13
  },
  {
   "metadata": {},
   "cell_type": "markdown",
   "source": "### Imports\n",
   "id": "9af30369bbe6f3a2"
  },
  {
   "metadata": {
    "ExecuteTime": {
     "end_time": "2024-09-05T15:03:25.685092Z",
     "start_time": "2024-09-05T15:03:25.681366Z"
    }
   },
   "cell_type": "code",
   "source": [
    "import os\n",
    "import numpy as np\n",
    "\n",
    "import pandas as pd\n",
    "import seaborn as sns\n",
    "import matplotlib.pyplot as plt\n",
    "from tabulate import tabulate\n",
    "\n",
    "import warnings\n",
    "warnings.simplefilter(action='ignore', category=FutureWarning)"
   ],
   "id": "45f7d1e9c31a38a5",
   "outputs": [],
   "execution_count": 14
  },
  {
   "metadata": {},
   "cell_type": "markdown",
   "source": "### Read Files",
   "id": "b24031355132aed5"
  },
  {
   "metadata": {
    "ExecuteTime": {
     "end_time": "2024-09-05T15:03:25.692064Z",
     "start_time": "2024-09-05T15:03:25.686841Z"
    }
   },
   "cell_type": "code",
   "source": [
    "files = os.listdir(os.curdir + \"/files\")\n",
    "parquet_files = []\n",
    "for file in files:\n",
    "    if file.endswith(\".parquet\") and not file.__contains__(\"tabular_data\"):\n",
    "        parquet_files.append(file)\n",
    "        parquet_files.append(file)"
   ],
   "id": "fdff4d8293b912bd",
   "outputs": [],
   "execution_count": 15
  },
  {
   "metadata": {
    "ExecuteTime": {
     "end_time": "2024-09-05T15:04:00.687945Z",
     "start_time": "2024-09-05T15:03:25.693544Z"
    }
   },
   "cell_type": "code",
   "source": [
    "df_all = pd.DataFrame(columns=['Dataset', 'Method', 'Fold', 'Value'])\n",
    "\n",
    "for file in parquet_files:\n",
    "    core_name = file[len('results_'):-len('.parquet')]\n",
    "    parts = core_name.split('_')\n",
    "    if parts[1] == \"dataset\":\n",
    "        dataset = parts[0]\n",
    "        method = parts[2]\n",
    "        fold = parts[-1]\n",
    "    elif parts[2] == \"dataset\":\n",
    "        dataset = parts[0] + parts[1]\n",
    "        method = parts[3]\n",
    "        fold = parts[-1]\n",
    "    elif parts[3] == \"dataset\":\n",
    "        dataset = parts[0] + parts[1] + parts[2]\n",
    "        method = parts[4]\n",
    "        fold = parts[-1]\n",
    "    if method == \"xxx\":\n",
    "        print(\"xxx is not a valid method name\")\n",
    "    else:\n",
    "        df = pd.read_parquet(\"files/\" + file)\n",
    "        \n",
    "            \n",
    "        df = df[df['status'] == 'success']\n",
    "        try:\n",
    "            metric_accuracy = df[\"metric:roc_auc_ovo [0.0, 1.0] (maximize)\"].tolist()\n",
    "            value = np.average(metric_accuracy)\n",
    "            df_all = df_all._append({'Dataset': dataset, 'Method': method, 'Fold': fold, 'Value': value}, ignore_index=True)\n",
    "        except KeyError as e:\n",
    "            print(str(e) + \" for file \" + str(file))"
   ],
   "id": "cc6371399537f2fb",
   "outputs": [
    {
     "name": "stdout",
     "output_type": "stream",
     "text": [
      "'metric:roc_auc_ovo [0.0, 1.0] (maximize)' for file results_moneyball_dataset_autogluon_lgbm_classifier_pipeline_1.parquet\n",
      "'metric:roc_auc_ovo [0.0, 1.0] (maximize)' for file results_moneyball_dataset_autogluon_lgbm_classifier_pipeline_1.parquet\n",
      "'metric:roc_auc_ovo [0.0, 1.0] (maximize)' for file results_abalone_dataset_h2o_lgbm_classifier_pipeline_0.parquet\n",
      "'metric:roc_auc_ovo [0.0, 1.0] (maximize)' for file results_abalone_dataset_h2o_lgbm_classifier_pipeline_0.parquet\n",
      "'metric:roc_auc_ovo [0.0, 1.0] (maximize)' for file results_abalone_dataset_openfe_lgbm_classifier_pipeline_lgbm_lgbm_3.parquet\n",
      "'metric:roc_auc_ovo [0.0, 1.0] (maximize)' for file results_abalone_dataset_openfe_lgbm_classifier_pipeline_lgbm_lgbm_3.parquet\n",
      "'metric:roc_auc_ovo [0.0, 1.0] (maximize)' for file results_abalone_dataset_h2o_lgbm_classifier_pipeline_9.parquet\n",
      "'metric:roc_auc_ovo [0.0, 1.0] (maximize)' for file results_abalone_dataset_h2o_lgbm_classifier_pipeline_9.parquet\n",
      "'metric:roc_auc_ovo [0.0, 1.0] (maximize)' for file results_abalone_dataset_mljar_lgbm_classifier_pipeline_4.parquet\n",
      "'metric:roc_auc_ovo [0.0, 1.0] (maximize)' for file results_abalone_dataset_mljar_lgbm_classifier_pipeline_4.parquet\n",
      "'metric:roc_auc_ovo [0.0, 1.0] (maximize)' for file results_blood_transfusion_service_center_dataset_original_lgbm_classifier_pipeline_4.parquet\n",
      "'metric:roc_auc_ovo [0.0, 1.0] (maximize)' for file results_blood_transfusion_service_center_dataset_original_lgbm_classifier_pipeline_4.parquet\n",
      "'metric:roc_auc_ovo [0.0, 1.0] (maximize)' for file results_blood_transfusion_service_center_dataset_mljar_lgbm_classifier_pipeline_2.parquet\n",
      "'metric:roc_auc_ovo [0.0, 1.0] (maximize)' for file results_blood_transfusion_service_center_dataset_mljar_lgbm_classifier_pipeline_2.parquet\n",
      "'metric:roc_auc_ovo [0.0, 1.0] (maximize)' for file results_abalone_dataset_openfe_lgbm_classifier_pipeline_lgbm_lgbm_2.parquet\n",
      "'metric:roc_auc_ovo [0.0, 1.0] (maximize)' for file results_abalone_dataset_openfe_lgbm_classifier_pipeline_lgbm_lgbm_2.parquet\n",
      "'metric:roc_auc_ovo [0.0, 1.0] (maximize)' for file results_moneyball_dataset_original_lgbm_classifier_pipeline_1.parquet\n",
      "'metric:roc_auc_ovo [0.0, 1.0] (maximize)' for file results_moneyball_dataset_original_lgbm_classifier_pipeline_1.parquet\n",
      "'metric:roc_auc_ovo [0.0, 1.0] (maximize)' for file results_abalone_dataset_openfe_lgbm_classifier_pipeline_lgbm_lgbm_9.parquet\n",
      "'metric:roc_auc_ovo [0.0, 1.0] (maximize)' for file results_abalone_dataset_openfe_lgbm_classifier_pipeline_lgbm_lgbm_9.parquet\n",
      "'metric:roc_auc_ovo [0.0, 1.0] (maximize)' for file results_abalone_dataset_openfe_lgbm_classifier_pipeline_lgbm_lgbm_0.parquet\n",
      "'metric:roc_auc_ovo [0.0, 1.0] (maximize)' for file results_abalone_dataset_openfe_lgbm_classifier_pipeline_lgbm_lgbm_0.parquet\n",
      "'metric:roc_auc_ovo [0.0, 1.0] (maximize)' for file results_abalone_dataset_h2o_lgbm_classifier_pipeline_2.parquet\n",
      "'metric:roc_auc_ovo [0.0, 1.0] (maximize)' for file results_abalone_dataset_h2o_lgbm_classifier_pipeline_2.parquet\n",
      "'metric:roc_auc_ovo [0.0, 1.0] (maximize)' for file results_abalone_dataset_openfe_lgbm_classifier_pipeline_lgbm_lgbm_1.parquet\n",
      "'metric:roc_auc_ovo [0.0, 1.0] (maximize)' for file results_abalone_dataset_openfe_lgbm_classifier_pipeline_lgbm_lgbm_1.parquet\n",
      "'metric:roc_auc_ovo [0.0, 1.0] (maximize)' for file results_moneyball_dataset_mljar_lgbm_classifier_pipeline_5.parquet\n",
      "'metric:roc_auc_ovo [0.0, 1.0] (maximize)' for file results_moneyball_dataset_mljar_lgbm_classifier_pipeline_5.parquet\n",
      "'metric:roc_auc_ovo [0.0, 1.0] (maximize)' for file results_abalone_dataset_openfe_lgbm_classifier_pipeline_lgbm_lgbm_8.parquet\n",
      "'metric:roc_auc_ovo [0.0, 1.0] (maximize)' for file results_abalone_dataset_openfe_lgbm_classifier_pipeline_lgbm_lgbm_8.parquet\n",
      "'metric:roc_auc_ovo [0.0, 1.0] (maximize)' for file results_moneyball_dataset_mljar_lgbm_classifier_pipeline_0.parquet\n",
      "'metric:roc_auc_ovo [0.0, 1.0] (maximize)' for file results_moneyball_dataset_mljar_lgbm_classifier_pipeline_0.parquet\n",
      "'metric:roc_auc_ovo [0.0, 1.0] (maximize)' for file results_abalone_dataset_mljar_lgbm_classifier_pipeline_2.parquet\n",
      "'metric:roc_auc_ovo [0.0, 1.0] (maximize)' for file results_abalone_dataset_mljar_lgbm_classifier_pipeline_2.parquet\n",
      "'metric:roc_auc_ovo [0.0, 1.0] (maximize)' for file results_abalone_dataset_openfe_lgbm_classifier_pipeline_lgbm_lgbm_4.parquet\n",
      "'metric:roc_auc_ovo [0.0, 1.0] (maximize)' for file results_abalone_dataset_openfe_lgbm_classifier_pipeline_lgbm_lgbm_4.parquet\n",
      "'metric:roc_auc_ovo [0.0, 1.0] (maximize)' for file results_moneyball_dataset_autogluon_lgbm_classifier_pipeline_6.parquet\n",
      "'metric:roc_auc_ovo [0.0, 1.0] (maximize)' for file results_moneyball_dataset_autogluon_lgbm_classifier_pipeline_6.parquet\n",
      "'metric:roc_auc_ovo [0.0, 1.0] (maximize)' for file results_abalone_dataset_openfe_lgbm_classifier_pipeline_lgbm_lgbm_5.parquet\n",
      "'metric:roc_auc_ovo [0.0, 1.0] (maximize)' for file results_abalone_dataset_openfe_lgbm_classifier_pipeline_lgbm_lgbm_5.parquet\n",
      "'metric:roc_auc_ovo [0.0, 1.0] (maximize)' for file results_moneyball_dataset_h2o_lgbm_classifier_pipeline_6.parquet\n",
      "'metric:roc_auc_ovo [0.0, 1.0] (maximize)' for file results_moneyball_dataset_h2o_lgbm_classifier_pipeline_6.parquet\n",
      "'metric:roc_auc_ovo [0.0, 1.0] (maximize)' for file results_moneyball_dataset_original_lgbm_classifier_pipeline_4.parquet\n",
      "'metric:roc_auc_ovo [0.0, 1.0] (maximize)' for file results_moneyball_dataset_original_lgbm_classifier_pipeline_4.parquet\n",
      "'metric:roc_auc_ovo [0.0, 1.0] (maximize)' for file results_abalone_dataset_mljar_lgbm_classifier_pipeline_3.parquet\n",
      "'metric:roc_auc_ovo [0.0, 1.0] (maximize)' for file results_abalone_dataset_mljar_lgbm_classifier_pipeline_3.parquet\n",
      "'metric:roc_auc_ovo [0.0, 1.0] (maximize)' for file results_wine_quality_white_dataset_mljar_lgbm_classifier_pipeline_1.parquet\n",
      "'metric:roc_auc_ovo [0.0, 1.0] (maximize)' for file results_wine_quality_white_dataset_mljar_lgbm_classifier_pipeline_1.parquet\n",
      "'metric:roc_auc_ovo [0.0, 1.0] (maximize)' for file results_wine_quality_white_dataset_autogluon_lgbm_classifier_pipeline_0.parquet\n",
      "'metric:roc_auc_ovo [0.0, 1.0] (maximize)' for file results_wine_quality_white_dataset_autogluon_lgbm_classifier_pipeline_0.parquet\n",
      "'metric:roc_auc_ovo [0.0, 1.0] (maximize)' for file results_abalone_dataset_openfe_lgbm_classifier_pipeline_lgbm_lgbm_7.parquet\n",
      "'metric:roc_auc_ovo [0.0, 1.0] (maximize)' for file results_abalone_dataset_openfe_lgbm_classifier_pipeline_lgbm_lgbm_7.parquet\n",
      "'metric:roc_auc_ovo [0.0, 1.0] (maximize)' for file results_wine_quality_white_dataset_correlationBasedFS_lgbm_classifier_pipeline_9.parquet\n",
      "'metric:roc_auc_ovo [0.0, 1.0] (maximize)' for file results_wine_quality_white_dataset_correlationBasedFS_lgbm_classifier_pipeline_9.parquet\n",
      "'metric:roc_auc_ovo [0.0, 1.0] (maximize)' for file results_moneyball_dataset_h2o_lgbm_classifier_pipeline_4.parquet\n",
      "'metric:roc_auc_ovo [0.0, 1.0] (maximize)' for file results_moneyball_dataset_h2o_lgbm_classifier_pipeline_4.parquet\n",
      "'metric:roc_auc_ovo [0.0, 1.0] (maximize)' for file results_abalone_dataset_mljar_lgbm_classifier_pipeline_1.parquet\n",
      "'metric:roc_auc_ovo [0.0, 1.0] (maximize)' for file results_abalone_dataset_mljar_lgbm_classifier_pipeline_1.parquet\n",
      "'metric:roc_auc_ovo [0.0, 1.0] (maximize)' for file results_moneyball_dataset_openfe_lgbm_classifier_pipeline_lgbm_lgbm_0.parquet\n",
      "'metric:roc_auc_ovo [0.0, 1.0] (maximize)' for file results_moneyball_dataset_openfe_lgbm_classifier_pipeline_lgbm_lgbm_0.parquet\n",
      "'metric:roc_auc_ovo [0.0, 1.0] (maximize)' for file results_wine_quality_white_dataset_h2o_lgbm_classifier_pipeline_7.parquet\n",
      "'metric:roc_auc_ovo [0.0, 1.0] (maximize)' for file results_wine_quality_white_dataset_h2o_lgbm_classifier_pipeline_7.parquet\n",
      "'metric:roc_auc_ovo [0.0, 1.0] (maximize)' for file results_moneyball_dataset_h2o_lgbm_classifier_pipeline_5.parquet\n",
      "'metric:roc_auc_ovo [0.0, 1.0] (maximize)' for file results_moneyball_dataset_h2o_lgbm_classifier_pipeline_5.parquet\n",
      "'metric:roc_auc_ovo [0.0, 1.0] (maximize)' for file results_abalone_dataset_mljar_lgbm_classifier_pipeline_0.parquet\n",
      "'metric:roc_auc_ovo [0.0, 1.0] (maximize)' for file results_abalone_dataset_mljar_lgbm_classifier_pipeline_0.parquet\n",
      "xxx is not a valid method name\n",
      "xxx is not a valid method name\n",
      "'metric:roc_auc_ovo [0.0, 1.0] (maximize)' for file results_abalone_dataset_openfe_lgbm_classifier_pipeline_0.parquet\n",
      "'metric:roc_auc_ovo [0.0, 1.0] (maximize)' for file results_abalone_dataset_openfe_lgbm_classifier_pipeline_0.parquet\n",
      "'metric:roc_auc_ovo [0.0, 1.0] (maximize)' for file results_abalone_dataset_openfe_lgbm_classifier_pipeline_lgbm_lgbm_6.parquet\n",
      "'metric:roc_auc_ovo [0.0, 1.0] (maximize)' for file results_abalone_dataset_openfe_lgbm_classifier_pipeline_lgbm_lgbm_6.parquet\n"
     ]
    }
   ],
   "execution_count": 16
  },
  {
   "metadata": {
    "ExecuteTime": {
     "end_time": "2024-09-05T15:04:00.695509Z",
     "start_time": "2024-09-05T15:04:00.688824Z"
    }
   },
   "cell_type": "code",
   "source": [
    "# Standard Deviation\n",
    "df_stddev = df_all.groupby(['Dataset', 'Method'])['Value'].std().reset_index()\n",
    "df_stddev.rename(columns={'Value': 'StdDev'}, inplace=True)\n",
    "df_stddev['StdDev'] = df_stddev['StdDev'].fillna(0)\n",
    "# Average values\n",
    "df_summary = df_all.groupby(['Dataset', 'Method'])['Value'].mean().reset_index().fillna(0)\n",
    "print(df_summary)"
   ],
   "id": "3020a585095f5f61",
   "outputs": [
    {
     "name": "stdout",
     "output_type": "stream",
     "text": [
      "              Dataset              Method     Value\n",
      "0             abalone            autofeat  0.813284\n",
      "1             abalone           autogluon  0.959551\n",
      "2             abalone              boruta  0.884397\n",
      "3             abalone  correlationBasedFS  0.871825\n",
      "4             abalone               mljar  0.906537\n",
      "..                ...                 ...       ...\n",
      "115  winequalitywhite           bioautoml  0.796000\n",
      "116  winequalitywhite  correlationBasedFS  0.898586\n",
      "117  winequalitywhite                 h2o  0.953069\n",
      "118  winequalitywhite               mljar  0.886400\n",
      "119  winequalitywhite            original  0.806756\n",
      "\n",
      "[120 rows x 3 columns]\n"
     ]
    }
   ],
   "execution_count": 17
  },
  {
   "metadata": {
    "ExecuteTime": {
     "end_time": "2024-09-05T15:04:00.702610Z",
     "start_time": "2024-09-05T15:04:00.696209Z"
    }
   },
   "cell_type": "code",
   "source": [
    "# Add standard deviation to the averages values\n",
    "df_summary = pd.merge(df_summary, df_stddev)\n",
    "df_summary['Value_with_StdDev'] = df_summary.apply(lambda row: f\"{row['Value']} ± {row['StdDev']}\", axis=1)\n",
    "print(df_summary)"
   ],
   "id": "e11c883d21ac5e91",
   "outputs": [
    {
     "name": "stdout",
     "output_type": "stream",
     "text": [
      "              Dataset              Method     Value    StdDev  \\\n",
      "0             abalone            autofeat  0.813284  0.093089   \n",
      "1             abalone           autogluon  0.959551  0.052766   \n",
      "2             abalone              boruta  0.884397  0.046658   \n",
      "3             abalone  correlationBasedFS  0.871825  0.062477   \n",
      "4             abalone               mljar  0.906537  0.026368   \n",
      "..                ...                 ...       ...       ...   \n",
      "115  winequalitywhite           bioautoml  0.796000  0.103880   \n",
      "116  winequalitywhite  correlationBasedFS  0.898586  0.131950   \n",
      "117  winequalitywhite                 h2o  0.953069  0.033817   \n",
      "118  winequalitywhite               mljar  0.886400  0.119438   \n",
      "119  winequalitywhite            original  0.806756  0.094919   \n",
      "\n",
      "                             Value_with_StdDev  \n",
      "0     0.8132843117909951 ± 0.09308910011081249  \n",
      "1    0.9595507253818492 ± 0.052766378112794075  \n",
      "2     0.8843966152940874 ± 0.04665793176279741  \n",
      "3    0.8718249558849116 ± 0.062477061863383455  \n",
      "4    0.9065366690453756 ± 0.026367571328773817  \n",
      "..                                         ...  \n",
      "115    0.7959999521728839 ± 0.1038803471027634  \n",
      "116   0.8985861818427876 ± 0.13195047276377608  \n",
      "117  0.9530687239526979 ± 0.033817336845599386  \n",
      "118     0.8864001870388714 ± 0.119438493789624  \n",
      "119    0.8067557216920804 ± 0.0949186275599887  \n",
      "\n",
      "[120 rows x 5 columns]\n"
     ]
    }
   ],
   "execution_count": 18
  },
  {
   "metadata": {
    "ExecuteTime": {
     "end_time": "2024-09-05T15:04:00.713302Z",
     "start_time": "2024-09-05T15:04:00.703874Z"
    }
   },
   "cell_type": "code",
   "source": [
    "# Print and write to file\n",
    "pivot_table = df_summary.pivot(index='Dataset', columns='Method', values='Value_with_StdDev').fillna('Failed')\n",
    "pivot_table.reset_index(inplace=True)\n",
    "pivot_table.to_parquet('tabular_data.parquet')\n",
    "print(tabulate(pivot_table, headers='keys', tablefmt='pretty'))"
   ],
   "id": "94bc92eb98f3b90a",
   "outputs": [
    {
     "name": "stdout",
     "output_type": "stream",
     "text": [
      "+----+------------------------+---------------------------------------------+-------------------------------------------+-------------------------------------------+--------------------------------------------+-------------------------------------------+-------------------------------------------+-------------------------------------------+-------------------------------------------+-------------------------------------------+\n",
      "|    |        Dataset         |                  autofeat                   |                 autogluon                 |                 bioautoml                 |                   boruta                   |            correlationBasedFS             |                    h2o                    |                   mljar                   |                  openfe                   |                 original                  |\n",
      "+----+------------------------+---------------------------------------------+-------------------------------------------+-------------------------------------------+--------------------------------------------+-------------------------------------------+-------------------------------------------+-------------------------------------------+-------------------------------------------+-------------------------------------------+\n",
      "| 0  |        abalone         |  0.8132843117909951 ± 0.09308910011081249   | 0.9595507253818492 ± 0.052766378112794075 |                  Failed                   |  0.8843966152940874 ± 0.04665793176279741  | 0.8718249558849116 ± 0.062477061863383455 |                  Failed                   | 0.9065366690453756 ± 0.026367571328773817 |                  Failed                   | 0.9210056971732782 ± 0.030340912526276066 |\n",
      "| 1  |       australian       |  0.8633481755274228 ± 0.08556542960033772   | 0.7768502496875963 ± 0.07214711169321046  |                  Failed                   |  0.8805307247683087 ± 0.03965849903985835  | 0.8327207095832929 ± 0.049650454150107604 | 0.7320320772623131 ± 0.09730937832305772  | 0.8992468767953468 ± 0.06715547634400548  |  0.859872410114081 ± 0.03967568985288857  | 0.8803228707528707 ± 0.08909078948048915  |\n",
      "| 2  |      bioresponse       |                   Failed                    | 0.7185799861795561 ± 0.031206425859029382 | 0.8849653404795725 ± 0.07310113493471525  |  0.8725355038523656 ± 0.04167022946999892  |                  Failed                   | 0.7558501947146562 ± 0.10105022046311662  |  0.8757917643618633 ± 0.0622200766372305  |                  Failed                   |  0.8553636225506471 ± 0.106559796698931   |\n",
      "| 3  |          car           |  0.8427113643359518 ± 0.09425899276309503   | 0.8961929230956388 ± 0.05175407512298961  |  0.819605987379247 ± 0.06424509397401895  |  0.8778694601890975 ± 0.04940508157908098  | 0.6638880727709618 ± 0.024146176956729475 | 0.7268723079032439 ± 0.07249070764411986  | 0.8943048508515528 ± 0.06481637683271088  | 0.9271435772110459 ± 0.029886313346644218 | 0.9367295241922032 ± 0.029511192064982286 |\n",
      "| 4  |         churn          |  0.9823329231767837 ± 0.011758925609130682  | 0.9168875914602178 ± 0.025262398590599196 | 0.8458429768993561 ± 0.08519044825352967  |  0.8904120594680941 ± 0.03976626829940716  |  0.677520197754422 ± 0.05095424303884844  | 0.7839911863233248 ± 0.11982008231967718  | 0.8490126912325043 ± 0.08015603691605264  | 0.8982715533183134 ± 0.03576712242755661  | 0.8851019516186901 ± 0.09641766237035339  |\n",
      "| 5  |        creditg         |  0.8126620610309385 ± 0.08497032437169204   | 0.8593753504824961 ± 0.09649352509381748  |  0.7866832045615908 ± 0.0599116135253607  | 0.8561256173753944 ± 0.041670473277874716  | 0.6522391210879072 ± 0.016242028427969877 | 0.7413784017468769 ± 0.09011903209161039  | 0.8418646507279558 ± 0.05465740677946372  |                  Failed                   |  0.868747065721155 ± 0.0725496959964681   |\n",
      "| 6  |          dna           | 0.9961944426136476 ± 4.4942964187031405e-06 |  0.9450278357354367 ± 0.0888333315107947  |  0.898425632119619 ± 0.09463237250552343  | 0.9742393019085619 ± 0.006284566328876221  |  0.684234827640171 ± 0.07416645461356096  | 0.8444170519109867 ± 0.14631382041753166  |  0.8866056828009293 ± 0.0887775116222131  | 0.9031376395733589 ± 0.12073097370626117  | 0.9248310498792843 ± 0.024312109244931383 |\n",
      "| 7  |          gina          |                   Failed                    | 0.9639956330406395 ± 0.06455804093426581  | 0.9066605375754635 ± 0.10710087345875059  | 0.9836885986070267 ± 0.007289939693730417  | 0.7559985060211943 ± 0.07420005722556457  | 0.9427428548527189 ± 0.004552471608694404 | 0.9417236257133963 ± 0.07307969847578993  |                  Failed                   | 0.9054870123723627 ± 0.03985787519391032  |\n",
      "| 8  | internetadvertisements |                   Failed                    | 0.9564531101984262 ± 0.07140893167418104  | 0.9777575398044762 ± 0.009471700667944581 | 0.9735907607316364 ± 0.003381103882711346  |         0.9173157337781506 ± 0.0          | 0.8147009041080704 ± 0.12286610340250598  | 0.9214588896554821 ± 0.07853938540003727  |                  Failed                   | 0.9324826460442994 ± 0.021148335419818313 |\n",
      "| 9  |         krvskp         |  0.9386504428492958 ± 0.08164175428075178   | 0.9629756163838418 ± 0.07391469658241767  |  0.90837174730785 ± 0.14120830317972974   | 0.9757847345614461 ± 0.0007222493855042327 |  0.732731321667328 ± 0.06558788075250277  | 0.942618829498519 ± 0.006180223216805037  | 0.9285018226676179 ± 0.08794010910794463  |                  Failed                   |  0.9044202347133972 ± 0.0767169714221963  |\n",
      "| 10 |        madeline        |                   Failed                    |         0.6595827599356582 ± 0.0          | 0.8681355406210203 ± 0.12397310649057429  |  0.9759160003699616 ± 0.00586167908756255  | 0.7432770640500257 ± 0.08480798490639183  | 0.9465183679636208 ± 0.01914397698032781  | 0.8258904438855108 ± 0.15034770515779508  |                  Failed                   |  0.887460941159246 ± 0.04478680456864906  |\n",
      "| 11 |      mfeatfactors      |                   Failed                    |  0.951642879330277 ± 0.06660809258823139  |  0.69096832135349 ± 0.02527114082429944   | 0.9742237012835268 ± 0.0077070681379596785 | 0.7724778835191571 ± 0.09593253359921887  | 0.9401001147931911 ± 0.01361306142609868  | 0.8858110051097704 ± 0.13059979943404912  |                  Failed                   | 0.9192971256657293 ± 0.038654388418941095 |\n",
      "| 12 |       moneyball        |   0.8359309375766077 ± 0.0950626774988554   | 0.9925235112484267 ± 0.004679054990051012 |                  Failed                   |  0.8787428241653977 ± 0.05172120105625625  |                  Failed                   |                  Failed                   | 0.9355957263326126 ± 0.04510606036503157  | 0.8367153170389039 ± 0.11428396727428314  |  0.9357653611104642 ± 0.0889851385369172  |\n",
      "| 13 |          pc4           |  0.9536417450595238 ± 0.010914955426141727  | 0.9435241395043469 ± 0.07839966154949592  |  0.905491164292151 ± 0.05875369503575752  | 0.9679830274667616 ± 0.0038493582950772684 | 0.7416708570758627 ± 0.053204306521809255 | 0.9350242292659772 ± 0.013944296666148496 | 0.9612438851847213 ± 0.014521280911707882 |                  Failed                   | 0.9123137597971771 ± 0.06843604604993767  |\n",
      "| 14 |          wilt          |  0.9298836019493438 ± 0.10943319826716284   | 0.9392673343630948 ± 0.06798054678567265  | 0.8898974168709858 ± 0.06914792760336458  |  0.9524671237127557 ± 0.07553457989147752  | 0.9298744420447507 ± 0.09309482575547398  | 0.8565112326084773 ± 0.10624374164539167  | 0.9767708772306554 ± 0.012634189133198232 |                  Failed                   | 0.9397870448720782 ± 0.019446360840038746 |\n",
      "| 15 |    winequalitywhite    |  0.8485698550967256 ± 0.14548990955856897   | 0.8620411768682991 ± 0.08392777715992641  |  0.7959999521728839 ± 0.1038803471027634  |                   Failed                   | 0.8985861818427876 ± 0.13195047276377608  | 0.9530687239526979 ± 0.033817336845599386 |  0.8864001870388714 ± 0.119438493789624   |                  Failed                   |  0.8067557216920804 ± 0.0949186275599887  |\n",
      "+----+------------------------+---------------------------------------------+-------------------------------------------+-------------------------------------------+--------------------------------------------+-------------------------------------------+-------------------------------------------+-------------------------------------------+-------------------------------------------+-------------------------------------------+\n"
     ]
    }
   ],
   "execution_count": 19
  },
  {
   "metadata": {},
   "cell_type": "markdown",
   "source": "### Boxplots",
   "id": "25e9e8fbbe3f48fd"
  },
  {
   "metadata": {
    "ExecuteTime": {
     "end_time": "2024-09-05T15:04:00.971223Z",
     "start_time": "2024-09-05T15:04:00.714233Z"
    }
   },
   "cell_type": "code",
   "source": [
    "# Extract values\n",
    "def extract_value(value_with_stddev):\n",
    "    try:\n",
    "        value, _ = value_with_stddev.split(' ± ')\n",
    "        return float(value)\n",
    "    except:\n",
    "        return None        \n",
    "\n",
    "pivot_table_numeric = pivot_table.set_index('Dataset').applymap(extract_value).reset_index()\n",
    "\n",
    "# Melt DataFrame to format for seaborn\n",
    "melted_df = pd.melt(pivot_table_numeric, id_vars=['Dataset'], var_name='Type', value_name='Value')\n",
    "\n",
    "plt.figure(figsize=(10, 6))\n",
    "sns.boxplot(x='Type', y='Value', data=melted_df)\n",
    "plt.xlabel(\"Type\")\n",
    "plt.ylabel(\"Value\")\n",
    "plt.title(\"Box Plot of Values by Type\")\n",
    "plt.xticks(rotation=45)  # Rotate x-axis labels if necessary\n",
    "plt.grid(True)\n",
    "plt.tight_layout()\n",
    "plt.savefig('plots/box_plot.png')\n",
    "plt.show()"
   ],
   "id": "9b649b0cecc589e8",
   "outputs": [
    {
     "data": {
      "text/plain": [
       "<Figure size 1000x600 with 1 Axes>"
      ],
      "image/png": "[encoded data removed]"
     },
     "metadata": {},
     "output_type": "display_data"
    }
   ],
   "execution_count": 20
  }
 ],
 "metadata": {
  "kernelspec": {
   "display_name": "Python 3",
   "language": "python",
   "name": "python3"
  },
  "language_info": {
   "codemirror_mode": {
    "name": "ipython",
    "version": 2
   },
   "file_extension": ".py",
   "mimetype": "text/x-python",
   "name": "python",
   "nbconvert_exporter": "python",
   "pygments_lexer": "ipython2",
   "version": "2.7.6"
  }
 },
 "nbformat": 4,
 "nbformat_minor": 5
}
