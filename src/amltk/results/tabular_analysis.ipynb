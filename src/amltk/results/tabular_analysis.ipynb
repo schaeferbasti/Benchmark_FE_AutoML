{
 "cells": [
  {
   "metadata": {},
   "cell_type": "markdown",
   "source": [
    "# Analysis of the AMLTK Pipeline\n",
    "OpenFE-like Analysis"
   ],
   "id": "146bdc70903a3128"
  },
  {
   "metadata": {},
   "cell_type": "markdown",
   "source": "### To Do for the User",
   "id": "58c202e150c98a6b"
  },
  {
   "metadata": {
    "ExecuteTime": {
     "end_time": "2024-09-10T15:52:40.523057Z",
     "start_time": "2024-09-10T15:52:40.520874Z"
    }
   },
   "cell_type": "code",
   "source": "# Nothing To Do",
   "id": "ad49e094ce21437c",
   "outputs": [],
   "execution_count": 13
  },
  {
   "metadata": {},
   "cell_type": "markdown",
   "source": "### Imports\n",
   "id": "9af30369bbe6f3a2"
  },
  {
   "metadata": {
    "ExecuteTime": {
     "end_time": "2024-09-10T15:52:40.527011Z",
     "start_time": "2024-09-10T15:52:40.524285Z"
    }
   },
   "cell_type": "code",
   "source": [
    "import os\n",
    "import numpy as np\n",
    "\n",
    "import pandas as pd\n",
    "import seaborn as sns\n",
    "import matplotlib.pyplot as plt\n",
    "from tabulate import tabulate\n",
    "\n",
    "import warnings\n",
    "warnings.simplefilter(action='ignore', category=FutureWarning)"
   ],
   "id": "45f7d1e9c31a38a5",
   "outputs": [],
   "execution_count": 14
  },
  {
   "metadata": {},
   "cell_type": "markdown",
   "source": "### Read Files",
   "id": "b24031355132aed5"
  },
  {
   "metadata": {
    "ExecuteTime": {
     "end_time": "2024-09-10T15:52:40.533891Z",
     "start_time": "2024-09-10T15:52:40.528989Z"
    }
   },
   "cell_type": "code",
   "source": [
    "files = os.listdir(os.curdir + \"/files\")\n",
    "parquet_files = []\n",
    "for file in files:\n",
    "    if file.endswith(\".parquet\") and not file.__contains__(\"tabular_data\"):\n",
    "        parquet_files.append(file)\n",
    "        parquet_files.append(file)"
   ],
   "id": "fdff4d8293b912bd",
   "outputs": [],
   "execution_count": 15
  },
  {
   "metadata": {
    "ExecuteTime": {
     "end_time": "2024-09-10T15:53:44.774755Z",
     "start_time": "2024-09-10T15:52:40.534953Z"
    }
   },
   "cell_type": "code",
   "source": [
    "df_all = pd.DataFrame(columns=['Dataset', 'Method', 'Fold', 'Value'])\n",
    "\n",
    "for file in parquet_files:\n",
    "    core_name = file[len('results_'):-len('.parquet')]\n",
    "    parts = core_name.split('_')\n",
    "    if parts[1] == \"dataset\":\n",
    "        dataset = parts[0]\n",
    "        method = parts[2]\n",
    "        fold = parts[-1]\n",
    "    elif parts[2] == \"dataset\":\n",
    "        dataset = parts[0] + parts[1]\n",
    "        method = parts[3]\n",
    "        fold = parts[-1]\n",
    "    elif parts[3] == \"dataset\":\n",
    "        dataset = parts[0] + parts[1] + parts[2]\n",
    "        method = parts[4]\n",
    "        fold = parts[-1]\n",
    "    if method == \"xxx\":\n",
    "        print(\"xxx is not a valid method name\")\n",
    "    else:\n",
    "        df = pd.read_parquet(\"files/\" + file)\n",
    "        try:\n",
    "            df = df[df['status'] == 'success']\n",
    "            metric_accuracy = df[\"metric:roc_auc_ovo [0.0, 1.0] (maximize)\"].tolist()\n",
    "            value = np.average(metric_accuracy)\n",
    "            df_all = df_all._append({'Dataset': dataset, 'Method': method, 'Fold': fold, 'Value': value}, ignore_index=True)\n",
    "        except KeyError as e:\n",
    "            print(str(e) + \" for file \" + str(file))"
   ],
   "id": "cc6371399537f2fb",
   "outputs": [
    {
     "name": "stdout",
     "output_type": "stream",
     "text": [
      "'metric:roc_auc_ovo [0.0, 1.0] (maximize)' for file results_moneyball_dataset_autogluon_lgbm_classifier_pipeline_1.parquet\n",
      "'metric:roc_auc_ovo [0.0, 1.0] (maximize)' for file results_moneyball_dataset_autogluon_lgbm_classifier_pipeline_1.parquet\n",
      "'status' for file results_madeline_dataset_openfe_lgbm_classifier_pipeline_3.parquet\n",
      "'status' for file results_madeline_dataset_openfe_lgbm_classifier_pipeline_3.parquet\n",
      "'metric:roc_auc_ovo [0.0, 1.0] (maximize)' for file results_abalone_dataset_h2o_lgbm_classifier_pipeline_0.parquet\n",
      "'metric:roc_auc_ovo [0.0, 1.0] (maximize)' for file results_abalone_dataset_h2o_lgbm_classifier_pipeline_0.parquet\n",
      "'metric:roc_auc_ovo [0.0, 1.0] (maximize)' for file results_moneyball_dataset_h2o_lgbm_classifier_pipeline_9.parquet\n",
      "'metric:roc_auc_ovo [0.0, 1.0] (maximize)' for file results_moneyball_dataset_h2o_lgbm_classifier_pipeline_9.parquet\n",
      "'metric:roc_auc_ovo [0.0, 1.0] (maximize)' for file results_abalone_dataset_h2o_lgbm_classifier_pipeline_9.parquet\n",
      "'metric:roc_auc_ovo [0.0, 1.0] (maximize)' for file results_abalone_dataset_h2o_lgbm_classifier_pipeline_9.parquet\n",
      "'metric:roc_auc_ovo [0.0, 1.0] (maximize)' for file results_abalone_dataset_mljar_lgbm_classifier_pipeline_4.parquet\n",
      "'metric:roc_auc_ovo [0.0, 1.0] (maximize)' for file results_abalone_dataset_mljar_lgbm_classifier_pipeline_4.parquet\n",
      "'metric:roc_auc_ovo [0.0, 1.0] (maximize)' for file results_abalone_dataset_h2o_lgbm_classifier_pipeline_8.parquet\n",
      "'metric:roc_auc_ovo [0.0, 1.0] (maximize)' for file results_abalone_dataset_h2o_lgbm_classifier_pipeline_8.parquet\n",
      "'metric:roc_auc_ovo [0.0, 1.0] (maximize)' for file results_blood_transfusion_service_center_dataset_original_lgbm_classifier_pipeline_4.parquet\n",
      "'metric:roc_auc_ovo [0.0, 1.0] (maximize)' for file results_blood_transfusion_service_center_dataset_original_lgbm_classifier_pipeline_4.parquet\n",
      "'metric:roc_auc_ovo [0.0, 1.0] (maximize)' for file results_blood_transfusion_service_center_dataset_mljar_lgbm_classifier_pipeline_2.parquet\n",
      "'metric:roc_auc_ovo [0.0, 1.0] (maximize)' for file results_blood_transfusion_service_center_dataset_mljar_lgbm_classifier_pipeline_2.parquet\n",
      "'status' for file results_mfeat_factors_dataset_openfe_lgbm_classifier_pipeline_4.parquet\n",
      "'status' for file results_mfeat_factors_dataset_openfe_lgbm_classifier_pipeline_4.parquet\n",
      "'metric:roc_auc_ovo [0.0, 1.0] (maximize)' for file results_moneyball_dataset_original_lgbm_classifier_pipeline_1.parquet\n",
      "'metric:roc_auc_ovo [0.0, 1.0] (maximize)' for file results_moneyball_dataset_original_lgbm_classifier_pipeline_1.parquet\n",
      "'status' for file results_madeline_dataset_openfe_lgbm_classifier_pipeline_0.parquet\n",
      "'status' for file results_madeline_dataset_openfe_lgbm_classifier_pipeline_0.parquet\n",
      "'metric:roc_auc_ovo [0.0, 1.0] (maximize)' for file results_moneyball_dataset_mljar_lgbm_classifier_pipeline_5.parquet\n",
      "'metric:roc_auc_ovo [0.0, 1.0] (maximize)' for file results_moneyball_dataset_mljar_lgbm_classifier_pipeline_5.parquet\n",
      "'metric:roc_auc_ovo [0.0, 1.0] (maximize)' for file results_moneyball_dataset_mljar_lgbm_classifier_pipeline_0.parquet\n",
      "'metric:roc_auc_ovo [0.0, 1.0] (maximize)' for file results_moneyball_dataset_mljar_lgbm_classifier_pipeline_0.parquet\n",
      "'metric:roc_auc_ovo [0.0, 1.0] (maximize)' for file results_abalone_dataset_mljar_lgbm_classifier_pipeline_2.parquet\n",
      "'metric:roc_auc_ovo [0.0, 1.0] (maximize)' for file results_abalone_dataset_mljar_lgbm_classifier_pipeline_2.parquet\n",
      "'status' for file results_mfeat_factors_dataset_openfe_lgbm_classifier_pipeline_2.parquet\n",
      "'status' for file results_mfeat_factors_dataset_openfe_lgbm_classifier_pipeline_2.parquet\n",
      "'metric:roc_auc_ovo [0.0, 1.0] (maximize)' for file results_abalone_dataset_h2o_lgbm_classifier_pipeline_7.parquet\n",
      "'metric:roc_auc_ovo [0.0, 1.0] (maximize)' for file results_abalone_dataset_h2o_lgbm_classifier_pipeline_7.parquet\n",
      "'metric:roc_auc_ovo [0.0, 1.0] (maximize)' for file results_moneyball_dataset_autogluon_lgbm_classifier_pipeline_6.parquet\n",
      "'metric:roc_auc_ovo [0.0, 1.0] (maximize)' for file results_moneyball_dataset_autogluon_lgbm_classifier_pipeline_6.parquet\n",
      "'status' for file results_madeline_dataset_openfe_lgbm_classifier_pipeline_4.parquet\n",
      "'status' for file results_madeline_dataset_openfe_lgbm_classifier_pipeline_4.parquet\n",
      "'status' for file results_mfeat_factors_dataset_openfe_lgbm_classifier_pipeline_3.parquet\n",
      "'status' for file results_mfeat_factors_dataset_openfe_lgbm_classifier_pipeline_3.parquet\n",
      "'metric:roc_auc_ovo [0.0, 1.0] (maximize)' for file results_moneyball_dataset_original_lgbm_classifier_pipeline_4.parquet\n",
      "'metric:roc_auc_ovo [0.0, 1.0] (maximize)' for file results_moneyball_dataset_original_lgbm_classifier_pipeline_4.parquet\n",
      "'metric:roc_auc_ovo [0.0, 1.0] (maximize)' for file results_abalone_dataset_mljar_lgbm_classifier_pipeline_3.parquet\n",
      "'metric:roc_auc_ovo [0.0, 1.0] (maximize)' for file results_abalone_dataset_mljar_lgbm_classifier_pipeline_3.parquet\n",
      "'metric:roc_auc_ovo [0.0, 1.0] (maximize)' for file results_wine_quality_white_dataset_mljar_lgbm_classifier_pipeline_1.parquet\n",
      "'metric:roc_auc_ovo [0.0, 1.0] (maximize)' for file results_wine_quality_white_dataset_mljar_lgbm_classifier_pipeline_1.parquet\n",
      "'metric:roc_auc_ovo [0.0, 1.0] (maximize)' for file results_wilt_dataset_featurewiz_lgbm_classifier_pipeline_5.parquet\n",
      "'metric:roc_auc_ovo [0.0, 1.0] (maximize)' for file results_wilt_dataset_featurewiz_lgbm_classifier_pipeline_5.parquet\n",
      "'metric:roc_auc_ovo [0.0, 1.0] (maximize)' for file results_wine_quality_white_dataset_autogluon_lgbm_classifier_pipeline_0.parquet\n",
      "'metric:roc_auc_ovo [0.0, 1.0] (maximize)' for file results_wine_quality_white_dataset_autogluon_lgbm_classifier_pipeline_0.parquet\n",
      "'metric:roc_auc_ovo [0.0, 1.0] (maximize)' for file results_wine_quality_white_dataset_correlationBasedFS_lgbm_classifier_pipeline_9.parquet\n",
      "'metric:roc_auc_ovo [0.0, 1.0] (maximize)' for file results_wine_quality_white_dataset_correlationBasedFS_lgbm_classifier_pipeline_9.parquet\n",
      "'metric:roc_auc_ovo [0.0, 1.0] (maximize)' for file results_abalone_dataset_mljar_lgbm_classifier_pipeline_1.parquet\n",
      "'metric:roc_auc_ovo [0.0, 1.0] (maximize)' for file results_abalone_dataset_mljar_lgbm_classifier_pipeline_1.parquet\n",
      "'metric:roc_auc_ovo [0.0, 1.0] (maximize)' for file results_wine_quality_white_dataset_h2o_lgbm_classifier_pipeline_7.parquet\n",
      "'metric:roc_auc_ovo [0.0, 1.0] (maximize)' for file results_wine_quality_white_dataset_h2o_lgbm_classifier_pipeline_7.parquet\n",
      "'metric:roc_auc_ovo [0.0, 1.0] (maximize)' for file results_moneyball_dataset_h2o_lgbm_classifier_pipeline_5.parquet\n",
      "'metric:roc_auc_ovo [0.0, 1.0] (maximize)' for file results_moneyball_dataset_h2o_lgbm_classifier_pipeline_5.parquet\n",
      "'metric:roc_auc_ovo [0.0, 1.0] (maximize)' for file results_abalone_dataset_mljar_lgbm_classifier_pipeline_0.parquet\n",
      "'metric:roc_auc_ovo [0.0, 1.0] (maximize)' for file results_abalone_dataset_mljar_lgbm_classifier_pipeline_0.parquet\n",
      "xxx is not a valid method name\n",
      "xxx is not a valid method name\n",
      "'status' for file results_madeline_dataset_openfe_lgbm_classifier_pipeline_6.parquet\n",
      "'status' for file results_madeline_dataset_openfe_lgbm_classifier_pipeline_6.parquet\n"
     ]
    }
   ],
   "execution_count": 16
  },
  {
   "metadata": {
    "ExecuteTime": {
     "end_time": "2024-09-10T15:53:44.782426Z",
     "start_time": "2024-09-10T15:53:44.776714Z"
    }
   },
   "cell_type": "code",
   "source": [
    "# Standard Deviation\n",
    "df_stddev = df_all.groupby(['Dataset', 'Method'])['Value'].std().reset_index()\n",
    "df_stddev.rename(columns={'Value': 'StdDev'}, inplace=True)\n",
    "df_stddev['StdDev'] = df_stddev['StdDev'].fillna(0)\n",
    "# Average values\n",
    "df_summary = df_all.groupby(['Dataset', 'Method'])['Value'].mean().reset_index().fillna(0)\n",
    "print(df_summary)"
   ],
   "id": "3020a585095f5f61",
   "outputs": [
    {
     "name": "stdout",
     "output_type": "stream",
     "text": [
      "              Dataset              Method     Value\n",
      "0             abalone            autofeat  0.813284\n",
      "1             abalone           autogluon  0.959551\n",
      "2             abalone              boruta  0.887181\n",
      "3             abalone  correlationBasedFS  0.871825\n",
      "4             abalone          featurewiz  0.843042\n",
      "..                ...                 ...       ...\n",
      "143  winequalitywhite  correlationBasedFS  0.898586\n",
      "144  winequalitywhite          featurewiz  0.916936\n",
      "145  winequalitywhite                 h2o  0.881967\n",
      "146  winequalitywhite               mljar  0.886400\n",
      "147  winequalitywhite            original  0.806756\n",
      "\n",
      "[148 rows x 3 columns]\n"
     ]
    }
   ],
   "execution_count": 17
  },
  {
   "metadata": {
    "ExecuteTime": {
     "end_time": "2024-09-10T15:53:44.788285Z",
     "start_time": "2024-09-10T15:53:44.783088Z"
    }
   },
   "cell_type": "code",
   "source": [
    "# Add standard deviation to the averages values\n",
    "df_summary = pd.merge(df_summary, df_stddev)\n",
    "df_summary['Value_with_StdDev'] = df_summary.apply(lambda row: f\"{row['Value']} ± {row['StdDev']}\", axis=1)\n",
    "print(df_summary)"
   ],
   "id": "e11c883d21ac5e91",
   "outputs": [
    {
     "name": "stdout",
     "output_type": "stream",
     "text": [
      "              Dataset              Method     Value    StdDev  \\\n",
      "0             abalone            autofeat  0.813284  0.093089   \n",
      "1             abalone           autogluon  0.959551  0.052766   \n",
      "2             abalone              boruta  0.887181  0.048281   \n",
      "3             abalone  correlationBasedFS  0.871825  0.062477   \n",
      "4             abalone          featurewiz  0.843042  0.087716   \n",
      "..                ...                 ...       ...       ...   \n",
      "143  winequalitywhite  correlationBasedFS  0.898586  0.131950   \n",
      "144  winequalitywhite          featurewiz  0.916936  0.014179   \n",
      "145  winequalitywhite                 h2o  0.881967  0.134722   \n",
      "146  winequalitywhite               mljar  0.886400  0.119438   \n",
      "147  winequalitywhite            original  0.806756  0.094919   \n",
      "\n",
      "                             Value_with_StdDev  \n",
      "0     0.8132843117909951 ± 0.09308910011081249  \n",
      "1    0.9595507253818492 ± 0.052766378112794075  \n",
      "2     0.8871805891212288 ± 0.04828057790817883  \n",
      "3    0.8718249558849116 ± 0.062477061863383455  \n",
      "4     0.8430422410518297 ± 0.08771564302692744  \n",
      "..                                         ...  \n",
      "143   0.8985861818427876 ± 0.13195047276377608  \n",
      "144  0.9169364822738008 ± 0.014179356296371777  \n",
      "145     0.88196672827172 ± 0.13472188936168322  \n",
      "146     0.8864001870388714 ± 0.119438493789624  \n",
      "147    0.8067557216920804 ± 0.0949186275599887  \n",
      "\n",
      "[148 rows x 5 columns]\n"
     ]
    }
   ],
   "execution_count": 18
  },
  {
   "metadata": {
    "ExecuteTime": {
     "end_time": "2024-09-10T15:53:44.796935Z",
     "start_time": "2024-09-10T15:53:44.788980Z"
    }
   },
   "cell_type": "code",
   "source": [
    "# Print and write to file\n",
    "pivot_table = df_summary.pivot(index='Dataset', columns='Method', values='Value_with_StdDev').fillna('Failed')\n",
    "pivot_table.reset_index(inplace=True)\n",
    "pivot_table.to_parquet('tabular_data.parquet')\n",
    "print(tabulate(pivot_table, headers='keys', tablefmt='pretty'))"
   ],
   "id": "94bc92eb98f3b90a",
   "outputs": [
    {
     "name": "stdout",
     "output_type": "stream",
     "text": [
      "+----+------------------------+---------------------------------------------+-------------------------------------------+-------------------------------------------+--------------------------------------------+-------------------------------------------+-------------------------------------------+-------------------------------------------+-------------------------------------------+-------------------------------------------+--------------------------------------------+-------------------------------------------+\n",
      "|    |        Dataset         |                  autofeat                   |                 autogluon                 |                 bioautoml                 |                   boruta                   |            correlationBasedFS             |                featurewiz                 |                    h2o                    |                  mafese                   |                   mljar                   |                   openfe                   |                 original                  |\n",
      "+----+------------------------+---------------------------------------------+-------------------------------------------+-------------------------------------------+--------------------------------------------+-------------------------------------------+-------------------------------------------+-------------------------------------------+-------------------------------------------+-------------------------------------------+--------------------------------------------+-------------------------------------------+\n",
      "| 0  |        abalone         |  0.8132843117909951 ± 0.09308910011081249   | 0.9595507253818492 ± 0.052766378112794075 |                  Failed                   |  0.8871805891212288 ± 0.04828057790817883  | 0.8718249558849116 ± 0.062477061863383455 | 0.8430422410518297 ± 0.08771564302692744  |  0.923193786596546 ± 0.03201612713013714  |                  Failed                   | 0.9065366690453756 ± 0.026367571328773817 |  0.7261306499658575 ± 0.04632468810063818  | 0.9210056971732782 ± 0.030340912526276066 |\n",
      "| 1  |       australian       |  0.8633481755274228 ± 0.08556542960033772   | 0.7768502496875963 ± 0.07214711169321046  |                  Failed                   |  0.8806502079824351 ± 0.04221807314825225  | 0.8485029033143373 ± 0.02305478925491503  | 0.8557531601228234 ± 0.07053546848428305  | 0.7320320772623131 ± 0.09730937832305772  |                  Failed                   | 0.9105497149501564 ± 0.05310837764882408  |  0.7800878785779988 ± 0.04590054093943851  | 0.8803228707528707 ± 0.08909078948048915  |\n",
      "| 2  |      bioresponse       |                   Failed                    |  0.7404194777387295 ± 0.050893200557328   | 0.8849653404795725 ± 0.07310113493471525  |  0.8594797528446406 ± 0.06670390769541502  |                  Failed                   | 0.8624236366543483 ± 0.061591889712881556 | 0.7558501947146562 ± 0.10105022046311662  | 0.4890401993656047 ± 0.006409372425835968 |  0.8757917643618633 ± 0.0622200766372305  |                   Failed                   |  0.8553636225506471 ± 0.106559796698931   |\n",
      "| 3  |          car           |  0.8427113643359518 ± 0.09425899276309503   | 0.8862574728813104 ± 0.04414070468522069  |  0.819605987379247 ± 0.06424509397401895  |  0.8778694601890975 ± 0.04940508157908093  | 0.6638880727709618 ± 0.024146176956729475 | 0.8565973592316665 ± 0.05995054035199325  |  0.7798535346868469 ± 0.105903811634865   |                  Failed                   | 0.8943048508515528 ± 0.06481637683271088  | 0.8097525574032547 ± 0.039817408145699174  | 0.9367295241922032 ± 0.029511192064982286 |\n",
      "| 4  |         churn          |  0.9823329231767837 ± 0.011758925609130682  |  0.9108248220682176 ± 0.0167259433522495  | 0.8458429768993561 ± 0.08519044825352967  |  0.8648305199766098 ± 0.07688004029732247  |  0.677520197754422 ± 0.05095424303884844  |  0.861470857026072 ± 0.0813879249126056   | 0.7537521857615354 ± 0.12490258844724887  |                  Failed                   | 0.8490126912325043 ± 0.08015603691605264  | 0.7757608896979898 ± 0.045252629062375496  | 0.8778292356839561 ± 0.09314440839951657  |\n",
      "| 5  |        creditg         |  0.8126620610309385 ± 0.08497032437169204   | 0.8593753504824961 ± 0.09649352509381748  |  0.7866832045615908 ± 0.0599116135253607  |  0.8561256173753944 ± 0.04167047327787476  | 0.6522391210879072 ± 0.016242028427969877 | 0.8262438042762088 ± 0.07823030172124444  | 0.7413784017468769 ± 0.09011903209161039  |                  Failed                   | 0.8418646507279558 ± 0.05465740677946372  |  0.7514892154271998 ± 0.03329057363949128  |  0.868747065721155 ± 0.0725496959964681   |\n",
      "| 6  |          dna           | 0.9961944426136476 ± 4.4942964187031405e-06 | 0.9419270353390105 ± 0.11363661408256631  |  0.898425632119619 ± 0.09463237250552343  | 0.9742393019085619 ± 0.006284566328876221  |  0.684234827640171 ± 0.07416645461356096  | 0.8377902546279168 ± 0.10486086868978699  | 0.8790358143689078 ± 0.12707550032142675  |                  Failed                   | 0.8757585614462897 ± 0.08470887860755004  |  0.8832412709329175 ± 0.1514389575984236   | 0.9248310498792843 ± 0.024312109244931383 |\n",
      "| 7  |          gina          |                   Failed                    | 0.9639956330406395 ± 0.06455804093426581  | 0.9380404842533311 ± 0.07769571987080359  | 0.9836885986070267 ± 0.007289939693730417  | 0.7559985060211943 ± 0.07420005722556457  |  0.909328864011625 ± 0.10672005841352646  | 0.9427428548527189 ± 0.004552471608694404 | 0.5017103287884355 ± 0.00904178259884584  | 0.9417236257133963 ± 0.07307969847578993  |                   Failed                   |  0.897604057007345 ± 0.04729775569892847  |\n",
      "| 8  | internetadvertisements |                   Failed                    | 0.9564531101984262 ± 0.07140893167418104  | 0.9777575398044762 ± 0.009471700667944581 | 0.9735907607316364 ± 0.003381103882711346  |         0.9173157337781506 ± 0.0          | 0.9071177290941448 ± 0.10597217961788381  | 0.8147009041080704 ± 0.12286610340250598  | 0.6435229130688587 ± 0.11016637604979271  | 0.9214588896554821 ± 0.07853938540003727  |                   Failed                   | 0.9324826460442994 ± 0.021148335419818313 |\n",
      "| 9  |         krvskp         |  0.9581405131053256 ± 0.054484702050989674  | 0.9629756163838418 ± 0.07391469658241767  | 0.9538396409356676 ± 0.09814055110271931  | 0.9757847345614461 ± 0.0007222493855042327 |  0.7284309450210286 ± 0.0621369055123605  | 0.9626790479505276 ± 0.02332209856853027  | 0.942618829498519 ± 0.006180223216805037  |                  Failed                   | 0.9285018226676179 ± 0.08794010910794463  |  0.9522614522281518 ± 0.06081212453527057  |  0.9044202347133972 ± 0.0767169714221963  |\n",
      "| 10 |        madeline        |                   Failed                    |         0.6595827599356582 ± 0.0          | 0.8681355406210203 ± 0.12397310649057429  |  0.9759160003699616 ± 0.00586167908756255  | 0.7432770640500257 ± 0.08480798490639183  | 0.8924494765988249 ± 0.11205548435736055  | 0.9465183679636208 ± 0.01914397698032781  |                  Failed                   | 0.8358824546098459 ± 0.15614436141995452  |          0.8502410823886623 ± 0.0          | 0.8918992073076976 ± 0.04415039468573668  |\n",
      "| 11 |      mfeatfactors      |                   Failed                    | 0.9320505964402809 ± 0.08964075994444416  |  0.69096832135349 ± 0.02527114082429944   | 0.9742237012835268 ± 0.0077070681379596785 |  0.746804994645866 ± 0.07444921219002215  | 0.9258992074889513 ± 0.10002283010684429  | 0.9401001147931911 ± 0.01361306142609868  |                  Failed                   | 0.8858110051097704 ± 0.13059979943404912  |                   Failed                   | 0.9315027212954156 ± 0.01622369529517573  |\n",
      "| 12 |       moneyball        |   0.8359309375766077 ± 0.0950626774988554   | 0.9925235112484267 ± 0.004679054990051012 |                  Failed                   |  0.8787428241653977 ± 0.05172120105625628  |                  Failed                   |  0.862780332850185 ± 0.08986754832567123  | 0.9278989564850414 ± 0.03846058924193896  |                  Failed                   | 0.8817660691921215 ± 0.08628777138442587  | 0.7521419120789339 ± 0.025914556048766055  | 0.9057124046875484 ± 0.09525402057301477  |\n",
      "| 13 |          pc4           |  0.9536417450595238 ± 0.010914955426141727  | 0.9318028060602983 ± 0.08478810293573043  |  0.905491164292151 ± 0.05875369503575752  | 0.9679830274667616 ± 0.0038493582950772684 | 0.7350917896178251 ± 0.05125896819400651  | 0.9240236531498722 ± 0.026592061987791068 | 0.9350242292659772 ± 0.013944296666148496 |                  Failed                   | 0.9612438851847213 ± 0.014521280911707882 |  0.9155397169299193 ± 0.09642844740890354  | 0.9123137597971771 ± 0.06843604604993767  |\n",
      "| 14 |          wilt          |  0.9298836019493438 ± 0.10943319826716284   |  0.928083295327244 ± 0.07410543984225544  | 0.8898974168709858 ± 0.06914792760336458  |  0.9524671237127557 ± 0.07553457989147752  | 0.9298744420447507 ± 0.09309482575547398  | 0.920496400713258 ± 0.025518346506588064  | 0.8565112326084773 ± 0.10624374164539167  |                  Failed                   | 0.9767708772306554 ± 0.012634189133198232 | 0.9869275594383655 ± 0.0031014366463412457 | 0.9397870448720782 ± 0.019446360840038746 |\n",
      "| 15 |    winequalitywhite    |  0.8485698550967256 ± 0.14548990955856897   | 0.8620411768682991 ± 0.08392777715992641  |  0.7959999521728839 ± 0.1038803471027634  |  0.8622191199548047 ± 0.06722167092066068  | 0.8985861818427876 ± 0.13195047276377608  | 0.9169364822738008 ± 0.014179356296371777 |  0.88196672827172 ± 0.13472188936168322   |                  Failed                   |  0.8864001870388714 ± 0.119438493789624   |                   Failed                   |  0.8067557216920804 ± 0.0949186275599887  |\n",
      "+----+------------------------+---------------------------------------------+-------------------------------------------+-------------------------------------------+--------------------------------------------+-------------------------------------------+-------------------------------------------+-------------------------------------------+-------------------------------------------+-------------------------------------------+--------------------------------------------+-------------------------------------------+\n"
     ]
    }
   ],
   "execution_count": 19
  },
  {
   "metadata": {},
   "cell_type": "markdown",
   "source": "### Boxplots",
   "id": "25e9e8fbbe3f48fd"
  },
  {
   "metadata": {
    "ExecuteTime": {
     "end_time": "2024-09-10T15:53:44.988120Z",
     "start_time": "2024-09-10T15:53:44.797616Z"
    }
   },
   "cell_type": "code",
   "source": [
    "# Extract values\n",
    "def extract_value(value_with_stddev):\n",
    "    try:\n",
    "        value, _ = value_with_stddev.split(' ± ')\n",
    "        return float(value)\n",
    "    except:\n",
    "        return None        \n",
    "\n",
    "pivot_table_numeric = pivot_table.set_index('Dataset').applymap(extract_value).reset_index()\n",
    "\n",
    "# Melt DataFrame to format for seaborn\n",
    "melted_df = pd.melt(pivot_table_numeric, id_vars=['Dataset'], var_name='Type', value_name='Value')\n",
    "\n",
    "plt.figure(figsize=(10, 6))\n",
    "sns.boxplot(x='Type', y='Value', data=melted_df)\n",
    "plt.xlabel(\"Type\")\n",
    "plt.ylabel(\"Value\")\n",
    "plt.title(\"Box Plot of Values by Type\")\n",
    "plt.xticks(rotation=45)  # Rotate x-axis labels if necessary\n",
    "plt.grid(True)\n",
    "plt.tight_layout()\n",
    "plt.savefig('plots/box_plot.png')\n",
    "plt.show()"
   ],
   "id": "9b649b0cecc589e8",
   "outputs": [
    {
     "data": {
      "text/plain": [
       "<Figure size 1000x600 with 1 Axes>"
      ],
      "image/png": "[encoded data removed]"
     },
     "metadata": {},
     "output_type": "display_data"
    }
   ],
   "execution_count": 20
  }
 ],
 "metadata": {
  "kernelspec": {
   "display_name": "Python 3",
   "language": "python",
   "name": "python3"
  },
  "language_info": {
   "codemirror_mode": {
    "name": "ipython",
    "version": 2
   },
   "file_extension": ".py",
   "mimetype": "text/x-python",
   "name": "python",
   "nbconvert_exporter": "python",
   "pygments_lexer": "ipython2",
   "version": "2.7.6"
  }
 },
 "nbformat": 4,
 "nbformat_minor": 5
}
