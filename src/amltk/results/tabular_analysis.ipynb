{
 "cells": [
  {
   "metadata": {},
   "cell_type": "markdown",
   "source": [
    "# Analysis of the AMLTK Pipeline\n",
    "OpenFE-like Analysis"
   ],
   "id": "146bdc70903a3128"
  },
  {
   "metadata": {},
   "cell_type": "markdown",
   "source": "### To Do for the User",
   "id": "58c202e150c98a6b"
  },
  {
   "metadata": {
    "ExecuteTime": {
     "end_time": "2024-07-11T09:25:44.065669Z",
     "start_time": "2024-07-11T09:25:44.062807Z"
    }
   },
   "cell_type": "code",
   "source": "# No more To Dos",
   "id": "ad49e094ce21437c",
   "outputs": [],
   "execution_count": 15
  },
  {
   "metadata": {},
   "cell_type": "markdown",
   "source": "### Imports\n",
   "id": "9af30369bbe6f3a2"
  },
  {
   "metadata": {
    "ExecuteTime": {
     "end_time": "2024-07-11T09:25:44.088821Z",
     "start_time": "2024-07-11T09:25:44.084437Z"
    }
   },
   "cell_type": "code",
   "source": [
    "import os\n",
    "import numpy as np\n",
    "\n",
    "import pandas as pd\n",
    "import seaborn as sns\n",
    "import matplotlib.pyplot as plt\n",
    "from tabulate import tabulate\n",
    "\n",
    "import warnings\n",
    "warnings.simplefilter(action='ignore', category=FutureWarning)"
   ],
   "id": "45f7d1e9c31a38a5",
   "outputs": [],
   "execution_count": 16
  },
  {
   "metadata": {},
   "cell_type": "markdown",
   "source": "### Read Files",
   "id": "b24031355132aed5"
  },
  {
   "metadata": {
    "ExecuteTime": {
     "end_time": "2024-07-11T09:25:44.096244Z",
     "start_time": "2024-07-11T09:25:44.091161Z"
    }
   },
   "cell_type": "code",
   "source": [
    "files = os.listdir(os.curdir)\n",
    "parquet_files = []\n",
    "for file in files:\n",
    "    if file.endswith(\".parquet\") and not file.__contains__(\"tabular_data\"):\n",
    "        parquet_files.append(file)\n",
    "print(parquet_files)"
   ],
   "id": "fdff4d8293b912bd",
   "outputs": [
    {
     "name": "stdout",
     "output_type": "stream",
     "text": [
      "['results_internet_advertisements_dataset_original_0.parquet', 'results_bioresponse_dataset_autogluon_1.parquet', 'results_moneyball_dataset_autogluon_1.parquet', 'results_wine_quality_white_dataset_mljar_1.parquet', 'results_blood_transfusion_service_center_dataset_bioautoml_0.parquet', 'results_blood_transfusion_service_center_dataset_autogluon_1.parquet', 'results_pc4_dataset_mljar_2.parquet', 'results_wilt_dataset_mljar_2.parquet', 'results_churn_dataset_autofeat_0.parquet', 'results_australian_dataset_original_1.parquet', 'results_abalone_dataset_autogluon_0.parquet', 'results_credit_g_dataset_autofeat_0.parquet', 'results_gina_dataset_bioautoml_0.parquet', 'results_australian_dataset_original_0.parquet', 'results_gina_dataset_autogluon_0.parquet', 'results_bioresponse_dataset_autogluon_0.parquet', 'results_wine_quality_white_dataset_mljar_0.parquet', 'results_moneyball_dataset_autofeat_0.parquet', 'results_moneyball_dataset_autogluon_0.parquet', 'results_blood_transfusion_service_center_dataset_autogluon_0.parquet', 'results_churn_dataset_correlationBasedFS_0.parquet', 'results_australian_dataset_autofeat_0.parquet', 'results_wilt_dataset_autogluon_0.parquet', 'results_churn_dataset_original_1.parquet', 'results_bioresponse_dataset_h2o_1.parquet', 'results_bioresponse_dataset_original_1.parquet', 'results_moneyball_dataset_original_0.parquet', 'results_wilt_dataset_mljar_1.parquet', 'results_mfeat_factors_dataset_h2o_0.parquet', 'results_pc4_dataset_mljar_1.parquet', 'results_internet_advertisements_dataset_autogluon_0.parquet', 'results_madeline_dataset_bioautoml_0.parquet', 'results_dna_dataset_h2o_1.parquet', 'results_bioresponse_dataset_original_0.parquet', 'results_wine_quality_white_dataset_autogluon_0.parquet', 'results_churn_dataset_original_0.parquet', 'results_madeline_dataset_autogluon_0.parquet', 'results_kr_vs_kp_dataset_autogluon_0.parquet', 'results_bioresponse_dataset_h2o_0.parquet', 'results_dna_dataset_original_0.parquet', 'results_australian_dataset_correlationBasedFS_0.parquet', 'results_car_dataset_original_1.parquet', 'results_moneyball_dataset_original_1.parquet', 'results_wilt_dataset_mljar_0.parquet', 'results_mfeat_factors_dataset_original_0.parquet', 'results_mfeat_factors_dataset_correlationBasedFS_0.parquet', 'results_pc4_dataset_mljar_0.parquet', 'results_wilt_dataset_bioautoml_0.parquet', 'results_dna_dataset_h2o_0.parquet', 'results_dna_dataset_autogluon_0.parquet', 'results_credit_g_dataset_original_0.parquet', 'results_madeline_dataset_correlationBasedFS_0.parquet', 'results_wilt_dataset_original_0.parquet', 'results_madeline_dataset_h2o_0.parquet', 'results_madeline_dataset_original_0.parquet', 'results_australian_dataset_autogluon_1.parquet', 'results_kr_vs_kp_dataset_original_0.parquet', 'results_blood_transfusion_service_center_dataset_original_1.parquet', 'results_blood_transfusion_service_center_dataset_h2o_1.parquet', 'results_abalone_dataset_original_0.parquet', 'results_mfeat_factors_dataset_mljar_1.parquet', 'results_credit_g_dataset_autogluon_0.parquet', 'results_gina_dataset_mljar_1.parquet', 'results_abalone_dataset_openfe_0.parquet', 'results_mfeat_factors_dataset_mljar_0.parquet', 'results_gina_dataset_mljar_0.parquet', 'results_australian_dataset_autogluon_0.parquet', 'results_madeline_dataset_mljar_2.parquet', 'results_blood_transfusion_service_center_dataset_mljar_1.parquet', 'results_pc4_dataset_original_0.parquet', 'results_blood_transfusion_service_center_dataset_original_0.parquet', 'results_blood_transfusion_service_center_dataset_h2o_0.parquet', 'results_gina_dataset_correlationBasedFS_0.parquet', 'results_bioresponse_dataset_mljar_0.parquet', 'results_australian_dataset_boruta_0.parquet', 'results_mfeat_factors_dataset_mljar_2.parquet', 'results_gina_dataset_mljar_2.parquet', 'results_australian_dataset_h2o_1.parquet', 'results_churn_dataset_h2o_0.parquet', 'results_car_dataset_autogluon_1.parquet', 'results_pc4_dataset_bioautoml_0.parquet', 'results_madeline_dataset_mljar_0.parquet', 'results_pc4_dataset_h2o_0.parquet', 'results_blood_transfusion_service_center_dataset_autofeat_0.parquet', 'results_mfeat_factors_dataset_bioautoml_0.parquet', 'results_gina_dataset_original_0.parquet', 'results_abalone_dataset_autofeat_0.parquet', 'results_churn_dataset_h2o_1.parquet', 'results_mfeat_factors_dataset_autogluon_0.parquet', 'results_blood_transfusion_service_center_dataset_mljar_2.parquet', 'results_madeline_dataset_mljar_1.parquet', 'results_pc4_dataset_autogluon_0.parquet', 'results_churn_dataset_autogluon_1.parquet', 'results_bioresponse_dataset_mljar_1.parquet', 'results_wilt_dataset_h2o_0.parquet', 'results_dna_dataset_correlationBasedFS_0.parquet', 'results_blood_transfusion_service_center_dataset_correlationBasedFS_0.parquet', 'results_australian_dataset_h2o_0.parquet', 'results_wine_quality_white_dataset_h2o_0.parquet']\n"
     ]
    }
   ],
   "execution_count": 17
  },
  {
   "metadata": {
    "ExecuteTime": {
     "end_time": "2024-07-11T09:25:46.226135Z",
     "start_time": "2024-07-11T09:25:44.098077Z"
    }
   },
   "cell_type": "code",
   "source": [
    "df_all = pd.DataFrame(columns=['Dataset', 'Method', 'Fold', 'Value'])\n",
    "\n",
    "for file in parquet_files:\n",
    "    print(file)\n",
    "    core_name = file[len('results_'):-len('.parquet')]\n",
    "    parts = core_name.split('_')\n",
    "    if parts[1] == \"dataset\":\n",
    "        dataset = parts[0]\n",
    "        method = parts[2]\n",
    "        fold = parts[3]\n",
    "    elif parts[2] == \"dataset\":\n",
    "        dataset = parts[0] + parts[1]\n",
    "        method = parts[3]\n",
    "        fold = parts[4]\n",
    "    elif parts[3] == \"dataset\":\n",
    "        dataset = parts[0] + parts[1] + parts[2]\n",
    "        method = parts[4]\n",
    "        fold = parts[5]\n",
    "    \n",
    "    df = pd.read_parquet(file)\n",
    "    df = df[df['status'] == 'success']\n",
    "    try:\n",
    "        metric_accuracy = df[\"metric:roc_auc_ovo [0.0, 1.0] (maximize)\"].tolist()\n",
    "        value = np.average(metric_accuracy)\n",
    "        df_all = df_all._append({'Dataset': dataset, 'Method': method, 'Fold': fold, 'Value': value}, ignore_index=True)\n",
    "    except KeyError as e:\n",
    "        print(str(e) + \" for file \" + str(file))\n",
    "print(df_all)"
   ],
   "id": "cc6371399537f2fb",
   "outputs": [
    {
     "name": "stdout",
     "output_type": "stream",
     "text": [
      "results_internet_advertisements_dataset_original_0.parquet\n",
      "results_bioresponse_dataset_autogluon_1.parquet\n",
      "results_moneyball_dataset_autogluon_1.parquet\n",
      "'metric:roc_auc_ovo [0.0, 1.0] (maximize)' for file results_moneyball_dataset_autogluon_1.parquet\n",
      "results_wine_quality_white_dataset_mljar_1.parquet\n",
      "'metric:roc_auc_ovo [0.0, 1.0] (maximize)' for file results_wine_quality_white_dataset_mljar_1.parquet\n",
      "results_blood_transfusion_service_center_dataset_bioautoml_0.parquet\n",
      "results_blood_transfusion_service_center_dataset_autogluon_1.parquet\n",
      "results_pc4_dataset_mljar_2.parquet\n",
      "results_wilt_dataset_mljar_2.parquet\n",
      "results_churn_dataset_autofeat_0.parquet\n",
      "results_australian_dataset_original_1.parquet\n",
      "results_abalone_dataset_autogluon_0.parquet\n",
      "results_credit_g_dataset_autofeat_0.parquet\n",
      "results_gina_dataset_bioautoml_0.parquet\n",
      "results_australian_dataset_original_0.parquet\n",
      "results_gina_dataset_autogluon_0.parquet\n",
      "results_bioresponse_dataset_autogluon_0.parquet\n",
      "results_wine_quality_white_dataset_mljar_0.parquet\n",
      "results_moneyball_dataset_autofeat_0.parquet\n",
      "results_moneyball_dataset_autogluon_0.parquet\n",
      "results_blood_transfusion_service_center_dataset_autogluon_0.parquet\n",
      "results_churn_dataset_correlationBasedFS_0.parquet\n",
      "results_australian_dataset_autofeat_0.parquet\n",
      "results_wilt_dataset_autogluon_0.parquet\n",
      "results_churn_dataset_original_1.parquet\n",
      "results_bioresponse_dataset_h2o_1.parquet\n",
      "results_bioresponse_dataset_original_1.parquet\n",
      "results_moneyball_dataset_original_0.parquet\n",
      "results_wilt_dataset_mljar_1.parquet\n",
      "results_mfeat_factors_dataset_h2o_0.parquet\n",
      "results_pc4_dataset_mljar_1.parquet\n",
      "results_internet_advertisements_dataset_autogluon_0.parquet\n",
      "results_madeline_dataset_bioautoml_0.parquet\n",
      "results_dna_dataset_h2o_1.parquet\n",
      "results_bioresponse_dataset_original_0.parquet\n",
      "results_wine_quality_white_dataset_autogluon_0.parquet\n",
      "'metric:roc_auc_ovo [0.0, 1.0] (maximize)' for file results_wine_quality_white_dataset_autogluon_0.parquet\n",
      "results_churn_dataset_original_0.parquet\n",
      "results_madeline_dataset_autogluon_0.parquet\n",
      "results_kr_vs_kp_dataset_autogluon_0.parquet\n",
      "results_bioresponse_dataset_h2o_0.parquet\n",
      "results_dna_dataset_original_0.parquet\n",
      "results_australian_dataset_correlationBasedFS_0.parquet\n",
      "results_car_dataset_original_1.parquet\n",
      "results_moneyball_dataset_original_1.parquet\n",
      "'metric:roc_auc_ovo [0.0, 1.0] (maximize)' for file results_moneyball_dataset_original_1.parquet\n",
      "results_wilt_dataset_mljar_0.parquet\n",
      "results_mfeat_factors_dataset_original_0.parquet\n",
      "results_mfeat_factors_dataset_correlationBasedFS_0.parquet\n",
      "results_pc4_dataset_mljar_0.parquet\n",
      "results_wilt_dataset_bioautoml_0.parquet\n",
      "results_dna_dataset_h2o_0.parquet\n",
      "results_dna_dataset_autogluon_0.parquet\n",
      "results_credit_g_dataset_original_0.parquet\n",
      "results_madeline_dataset_correlationBasedFS_0.parquet\n",
      "results_wilt_dataset_original_0.parquet\n",
      "results_madeline_dataset_h2o_0.parquet\n",
      "results_madeline_dataset_original_0.parquet\n",
      "results_australian_dataset_autogluon_1.parquet\n",
      "results_kr_vs_kp_dataset_original_0.parquet\n",
      "results_blood_transfusion_service_center_dataset_original_1.parquet\n",
      "results_blood_transfusion_service_center_dataset_h2o_1.parquet\n",
      "results_abalone_dataset_original_0.parquet\n",
      "results_mfeat_factors_dataset_mljar_1.parquet\n",
      "results_credit_g_dataset_autogluon_0.parquet\n",
      "results_gina_dataset_mljar_1.parquet\n",
      "results_abalone_dataset_openfe_0.parquet\n",
      "'metric:roc_auc_ovo [0.0, 1.0] (maximize)' for file results_abalone_dataset_openfe_0.parquet\n",
      "results_mfeat_factors_dataset_mljar_0.parquet\n",
      "results_gina_dataset_mljar_0.parquet\n",
      "results_australian_dataset_autogluon_0.parquet\n",
      "results_madeline_dataset_mljar_2.parquet\n",
      "results_blood_transfusion_service_center_dataset_mljar_1.parquet\n",
      "results_pc4_dataset_original_0.parquet\n",
      "results_blood_transfusion_service_center_dataset_original_0.parquet\n",
      "results_blood_transfusion_service_center_dataset_h2o_0.parquet\n",
      "results_gina_dataset_correlationBasedFS_0.parquet\n",
      "results_bioresponse_dataset_mljar_0.parquet\n",
      "results_australian_dataset_boruta_0.parquet\n",
      "results_mfeat_factors_dataset_mljar_2.parquet\n",
      "results_gina_dataset_mljar_2.parquet\n",
      "results_australian_dataset_h2o_1.parquet\n",
      "results_churn_dataset_h2o_0.parquet\n",
      "results_car_dataset_autogluon_1.parquet\n",
      "results_pc4_dataset_bioautoml_0.parquet\n",
      "results_madeline_dataset_mljar_0.parquet\n",
      "results_pc4_dataset_h2o_0.parquet\n",
      "results_blood_transfusion_service_center_dataset_autofeat_0.parquet\n",
      "results_mfeat_factors_dataset_bioautoml_0.parquet\n",
      "results_gina_dataset_original_0.parquet\n",
      "results_abalone_dataset_autofeat_0.parquet\n",
      "results_churn_dataset_h2o_1.parquet\n",
      "results_mfeat_factors_dataset_autogluon_0.parquet\n",
      "results_blood_transfusion_service_center_dataset_mljar_2.parquet\n",
      "'metric:roc_auc_ovo [0.0, 1.0] (maximize)' for file results_blood_transfusion_service_center_dataset_mljar_2.parquet\n",
      "results_madeline_dataset_mljar_1.parquet\n",
      "results_pc4_dataset_autogluon_0.parquet\n",
      "results_churn_dataset_autogluon_1.parquet\n",
      "results_bioresponse_dataset_mljar_1.parquet\n",
      "results_wilt_dataset_h2o_0.parquet\n",
      "results_dna_dataset_correlationBasedFS_0.parquet\n",
      "results_blood_transfusion_service_center_dataset_correlationBasedFS_0.parquet\n",
      "results_australian_dataset_h2o_0.parquet\n",
      "results_wine_quality_white_dataset_h2o_0.parquet\n",
      "                   Dataset              Method Fold     Value\n",
      "0   internetadvertisements            original    0  0.980815\n",
      "1              bioresponse           autogluon    1  0.656238\n",
      "2         winequalitywhite               mljar    1  0.902802\n",
      "3         winequalitywhite               mljar    1  0.899262\n",
      "4                      pc4               mljar    2  0.984942\n",
      "..                     ...                 ...  ...       ...\n",
      "88                    wilt                 h2o    0  0.759955\n",
      "89                     dna  correlationBasedFS    0  0.571756\n",
      "90                     dna  correlationBasedFS    0  0.781889\n",
      "91              australian                 h2o    0  0.893418\n",
      "92        winequalitywhite                 h2o    0  0.996603\n",
      "\n",
      "[93 rows x 4 columns]\n"
     ]
    }
   ],
   "execution_count": 18
  },
  {
   "metadata": {
    "ExecuteTime": {
     "end_time": "2024-07-11T09:25:46.232198Z",
     "start_time": "2024-07-11T09:25:46.227400Z"
    }
   },
   "cell_type": "code",
   "source": [
    "# Standard Deviation\n",
    "df_stddev = df_all.groupby(['Dataset', 'Method'])['Value'].std().reset_index()\n",
    "df_stddev.rename(columns={'Value': 'StdDev'}, inplace=True)\n",
    "df_stddev['StdDev'] = df_stddev['StdDev'].fillna(0)\n",
    "# Average values\n",
    "df_summary = df_all.groupby(['Dataset', 'Method'])['Value'].mean().reset_index().fillna(0)"
   ],
   "id": "3020a585095f5f61",
   "outputs": [],
   "execution_count": 19
  },
  {
   "metadata": {
    "ExecuteTime": {
     "end_time": "2024-07-11T09:25:46.237494Z",
     "start_time": "2024-07-11T09:25:46.233127Z"
    }
   },
   "cell_type": "code",
   "source": [
    "# Add standard deviation to the averages values\n",
    "df_summary = pd.merge(df_summary, df_stddev)\n",
    "df_summary['Value_with_StdDev'] = df_summary.apply(lambda row: f\"{row['Value']} ± {row['StdDev']}\", axis=1)"
   ],
   "id": "e11c883d21ac5e91",
   "outputs": [],
   "execution_count": 20
  },
  {
   "metadata": {
    "ExecuteTime": {
     "end_time": "2024-07-11T09:25:46.245669Z",
     "start_time": "2024-07-11T09:25:46.238277Z"
    }
   },
   "cell_type": "code",
   "source": [
    "# Print and write to file\n",
    "pivot_table = df_summary.pivot(index='Dataset', columns='Method', values='Value_with_StdDev').fillna('0 ± 0')\n",
    "pivot_table.reset_index(inplace=True)\n",
    "pivot_table.to_parquet('tabular_data.parquet')\n",
    "print(tabulate(pivot_table, headers='keys', tablefmt='pretty'))"
   ],
   "id": "94bc92eb98f3b90a",
   "outputs": [
    {
     "name": "stdout",
     "output_type": "stream",
     "text": [
      "+----+------------------------+--------------------------+-------------------------------------------+--------------------------+--------------------------+------------------------------------------+-------------------------------------------+--------------------------------------------+-------------------------------------------+\n",
      "|    |        Dataset         |         autofeat         |                 autogluon                 |        bioautoml         |          boruta          |            correlationBasedFS            |                    h2o                    |                   mljar                    |                 original                  |\n",
      "+----+------------------------+--------------------------+-------------------------------------------+--------------------------+--------------------------+------------------------------------------+-------------------------------------------+--------------------------------------------+-------------------------------------------+\n",
      "| 0  |        abalone         | 0.8742023932917841 ± 0.0 |         0.8740636845547581 ± 0.0          |          0 ± 0           |          0 ± 0           |                  0 ± 0                   |                   0 ± 0                   |                   0 ± 0                    |         0.8742023932917841 ± 0.0          |\n",
      "| 1  |       australian       | 0.9357353393959644 ± 0.0 | 0.9057249509869136 ± 0.08245325869647727  |          0 ± 0           | 0.8795748590552972 ± 0.0 |         0.8828397743157246 ± 0.0         | 0.7502701804463167 ± 0.20244147725372777  |                   0 ± 0                    | 0.9153332415318285 ± 0.07140077135051043  |\n",
      "| 2  |      bioresponse       |          0 ± 0           | 0.6886275855692466 ± 0.045805893387618216 |          0 ± 0           |          0 ± 0           |                  0 ± 0                   |  0.848177906736598 ± 0.12947800942020318  | 0.8720782285744516 ± 0.0012848085545589343 | 0.6777100240604387 ± 0.035083433485248554 |\n",
      "| 3  |          car           |          0 ± 0           |         0.9856119750245932 ± 0.0          |          0 ± 0           |          0 ± 0           |                  0 ± 0                   |                   0 ± 0                   |                   0 ± 0                    |         0.9862437010978199 ± 0.0          |\n",
      "| 4  |         churn          | 0.9736278317856127 ± 0.0 |          0.977515285380218 ± 0.0          |          0 ± 0           |          0 ± 0           |         0.7875548364671253 ± 0.0         | 0.8502126989036614 ± 0.19708462567585872  |                   0 ± 0                    | 0.9828498138067687 ± 0.009333930911996097 |\n",
      "| 5  |        creditg         | 0.7630044409417418 ± 0.0 |         0.9429411945144534 ± 0.0          |          0 ± 0           |          0 ± 0           |                  0 ± 0                   |                   0 ± 0                   |                   0 ± 0                    |         0.8296868265254286 ± 0.0          |\n",
      "| 6  |          dna           |          0 ± 0           |         0.9919885652365782 ± 0.0          |          0 ± 0           |          0 ± 0           | 0.6768225260848846 ± 0.14858678257252872 | 0.9797901151946515 ± 0.021353434498522773 |                   0 ± 0                    |         0.9222559411894418 ± 0.0          |\n",
      "| 7  |          gina          |          0 ± 0           |         0.9097410768555133 ± 0.0          | 0.9899622263546126 ± 0.0 |          0 ± 0           |         0.8437037283621781 ± 0.0         |                   0 ± 0                   |  0.9085234263651625 ± 0.14574947593297782  |         0.7791993077305492 ± 0.0          |\n",
      "| 8  | internetadvertisements |          0 ± 0           |         0.7527571828315863 ± 0.0          |          0 ± 0           |          0 ± 0           |                  0 ± 0                   |                   0 ± 0                   |                   0 ± 0                    |         0.9808152634008603 ± 0.0          |\n",
      "| 9  |         krvskp         |          0 ± 0           |         0.9969399804111512 ± 0.0          |          0 ± 0           |          0 ± 0           |                  0 ± 0                   |                   0 ± 0                   |                   0 ± 0                    |  0.837284878298751 ± 0.1366756035844669   |\n",
      "| 10 |        madeline        |          0 ± 0           |         0.6595827599356582 ± 0.0          | 0.9509059711376301 ± 0.0 |          0 ± 0           |         0.9504291540835528 ± 0.0         |         0.9748623102673305 ± 0.0          |  0.7326330569639038 ± 0.14854413601326216  |          0.788901783907271 ± 0.0          |\n",
      "| 11 |      mfeatfactors      |          0 ± 0           |         0.7668621376315129 ± 0.0          | 0.7220690414151643 ± 0.0 |          0 ± 0           |         0.8630468455054373 ± 0.0         |         0.9209220396304586 ± 0.0          |  0.7891241964848291 ± 0.1365183802566635   |         0.9560846867295837 ± 0.0          |\n",
      "| 12 |       moneyball        | 0.9888165847549418 ± 0.0 | 0.9451734578847167 ± 0.061232439044024395 |          0 ± 0           |          0 ± 0           |                  0 ± 0                   |                   0 ± 0                   |                   0 ± 0                    |         0.9884713307613383 ± 0.0          |\n",
      "| 13 |          pc4           |          0 ± 0           |         0.9481827445652175 ± 0.0          | 0.9344095571372413 ± 0.0 |          0 ± 0           |                  0 ± 0                   | 0.7886038540212532 ± 0.17143379941743053  | 0.9640912486775631 ± 0.018071736189985078  | 0.9155649648685076 ± 0.05916040881908101  |\n",
      "| 14 |          wilt          |          0 ± 0           |         0.9901990996792036 ± 0.0          | 0.9806445062526042 ± 0.0 |          0 ± 0           |                  0 ± 0                   |         0.7599552997992722 ± 0.0          | 0.9767708772306554 ± 0.014125452871210219  |         0.9835308713934069 ± 0.0          |\n",
      "| 15 |    winequalitywhite    |          0 ± 0           |                   0 ± 0                   |          0 ± 0           |          0 ± 0           |                  0 ± 0                   |         0.9966034896646244 ± 0.0          | 0.9306335151857644 ± 0.051302221763540885  |                   0 ± 0                   |\n",
      "+----+------------------------+--------------------------+-------------------------------------------+--------------------------+--------------------------+------------------------------------------+-------------------------------------------+--------------------------------------------+-------------------------------------------+\n"
     ]
    }
   ],
   "execution_count": 21
  },
  {
   "metadata": {},
   "cell_type": "markdown",
   "source": "### Boxplots",
   "id": "25e9e8fbbe3f48fd"
  },
  {
   "metadata": {
    "ExecuteTime": {
     "end_time": "2024-07-11T09:25:46.425364Z",
     "start_time": "2024-07-11T09:25:46.246515Z"
    }
   },
   "cell_type": "code",
   "source": [
    "# Extract values\n",
    "def extract_value(value_with_stddev):\n",
    "    value, _ = value_with_stddev.split(' ± ')\n",
    "    return float(value)\n",
    "\n",
    "pivot_table_numeric = pivot_table.set_index('Dataset').applymap(extract_value).reset_index()\n",
    "\n",
    "# Melt DataFrame to format for seaborn\n",
    "melted_df = pd.melt(pivot_table_numeric, id_vars=['Dataset'], var_name='Type', value_name='Value')\n",
    "\n",
    "plt.figure(figsize=(10, 6))\n",
    "sns.boxplot(x='Type', y='Value', data=melted_df)\n",
    "plt.xlabel(\"Type\")\n",
    "plt.ylabel(\"Value\")\n",
    "plt.title(\"Box Plot of Values by Type\")\n",
    "plt.xticks(rotation=45)  # Rotate x-axis labels if necessary\n",
    "plt.grid(True)\n",
    "plt.tight_layout()\n",
    "plt.savefig('plots/box_plot.png')\n",
    "plt.show()"
   ],
   "id": "9b649b0cecc589e8",
   "outputs": [
    {
     "data": {
      "text/plain": [
       "<Figure size 1000x600 with 1 Axes>"
      ],
      "image/png": "[encoded data removed]"
     },
     "metadata": {},
     "output_type": "display_data"
    }
   ],
   "execution_count": 22
  }
 ],
 "metadata": {
  "kernelspec": {
   "display_name": "Python 3",
   "language": "python",
   "name": "python3"
  },
  "language_info": {
   "codemirror_mode": {
    "name": "ipython",
    "version": 2
   },
   "file_extension": ".py",
   "mimetype": "text/x-python",
   "name": "python",
   "nbconvert_exporter": "python",
   "pygments_lexer": "ipython2",
   "version": "2.7.6"
  }
 },
 "nbformat": 4,
 "nbformat_minor": 5
}
