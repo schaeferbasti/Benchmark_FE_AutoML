{
 "cells": [
  {
   "metadata": {},
   "cell_type": "markdown",
   "source": [
    "# Analysis of the AMLTK Pipeline\n",
    "OpenFE-like Analysis"
   ],
   "id": "146bdc70903a3128"
  },
  {
   "metadata": {},
   "cell_type": "markdown",
   "source": "### To Do for the User",
   "id": "58c202e150c98a6b"
  },
  {
   "metadata": {
    "ExecuteTime": {
     "end_time": "2024-07-16T09:53:19.077888Z",
     "start_time": "2024-07-16T09:53:19.076489Z"
    }
   },
   "cell_type": "code",
   "source": "# Nothing To Dos",
   "id": "ad49e094ce21437c",
   "outputs": [],
   "execution_count": 1
  },
  {
   "metadata": {},
   "cell_type": "markdown",
   "source": "### Imports\n",
   "id": "9af30369bbe6f3a2"
  },
  {
   "metadata": {
    "ExecuteTime": {
     "end_time": "2024-07-16T09:53:19.085303Z",
     "start_time": "2024-07-16T09:53:19.079325Z"
    }
   },
   "cell_type": "code",
   "source": [
    "import os\n",
    "import numpy as np\n",
    "\n",
    "import pandas as pd\n",
    "import seaborn as sns\n",
    "import matplotlib.pyplot as plt\n",
    "from tabulate import tabulate\n",
    "\n",
    "import warnings\n",
    "warnings.simplefilter(action='ignore', category=FutureWarning)"
   ],
   "id": "45f7d1e9c31a38a5",
   "outputs": [],
   "execution_count": 2
  },
  {
   "metadata": {},
   "cell_type": "markdown",
   "source": "### Read Files",
   "id": "b24031355132aed5"
  },
  {
   "metadata": {
    "ExecuteTime": {
     "end_time": "2024-07-16T09:53:19.089625Z",
     "start_time": "2024-07-16T09:53:19.086097Z"
    }
   },
   "cell_type": "code",
   "source": [
    "files = os.listdir(os.curdir)\n",
    "parquet_files = []\n",
    "for file in files:\n",
    "    if file.endswith(\".parquet\") and not file.__contains__(\"tabular_data\"):\n",
    "        parquet_files.append(file)\n",
    "print(parquet_files)"
   ],
   "id": "fdff4d8293b912bd",
   "outputs": [
    {
     "name": "stdout",
     "output_type": "stream",
     "text": [
      "['results_gina_dataset_original_lgbm_0.parquet', 'results_credit_g_dataset_original_lgbm_0.parquet', 'results_moneyball_dataset_original_lgbm_0.parquet', 'results_madeline_dataset_correlationBasedFS_lgbm_0.parquet', 'results_gina_dataset_autogluon_lgbm_0.parquet', 'results_blood_transfusion_service_center_dataset_correlationBasedFS_lgbm_0.parquet', 'results_gina_dataset_mljar_lgbm_1.parquet', 'results_kr_vs_kp_dataset_original_lgbm_0.parquet', 'results_blood_transfusion_service_center_dataset_autofeat_lgbm_0.parquet', 'results_australian_dataset_autofeat_lgbm_0.parquet', 'results_mfeat_factors_dataset_autogluon_lgbm_0.parquet', 'results_wilt_dataset_bioautoml_lgbm_0.parquet', 'results_abalone_dataset_openfe_lgbm_0.parquet', 'results_dna_dataset_autogluon_lgbm_0.parquet', 'results_australian_dataset_h2o_lgbm_1.parquet', 'results_churn_dataset_autofeat_lgbm_0.parquet', 'results_gina_dataset_mljar_lgbm_0.parquet', 'results_blood_transfusion_service_center_dataset_mljar_lgbm_1.parquet', 'results_australian_dataset_h2o_lgbm_0.parquet', 'results_dna_dataset_autogluon_lgbm_1.parquet', 'results_churn_dataset_xxx_lgbm_0.parquet', 'results_bioresponse_dataset_mljar_lgbm_3.parquet', 'results_wilt_dataset_mljar_lgbm_2.parquet', 'results_credit_g_dataset_original_lgbm_1.parquet', 'results_australian_dataset_correlationBasedFS_lgbm_0.parquet', 'results_moneyball_dataset_original_lgbm_1.parquet', 'results_madeline_dataset_bioautoml_lgbm_0.parquet', 'results_mfeat_factors_dataset_correlationBasedFS_lgbm_0.parquet', 'results_gina_dataset_mljar_lgbm_2.parquet', 'results_wilt_dataset_autogluon_lgbm_0.parquet', 'results_mfeat_factors_dataset_bioautoml_lgbm_0.parquet', 'results_madeline_dataset_original_lgbm_0.parquet', 'results_wilt_dataset_mljar_lgbm_0.parquet', 'results_bioresponse_dataset_autogluon_lgbm_1.parquet', 'results_australian_dataset_autogluon_lgbm_1.parquet', 'results_bioresponse_dataset_mljar_lgbm_1.parquet', 'results_dna_dataset_original_lgbm_0.parquet', 'results_abalone_dataset_autogluon_lgbm_0.parquet', 'results_dna_dataset_h2o_lgbm_1.parquet', 'results_australian_dataset_openfe_lgbm_0.parquet', 'results_gina_dataset_bioautoml_lgbm_0.parquet', 'results_churn_dataset_h2o_lgbm_1.parquet', 'results_bioresponse_dataset_h2o_lgbm_1.parquet', 'results_australian_dataset_autogluon_lgbm_0.parquet', 'results_bioresponse_dataset_autogluon_lgbm_0.parquet', 'results_abalone_dataset_autofeat_lgbm_0.parquet', 'results_wilt_dataset_mljar_lgbm_1.parquet', 'results_car_dataset_autogluon_lgbm_1.parquet', 'results_dna_dataset_original_lgbm_1.parquet', 'results_mfeat_factors_dataset_h2o_lgbm_0.parquet', 'results_bioresponse_dataset_mljar_lgbm_0.parquet', 'results_dna_dataset_h2o_lgbm_0.parquet', 'results_madeline_dataset_autogluon_lgbm_0.parquet', 'results_bioresponse_dataset_h2o_lgbm_0.parquet', 'results_churn_dataset_h2o_lgbm_0.parquet', 'results_blood_transfusion_service_center_dataset_mljar_lgbm_2.parquet', 'results_wilt_dataset_h2o_lgbm_0.parquet', 'results_wine_quality_white_dataset_h2o_lgbm_0.parquet', 'results_kr_vs_kp_dataset_autogluon_lgbm_0.parquet', 'results_mfeat_factors_dataset_mljar_lgbm_2.parquet', 'results_credit_g_dataset_autogluon_lgbm_1.parquet', 'results_pc4_dataset_mljar_lgbm_0.parquet', 'results_moneyball_dataset_autogluon_lgbm_0.parquet', 'results_wine_quality_white_dataset_mljar_lgbm_0.parquet', 'results_blood_transfusion_service_center_dataset_h2o_lgbm_1.parquet', 'results_madeline_dataset_h2o_lgbm_0.parquet', 'results_blood_transfusion_service_center_dataset_openfe_lgbm_0.parquet', 'results_moneyball_dataset_openfe_lgbm_0.parquet', 'results_dna_dataset_autofeat_lgbm_0.parquet', 'results_blood_transfusion_service_center_dataset_autogluon_lgbm_0.parquet', 'results_internet_advertisements_dataset_autogluon_lgbm_0.parquet', 'results_wine_quality_white_dataset_bioautoml_lgbm_0.parquet', 'results_pc4_dataset_correlationBasedFS_lgbm_0.parquet', 'results_churn_dataset_correlationBasedFS_lgbm_0.parquet', 'results_madeline_dataset_mljar_lgbm_2.parquet', 'results_abalone_dataset_original_lgbm_0.parquet', 'results_blood_transfusion_service_center_dataset_autogluon_lgbm_1.parquet', 'results_dna_dataset_correlationBasedFS_lgbm_0.parquet', 'results_mfeat_factors_dataset_original_lgbm_0.parquet', 'results_credit_g_dataset_autogluon_lgbm_0.parquet', 'results_wine_quality_white_dataset_mljar_lgbm_1.parquet', 'results_pc4_dataset_bioautoml_lgbm_0.parquet', 'results_blood_transfusion_service_center_dataset_h2o_lgbm_0.parquet', 'results_moneyball_dataset_autogluon_lgbm_1.parquet', 'results_pc4_dataset_mljar_lgbm_1.parquet', 'results_car_dataset_original_lgbm_1.parquet', 'results_pc4_dataset_h2o_lgbm_0.parquet', 'results_wilt_dataset_original_lgbm_0.parquet', 'results_moneyball_dataset_autofeat_lgbm_0.parquet', 'results_churn_dataset_autogluon_lgbm_1.parquet', 'results_bioresponse_dataset_original_lgbm_1.parquet', 'results_madeline_dataset_mljar_lgbm_0.parquet', 'results_credit_g_dataset_autofeat_lgbm_0.parquet', 'results_blood_transfusion_service_center_dataset_bioautoml_lgbm_0.parquet', 'results_australian_dataset_boruta_lgbm_0.parquet', 'results_mfeat_factors_dataset_mljar_lgbm_1.parquet', 'results_churn_dataset_original_lgbm_0.parquet', 'results_blood_transfusion_service_center_dataset_original_lgbm_0.parquet', 'results_australian_dataset_original_lgbm_0.parquet', 'results_mfeat_factors_dataset_mljar_lgbm_0.parquet', 'results_churn_dataset_original_lgbm_1.parquet', 'results_gina_dataset_correlationBasedFS_lgbm_0.parquet', 'results_wilt_dataset_correlationBasedFS_lgbm_0.parquet', 'results_australian_dataset_original_lgbm_1.parquet', 'results_blood_transfusion_service_center_dataset_original_lgbm_1.parquet', 'results_pc4_dataset_original_lgbm_0.parquet', 'results_pc4_dataset_autogluon_lgbm_0.parquet', 'results_pc4_dataset_mljar_lgbm_2.parquet', 'results_wine_quality_white_dataset_mljar_lgbm_2.parquet', 'results_wine_quality_white_dataset_autogluon_lgbm_0.parquet', 'results_bioresponse_dataset_original_lgbm_0.parquet', 'results_madeline_dataset_mljar_lgbm_1.parquet', 'results_internet_advertisements_dataset_original_lgbm_0.parquet']\n"
     ]
    }
   ],
   "execution_count": 3
  },
  {
   "metadata": {
    "ExecuteTime": {
     "end_time": "2024-07-16T09:53:21.716948Z",
     "start_time": "2024-07-16T09:53:19.090460Z"
    }
   },
   "cell_type": "code",
   "source": [
    "df_all = pd.DataFrame(columns=['Dataset', 'Method', 'Fold', 'Value'])\n",
    "\n",
    "for file in parquet_files:\n",
    "    print(file)\n",
    "    core_name = file[len('results_'):-len('.parquet')]\n",
    "    parts = core_name.split('_')\n",
    "    if parts[1] == \"dataset\":\n",
    "        dataset = parts[0]\n",
    "        method = parts[2]\n",
    "        fold = parts[4]\n",
    "    elif parts[2] == \"dataset\":\n",
    "        dataset = parts[0] + parts[1]\n",
    "        method = parts[3]\n",
    "        fold = parts[5]\n",
    "    elif parts[3] == \"dataset\":\n",
    "        dataset = parts[0] + parts[1] + parts[2]\n",
    "        method = parts[4]\n",
    "        fold = parts[6]\n",
    "    if method == \"xxx\":\n",
    "        print(\"xxx is not a valid method name\")\n",
    "    else:\n",
    "        df = pd.read_parquet(file)\n",
    "        df = df[df['status'] == 'success']\n",
    "        try:\n",
    "            metric_accuracy = df[\"metric:roc_auc_ovo [0.0, 1.0] (maximize)\"].tolist()\n",
    "            value = np.average(metric_accuracy)\n",
    "            df_all = df_all._append({'Dataset': dataset, 'Method': method, 'Fold': fold, 'Value': value}, ignore_index=True)\n",
    "        except KeyError as e:\n",
    "            print(str(e) + \" for file \" + str(file))\n",
    "print(df_all)"
   ],
   "id": "cc6371399537f2fb",
   "outputs": [
    {
     "name": "stdout",
     "output_type": "stream",
     "text": [
      "results_gina_dataset_original_lgbm_0.parquet\n",
      "results_credit_g_dataset_original_lgbm_0.parquet\n",
      "results_moneyball_dataset_original_lgbm_0.parquet\n",
      "results_madeline_dataset_correlationBasedFS_lgbm_0.parquet\n",
      "results_gina_dataset_autogluon_lgbm_0.parquet\n",
      "results_blood_transfusion_service_center_dataset_correlationBasedFS_lgbm_0.parquet\n",
      "results_gina_dataset_mljar_lgbm_1.parquet\n",
      "results_kr_vs_kp_dataset_original_lgbm_0.parquet\n",
      "results_blood_transfusion_service_center_dataset_autofeat_lgbm_0.parquet\n",
      "results_australian_dataset_autofeat_lgbm_0.parquet\n",
      "results_mfeat_factors_dataset_autogluon_lgbm_0.parquet\n",
      "results_wilt_dataset_bioautoml_lgbm_0.parquet\n",
      "results_abalone_dataset_openfe_lgbm_0.parquet\n",
      "'metric:roc_auc_ovo [0.0, 1.0] (maximize)' for file results_abalone_dataset_openfe_lgbm_0.parquet\n",
      "results_dna_dataset_autogluon_lgbm_0.parquet\n",
      "results_australian_dataset_h2o_lgbm_1.parquet\n",
      "results_churn_dataset_autofeat_lgbm_0.parquet\n",
      "results_gina_dataset_mljar_lgbm_0.parquet\n",
      "results_blood_transfusion_service_center_dataset_mljar_lgbm_1.parquet\n",
      "results_australian_dataset_h2o_lgbm_0.parquet\n",
      "results_dna_dataset_autogluon_lgbm_1.parquet\n",
      "results_churn_dataset_xxx_lgbm_0.parquet\n",
      "xxx is not a valid method name\n",
      "results_bioresponse_dataset_mljar_lgbm_3.parquet\n",
      "results_wilt_dataset_mljar_lgbm_2.parquet\n",
      "results_credit_g_dataset_original_lgbm_1.parquet\n",
      "results_australian_dataset_correlationBasedFS_lgbm_0.parquet\n",
      "results_moneyball_dataset_original_lgbm_1.parquet\n",
      "'metric:roc_auc_ovo [0.0, 1.0] (maximize)' for file results_moneyball_dataset_original_lgbm_1.parquet\n",
      "results_madeline_dataset_bioautoml_lgbm_0.parquet\n",
      "results_mfeat_factors_dataset_correlationBasedFS_lgbm_0.parquet\n",
      "results_gina_dataset_mljar_lgbm_2.parquet\n",
      "results_wilt_dataset_autogluon_lgbm_0.parquet\n",
      "results_mfeat_factors_dataset_bioautoml_lgbm_0.parquet\n",
      "results_madeline_dataset_original_lgbm_0.parquet\n",
      "results_wilt_dataset_mljar_lgbm_0.parquet\n",
      "results_bioresponse_dataset_autogluon_lgbm_1.parquet\n",
      "results_australian_dataset_autogluon_lgbm_1.parquet\n",
      "results_bioresponse_dataset_mljar_lgbm_1.parquet\n",
      "results_dna_dataset_original_lgbm_0.parquet\n",
      "results_abalone_dataset_autogluon_lgbm_0.parquet\n",
      "results_dna_dataset_h2o_lgbm_1.parquet\n",
      "results_australian_dataset_openfe_lgbm_0.parquet\n",
      "results_gina_dataset_bioautoml_lgbm_0.parquet\n",
      "results_churn_dataset_h2o_lgbm_1.parquet\n",
      "results_bioresponse_dataset_h2o_lgbm_1.parquet\n",
      "results_australian_dataset_autogluon_lgbm_0.parquet\n",
      "results_bioresponse_dataset_autogluon_lgbm_0.parquet\n",
      "results_abalone_dataset_autofeat_lgbm_0.parquet\n",
      "results_wilt_dataset_mljar_lgbm_1.parquet\n",
      "results_car_dataset_autogluon_lgbm_1.parquet\n",
      "results_dna_dataset_original_lgbm_1.parquet\n",
      "results_mfeat_factors_dataset_h2o_lgbm_0.parquet\n",
      "results_bioresponse_dataset_mljar_lgbm_0.parquet\n",
      "results_dna_dataset_h2o_lgbm_0.parquet\n",
      "results_madeline_dataset_autogluon_lgbm_0.parquet\n",
      "results_bioresponse_dataset_h2o_lgbm_0.parquet\n",
      "results_churn_dataset_h2o_lgbm_0.parquet\n",
      "results_blood_transfusion_service_center_dataset_mljar_lgbm_2.parquet\n",
      "'metric:roc_auc_ovo [0.0, 1.0] (maximize)' for file results_blood_transfusion_service_center_dataset_mljar_lgbm_2.parquet\n",
      "results_wilt_dataset_h2o_lgbm_0.parquet\n",
      "results_wine_quality_white_dataset_h2o_lgbm_0.parquet\n",
      "results_kr_vs_kp_dataset_autogluon_lgbm_0.parquet\n",
      "results_mfeat_factors_dataset_mljar_lgbm_2.parquet\n",
      "results_credit_g_dataset_autogluon_lgbm_1.parquet\n",
      "results_pc4_dataset_mljar_lgbm_0.parquet\n",
      "results_moneyball_dataset_autogluon_lgbm_0.parquet\n",
      "results_wine_quality_white_dataset_mljar_lgbm_0.parquet\n",
      "results_blood_transfusion_service_center_dataset_h2o_lgbm_1.parquet\n",
      "results_madeline_dataset_h2o_lgbm_0.parquet\n",
      "results_blood_transfusion_service_center_dataset_openfe_lgbm_0.parquet\n",
      "results_moneyball_dataset_openfe_lgbm_0.parquet\n",
      "results_dna_dataset_autofeat_lgbm_0.parquet\n",
      "results_blood_transfusion_service_center_dataset_autogluon_lgbm_0.parquet\n",
      "results_internet_advertisements_dataset_autogluon_lgbm_0.parquet\n",
      "results_wine_quality_white_dataset_bioautoml_lgbm_0.parquet\n",
      "results_pc4_dataset_correlationBasedFS_lgbm_0.parquet\n",
      "results_churn_dataset_correlationBasedFS_lgbm_0.parquet\n",
      "results_madeline_dataset_mljar_lgbm_2.parquet\n",
      "results_abalone_dataset_original_lgbm_0.parquet\n",
      "results_blood_transfusion_service_center_dataset_autogluon_lgbm_1.parquet\n",
      "results_dna_dataset_correlationBasedFS_lgbm_0.parquet\n",
      "results_mfeat_factors_dataset_original_lgbm_0.parquet\n",
      "results_credit_g_dataset_autogluon_lgbm_0.parquet\n",
      "results_wine_quality_white_dataset_mljar_lgbm_1.parquet\n",
      "'metric:roc_auc_ovo [0.0, 1.0] (maximize)' for file results_wine_quality_white_dataset_mljar_lgbm_1.parquet\n",
      "results_pc4_dataset_bioautoml_lgbm_0.parquet\n",
      "results_blood_transfusion_service_center_dataset_h2o_lgbm_0.parquet\n",
      "results_moneyball_dataset_autogluon_lgbm_1.parquet\n",
      "'metric:roc_auc_ovo [0.0, 1.0] (maximize)' for file results_moneyball_dataset_autogluon_lgbm_1.parquet\n",
      "results_pc4_dataset_mljar_lgbm_1.parquet\n",
      "results_car_dataset_original_lgbm_1.parquet\n",
      "results_pc4_dataset_h2o_lgbm_0.parquet\n",
      "results_wilt_dataset_original_lgbm_0.parquet\n",
      "results_moneyball_dataset_autofeat_lgbm_0.parquet\n",
      "results_churn_dataset_autogluon_lgbm_1.parquet\n",
      "results_bioresponse_dataset_original_lgbm_1.parquet\n",
      "results_madeline_dataset_mljar_lgbm_0.parquet\n",
      "results_credit_g_dataset_autofeat_lgbm_0.parquet\n",
      "results_blood_transfusion_service_center_dataset_bioautoml_lgbm_0.parquet\n",
      "results_australian_dataset_boruta_lgbm_0.parquet\n",
      "results_mfeat_factors_dataset_mljar_lgbm_1.parquet\n",
      "results_churn_dataset_original_lgbm_0.parquet\n",
      "results_blood_transfusion_service_center_dataset_original_lgbm_0.parquet\n",
      "results_australian_dataset_original_lgbm_0.parquet\n",
      "results_mfeat_factors_dataset_mljar_lgbm_0.parquet\n",
      "results_churn_dataset_original_lgbm_1.parquet\n",
      "results_gina_dataset_correlationBasedFS_lgbm_0.parquet\n",
      "results_wilt_dataset_correlationBasedFS_lgbm_0.parquet\n",
      "results_australian_dataset_original_lgbm_1.parquet\n",
      "results_blood_transfusion_service_center_dataset_original_lgbm_1.parquet\n",
      "results_pc4_dataset_original_lgbm_0.parquet\n",
      "results_pc4_dataset_autogluon_lgbm_0.parquet\n",
      "results_pc4_dataset_mljar_lgbm_2.parquet\n",
      "results_wine_quality_white_dataset_mljar_lgbm_2.parquet\n",
      "results_wine_quality_white_dataset_autogluon_lgbm_0.parquet\n",
      "'metric:roc_auc_ovo [0.0, 1.0] (maximize)' for file results_wine_quality_white_dataset_autogluon_lgbm_0.parquet\n",
      "results_bioresponse_dataset_original_lgbm_0.parquet\n",
      "results_madeline_dataset_mljar_lgbm_1.parquet\n",
      "results_internet_advertisements_dataset_original_lgbm_0.parquet\n",
      "                    Dataset              Method Fold     Value\n",
      "0                      gina            original    0  0.779199\n",
      "1                   creditg            original    0  0.829687\n",
      "2                 moneyball            original    0  0.988471\n",
      "3                  madeline  correlationBasedFS    0  0.950429\n",
      "4                      gina           autogluon    0  0.909741\n",
      "..                      ...                 ...  ...       ...\n",
      "101                     pc4               mljar    2  0.984942\n",
      "102        winequalitywhite               mljar    2  0.782963\n",
      "103             bioresponse            original    0  0.702518\n",
      "104                madeline               mljar    1  0.592616\n",
      "105  internetadvertisements            original    0  0.980815\n",
      "\n",
      "[106 rows x 4 columns]\n"
     ]
    }
   ],
   "execution_count": 4
  },
  {
   "metadata": {
    "ExecuteTime": {
     "end_time": "2024-07-16T09:53:21.724909Z",
     "start_time": "2024-07-16T09:53:21.717811Z"
    }
   },
   "cell_type": "code",
   "source": [
    "# Standard Deviation\n",
    "df_stddev = df_all.groupby(['Dataset', 'Method'])['Value'].std().reset_index()\n",
    "df_stddev.rename(columns={'Value': 'StdDev'}, inplace=True)\n",
    "df_stddev['StdDev'] = df_stddev['StdDev'].fillna(0)\n",
    "# Average values\n",
    "df_summary = df_all.groupby(['Dataset', 'Method'])['Value'].mean().reset_index().fillna(0)"
   ],
   "id": "3020a585095f5f61",
   "outputs": [],
   "execution_count": 5
  },
  {
   "metadata": {
    "ExecuteTime": {
     "end_time": "2024-07-16T09:53:21.731795Z",
     "start_time": "2024-07-16T09:53:21.725683Z"
    }
   },
   "cell_type": "code",
   "source": [
    "# Add standard deviation to the averages values\n",
    "df_summary = pd.merge(df_summary, df_stddev)\n",
    "df_summary['Value_with_StdDev'] = df_summary.apply(lambda row: f\"{row['Value']} ± {row['StdDev']}\", axis=1)"
   ],
   "id": "e11c883d21ac5e91",
   "outputs": [],
   "execution_count": 6
  },
  {
   "metadata": {
    "ExecuteTime": {
     "end_time": "2024-07-16T09:53:21.745579Z",
     "start_time": "2024-07-16T09:53:21.733650Z"
    }
   },
   "cell_type": "code",
   "source": [
    "# Print and write to file\n",
    "pivot_table = df_summary.pivot(index='Dataset', columns='Method', values='Value_with_StdDev').fillna('0 ± 0')\n",
    "pivot_table.reset_index(inplace=True)\n",
    "pivot_table.to_parquet('tabular_data.parquet')\n",
    "print(tabulate(pivot_table, headers='keys', tablefmt='pretty'))"
   ],
   "id": "94bc92eb98f3b90a",
   "outputs": [
    {
     "name": "stdout",
     "output_type": "stream",
     "text": [
      "+----+------------------------+------------------------------------------+---------------------------------------------+-------------------------------------------+--------------------------+--------------------------+-------------------------------------------+-------------------------------------------+--------------------------+-------------------------------------------+\n",
      "|    |        Dataset         |                 autofeat                 |                  autogluon                  |                 bioautoml                 |          boruta          |    correlationBasedFS    |                    h2o                    |                   mljar                   |          openfe          |                 original                  |\n",
      "+----+------------------------+------------------------------------------+---------------------------------------------+-------------------------------------------+--------------------------+--------------------------+-------------------------------------------+-------------------------------------------+--------------------------+-------------------------------------------+\n",
      "| 0  |        abalone         |         0.8742023932917841 ± 0.0         |          0.8740636845547581 ± 0.0           |                   0 ± 0                   |          0 ± 0           |          0 ± 0           |                   0 ± 0                   |                   0 ± 0                   |          0 ± 0           | 0.886732174452137 ± 0.017719786450538066  |\n",
      "| 1  |       australian       |         0.9357353393959644 ± 0.0         |  0.9057249509869136 ± 0.08245325869647727   |                   0 ± 0                   | 0.8795748590552972 ± 0.0 | 0.8828397743157246 ± 0.0 | 0.7502701804463167 ± 0.20244147725372777  |                   0 ± 0                   | 0.933740977165179 ± 0.0  | 0.9100192300385942 ± 0.051320086020724937 |\n",
      "| 2  |      bioresponse       |                  0 ± 0                   |  0.6886275855692466 ± 0.045805893387618216  |                   0 ± 0                   |          0 ± 0           |          0 ± 0           |  0.848177906736598 ± 0.12947800942020318  | 0.9100958051048341 ± 0.06585464100761172  |          0 ± 0           | 0.6777100240604387 ± 0.035083433485248554 |\n",
      "| 3  |          car           |                  0 ± 0                   |          0.9856119750245932 ± 0.0           |                   0 ± 0                   |          0 ± 0           |          0 ± 0           |                   0 ± 0                   |                   0 ± 0                   |          0 ± 0           |         0.9862437010978199 ± 0.0          |\n",
      "| 4  |         churn          |         0.9736278317856127 ± 0.0         |           0.977515285380218 ± 0.0           |                   0 ± 0                   |          0 ± 0           | 0.7875548364671253 ± 0.0 | 0.8502126989036614 ± 0.19708462567585863  |                   0 ± 0                   |          0 ± 0           | 0.9567044540817337 ± 0.04576352956874547  |\n",
      "| 5  |        creditg         | 0.8329030370180546 ± 0.09885154256196044 |  0.8593753504824961 ± 0.11817994998114861   |                   0 ± 0                   |          0 ± 0           |          0 ± 0           |                   0 ± 0                   |                   0 ± 0                   |          0 ± 0           | 0.8026975136940533 ± 0.03816865224526102  |\n",
      "| 6  |          dna           | 0.9490369598983068 ± 0.06669625598989923 | 0.9918759383061191 ± 0.00015927853254359744 |                   0 ± 0                   |          0 ± 0           | 0.5717558045331583 ± 0.0 | 0.9797901151946515 ± 0.021353434498522773 |                   0 ± 0                   |          0 ± 0           | 0.9569633121442245 ± 0.04908363471856763  |\n",
      "| 7  |          gina          |                  0 ± 0                   |   0.845815162246062 ± 0.0904048954277904    |         0.9899622263546126 ± 0.0          |          0 ± 0           | 0.8437037283621781 ± 0.0 |                   0 ± 0                   | 0.8668892806511128 ± 0.14524306586034777  |          0 ± 0           |         0.7791993077305492 ± 0.0          |\n",
      "| 8  | internetadvertisements |                  0 ± 0                   |          0.7527571828315863 ± 0.0           |                   0 ± 0                   |          0 ± 0           |          0 ± 0           |                   0 ± 0                   |                   0 ± 0                   |          0 ± 0           |         0.9808152634008603 ± 0.0          |\n",
      "| 9  |         krvskp         |                  0 ± 0                   |          0.9969399804111512 ± 0.0           |                   0 ± 0                   |          0 ± 0           |          0 ± 0           |                   0 ± 0                   |                   0 ± 0                   |          0 ± 0           | 0.6739829746163829 ± 0.009335397231932004 |\n",
      "| 10 |        madeline        |                  0 ± 0                   |          0.6595827599356582 ± 0.0           |         0.9509059711376301 ± 0.0          |          0 ± 0           | 0.9504291540835528 ± 0.0 |  0.805783393715396 ± 0.23911369689909445  | 0.7295151281155504 ± 0.18176829105778994  |          0 ± 0           |          0.788901783907271 ± 0.0          |\n",
      "| 11 |      mfeatfactors      |                  0 ± 0                   |          0.7668621376315129 ± 0.0           |         0.7220690414151643 ± 0.0          |          0 ± 0           | 0.8630468455054373 ± 0.0 |         0.9209220396304586 ± 0.0          | 0.7891241964848291 ± 0.13651838025666346  |          0 ± 0           |         0.9560846867295837 ± 0.0          |\n",
      "| 12 |       moneyball        |         0.9888165847549418 ± 0.0         |          0.9884713307613383 ± 0.0           |                   0 ± 0                   |          0 ± 0           |          0 ± 0           |                   0 ± 0                   |                   0 ± 0                   | 0.9356881359437026 ± 0.0 |         0.9884713307613383 ± 0.0          |\n",
      "| 13 |          pc4           |                  0 ± 0                   |          0.9481827445652175 ± 0.0           | 0.8985916335355398 ± 0.050654193333569554 |          0 ± 0           | 0.7817172601445329 ± 0.0 |         0.9098258561138927 ± 0.0          | 0.9640912486775631 ± 0.018071736189985147 |          0 ± 0           |         0.9795074500400213 ± 0.0          |\n",
      "| 14 |          wilt          |                  0 ± 0                   |          0.9901990996792036 ± 0.0           |         0.9806445062526042 ± 0.0          |          0 ± 0           | 0.9899085029690587 ± 0.0 |         0.7599552997992722 ± 0.0          | 0.9767708772306554 ± 0.014125452871210219 |          0 ± 0           |         0.9835308713934069 ± 0.0          |\n",
      "| 15 |    winequalitywhite    |                  0 ± 0                   |                    0 ± 0                    |         0.7787444363335608 ± 0.0          |          0 ± 0           |          0 ± 0           |         0.9966034896646244 ± 0.0          | 0.9015599015392392 ± 0.10671745958487078  |          0 ± 0           |                   0 ± 0                   |\n",
      "+----+------------------------+------------------------------------------+---------------------------------------------+-------------------------------------------+--------------------------+--------------------------+-------------------------------------------+-------------------------------------------+--------------------------+-------------------------------------------+\n"
     ]
    }
   ],
   "execution_count": 7
  },
  {
   "metadata": {},
   "cell_type": "markdown",
   "source": "### Boxplots",
   "id": "25e9e8fbbe3f48fd"
  },
  {
   "metadata": {
    "ExecuteTime": {
     "end_time": "2024-07-16T09:53:21.967562Z",
     "start_time": "2024-07-16T09:53:21.746247Z"
    }
   },
   "cell_type": "code",
   "source": [
    "# Extract values\n",
    "def extract_value(value_with_stddev):\n",
    "    value, _ = value_with_stddev.split(' ± ')\n",
    "    if float(value) == float(0):\n",
    "        return None\n",
    "    else:\n",
    "        return float(value)\n",
    "\n",
    "pivot_table_numeric = pivot_table.set_index('Dataset').applymap(extract_value).reset_index()\n",
    "\n",
    "# Melt DataFrame to format for seaborn\n",
    "melted_df = pd.melt(pivot_table_numeric, id_vars=['Dataset'], var_name='Type', value_name='Value')\n",
    "\n",
    "plt.figure(figsize=(10, 6))\n",
    "sns.boxplot(x='Type', y='Value', data=melted_df)\n",
    "plt.xlabel(\"Type\")\n",
    "plt.ylabel(\"Value\")\n",
    "plt.title(\"Box Plot of Values by Type\")\n",
    "plt.xticks(rotation=45)  # Rotate x-axis labels if necessary\n",
    "plt.grid(True)\n",
    "plt.tight_layout()\n",
    "plt.savefig('plots/box_plot.png')\n",
    "plt.show()"
   ],
   "id": "9b649b0cecc589e8",
   "outputs": [
    {
     "data": {
      "text/plain": [
       "<Figure size 1000x600 with 1 Axes>"
      ],
      "image/png": "[encoded data removed]"
     },
     "metadata": {},
     "output_type": "display_data"
    }
   ],
   "execution_count": 8
  },
  {
   "metadata": {
    "ExecuteTime": {
     "end_time": "2024-07-16T09:53:21.971214Z",
     "start_time": "2024-07-16T09:53:21.968965Z"
    }
   },
   "cell_type": "code",
   "source": "",
   "id": "229035bd734c1f68",
   "outputs": [],
   "execution_count": 8
  }
 ],
 "metadata": {
  "kernelspec": {
   "display_name": "Python 3",
   "language": "python",
   "name": "python3"
  },
  "language_info": {
   "codemirror_mode": {
    "name": "ipython",
    "version": 2
   },
   "file_extension": ".py",
   "mimetype": "text/x-python",
   "name": "python",
   "nbconvert_exporter": "python",
   "pygments_lexer": "ipython2",
   "version": "2.7.6"
  }
 },
 "nbformat": 4,
 "nbformat_minor": 5
}
