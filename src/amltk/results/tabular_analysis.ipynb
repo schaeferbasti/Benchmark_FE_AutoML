{
 "cells": [
  {
   "metadata": {},
   "cell_type": "markdown",
   "source": [
    "# Analysis of the AMLTK Pipeline\n",
    "OpenFE-like Analysis"
   ],
   "id": "146bdc70903a3128"
  },
  {
   "metadata": {},
   "cell_type": "markdown",
   "source": "### To Do for the User",
   "id": "58c202e150c98a6b"
  },
  {
   "metadata": {
    "ExecuteTime": {
     "end_time": "2024-05-25T15:00:59.521753Z",
     "start_time": "2024-05-25T15:00:59.517753Z"
    }
   },
   "cell_type": "code",
   "source": [
    "# TODO 1 for the user: Adapt list of labels (has to correspond to the method names for which the AMLTK was executed in the src/amtlk/main.py main()-method\n",
    "label_list = ['Original Data', 'Self-feature-engineered Data', 'autofeat Data', 'OpenFE Data', 'H2O', 'MLJAR', 'AutoGluon']\n",
    "# TODO 2 for the user: Adjust part size number according to the max_trials variable defined in src/amltk/main.py\n",
    "part_size = 10\n",
    "# TODO 3 for the user: Define the names of the used datasets\n",
    "# all 10 datasets\n",
    "datasets = [\"abalone dataset\", \"moneyball dataset\", \"australian dataset\", \"blood transfusion service center dataset\", \"car dataset\", \"churn dataset\", \"credit g dataset\", \"kr-vs-kp dataset\", \"pc4 dataset\", \"wilt dataset\"]#, \"wine-quality-white dataset\"]\n",
    "# 5 small datasets\n",
    "# datasets = [\"australian dataset\", \"blood transfusion service center dataset\", \"car dataset\", \"credit g dataset\", \"wilt dataset\"]\n",
    "# 1 dataset to test new methods\n",
    "# datasets = ['blood transfusion service center dataset']\n",
    "# TODO 4 for the user. Define number of folds\n",
    "folds = 1"
   ],
   "id": "ad49e094ce21437c",
   "outputs": [],
   "execution_count": 69
  },
  {
   "metadata": {},
   "cell_type": "markdown",
   "source": "### Imports\n",
   "id": "9af30369bbe6f3a2"
  },
  {
   "metadata": {
    "ExecuteTime": {
     "end_time": "2024-05-25T15:00:59.534608Z",
     "start_time": "2024-05-25T15:00:59.531913Z"
    }
   },
   "cell_type": "code",
   "source": [
    "import pandas as pd\n",
    "import numpy as np\n",
    "from tabulate import tabulate\n",
    "\n",
    "import warnings\n",
    "warnings.simplefilter(action='ignore', category=FutureWarning)"
   ],
   "id": "45f7d1e9c31a38a5",
   "outputs": [],
   "execution_count": 70
  },
  {
   "metadata": {},
   "cell_type": "markdown",
   "source": "### Read Files",
   "id": "b24031355132aed5"
  },
  {
   "metadata": {
    "ExecuteTime": {
     "end_time": "2024-05-25T15:00:59.742819Z",
     "start_time": "2024-05-25T15:00:59.543657Z"
    }
   },
   "cell_type": "code",
   "source": [
    "matrix = []\n",
    "\n",
    "for dataset in datasets:\n",
    "    df_dataset = pd.DataFrame()\n",
    "    for fold in range(folds):\n",
    "        dataset = dataset.replace(\" \", \"_\")\n",
    "        dataset = dataset.replace(\"-\", \"_\")\n",
    "        df_fold = pd.read_parquet(\"results_\" + str(dataset) + \"_fold_\" + str(fold) + \".parquet\")\n",
    "        df_dataset = pd.concat([df_dataset, df_fold])\n",
    "    df_dataset['index_col'] = np.arange(len(df_dataset))\n",
    "    df_success = df_dataset[df_dataset[\"status\"] != \"fail\"]\n",
    "    total_parts = int(df_success.shape[0] / part_size)\n",
    "    failed_trials = []\n",
    "    for index in df_dataset['index_col']:\n",
    "        if df_dataset[\"status\"][index] == \"fail\":\n",
    "            failed_trials.append(index)\n",
    "    failed_trials = [int(x / part_size) for x in failed_trials]\n",
    "    failed_trials = list(set(failed_trials))\n",
    "    label_list_success = []\n",
    "    for i in range(len(label_list)):\n",
    "        label_list_success.append(str(label_list[i]))\n",
    "    i = 0\n",
    "    for elem in failed_trials:\n",
    "        elem = elem - i\n",
    "        label_list_success.pop(elem)\n",
    "        i += 1\n",
    "    metric_accuracy = df_success[\"metric:accuracy [0.0, 1.0] (maximize)\"].tolist()\n",
    "    metric_accuracy = [sum(metric_accuracy[x:x+part_size]) for x in range(0, len(metric_accuracy), part_size)]\n",
    "    metric_accuracy.insert(0, dataset)\n",
    "    print(metric_accuracy)\n",
    "    matrix.append(metric_accuracy)"
   ],
   "id": "7ed0a906b96cb455",
   "outputs": [
    {
     "name": "stdout",
     "output_type": "stream",
     "text": [
      "['abalone_dataset', 2.539019189765458, 2.522525291475752, 2.545399333121626, 2.4522926779476477, 2.4448526743183776, 2.517729551331489, 0.472740779385746]\n",
      "['moneyball_dataset', 0.06947919924929621, 0.0821017099363987, 0.06952481493066417, 0.05409368157647795]\n",
      "['australian_dataset', 8.650120712620712, 8.38838245088245, 8.65174408924409, 8.671599234099233, 8.587745587745587, 8.616487678987678, 8.70004995004995]\n",
      "['blood_transfusion_service_center_dataset', 7.668522408963586, 7.6106092436974775, 7.634296218487394, 7.558350840336134, 7.571901260504202, 7.594152661064425, 7.668522408963586]\n",
      "['car_dataset', 8.477917657943431, 7.9402788791964065, 9.518358445678032, 9.663663098070314, 9.333743061062648, 8.185867697594503]\n",
      "['churn_dataset', 9.213124909135733, 8.958455275816513, 9.367345672964484, 9.530903728121464, 9.183559651207627, 9.322007958129745, 9.186449134972156]\n",
      "['credit_g_dataset', 7.368441845764854, 7.337636298988622, 7.472927860303413, 7.481807048040455, 7.345132743362832, 7.485283659924146, 7.472927860303413]\n",
      "['kr_vs_kp_dataset', 9.831340916125038, 9.205354379449087, 9.868561397400185, 9.915498297740637, 9.77570024760136, 9.834118693902816, 9.816731468585576]\n",
      "['pc4_dataset', 8.973323170731707, 8.836128048780488, 8.984756097560975, 9.134146341463413, 8.925304878048781, 8.970274390243903, 8.973323170731707]\n",
      "['wilt_dataset', 9.643629840124122, 9.567399150026983, 9.814915424311927, 9.815838758094982, 9.458333614409067, 9.790125809498111, 9.643629840124122]\n"
     ]
    }
   ],
   "execution_count": 71
  },
  {
   "metadata": {
    "ExecuteTime": {
     "end_time": "2024-05-25T15:05:11.045609Z",
     "start_time": "2024-05-25T15:05:11.034216Z"
    }
   },
   "cell_type": "code",
   "source": [
    "table = tabulate(matrix, label_list, tablefmt=\"fancy_grid\")\n",
    "with open('table.txt', 'w') as outputfile:\n",
    "    outputfile.write(table)\n",
    "print(table)"
   ],
   "id": "896b3e60012f574f",
   "outputs": [
    {
     "name": "stdout",
     "output_type": "stream",
     "text": [
      "╒══════════════════════════════════════════╤═════════════════╤════════════════════════════════╤═════════════════╤═══════════════╤═════════╤═════════╤═════════════╕\n",
      "│                                          │   Original Data │   Self-feature-engineered Data │   autofeat Data │   OpenFE Data │     H2O │   MLJAR │   AutoGluon │\n",
      "╞══════════════════════════════════════════╪═════════════════╪════════════════════════════════╪═════════════════╪═══════════════╪═════════╪═════════╪═════════════╡\n",
      "│ abalone_dataset                          │       2.53902   │                      2.52253   │       2.5454    │     2.45229   │ 2.44485 │ 2.51773 │    0.472741 │\n",
      "├──────────────────────────────────────────┼─────────────────┼────────────────────────────────┼─────────────────┼───────────────┼─────────┼─────────┼─────────────┤\n",
      "│ moneyball_dataset                        │       0.0694792 │                      0.0821017 │       0.0695248 │     0.0540937 │         │         │             │\n",
      "├──────────────────────────────────────────┼─────────────────┼────────────────────────────────┼─────────────────┼───────────────┼─────────┼─────────┼─────────────┤\n",
      "│ australian_dataset                       │       8.65012   │                      8.38838   │       8.65174   │     8.6716    │ 8.58775 │ 8.61649 │    8.70005  │\n",
      "├──────────────────────────────────────────┼─────────────────┼────────────────────────────────┼─────────────────┼───────────────┼─────────┼─────────┼─────────────┤\n",
      "│ blood_transfusion_service_center_dataset │       7.66852   │                      7.61061   │       7.6343    │     7.55835   │ 7.5719  │ 7.59415 │    7.66852  │\n",
      "├──────────────────────────────────────────┼─────────────────┼────────────────────────────────┼─────────────────┼───────────────┼─────────┼─────────┼─────────────┤\n",
      "│ car_dataset                              │       8.47792   │                      7.94028   │       9.51836   │     9.66366   │ 9.33374 │ 8.18587 │             │\n",
      "├──────────────────────────────────────────┼─────────────────┼────────────────────────────────┼─────────────────┼───────────────┼─────────┼─────────┼─────────────┤\n",
      "│ churn_dataset                            │       9.21312   │                      8.95846   │       9.36735   │     9.5309    │ 9.18356 │ 9.32201 │    9.18645  │\n",
      "├──────────────────────────────────────────┼─────────────────┼────────────────────────────────┼─────────────────┼───────────────┼─────────┼─────────┼─────────────┤\n",
      "│ credit_g_dataset                         │       7.36844   │                      7.33764   │       7.47293   │     7.48181   │ 7.34513 │ 7.48528 │    7.47293  │\n",
      "├──────────────────────────────────────────┼─────────────────┼────────────────────────────────┼─────────────────┼───────────────┼─────────┼─────────┼─────────────┤\n",
      "│ kr_vs_kp_dataset                         │       9.83134   │                      9.20535   │       9.86856   │     9.9155    │ 9.7757  │ 9.83412 │    9.81673  │\n",
      "├──────────────────────────────────────────┼─────────────────┼────────────────────────────────┼─────────────────┼───────────────┼─────────┼─────────┼─────────────┤\n",
      "│ pc4_dataset                              │       8.97332   │                      8.83613   │       8.98476   │     9.13415   │ 8.9253  │ 8.97027 │    8.97332  │\n",
      "├──────────────────────────────────────────┼─────────────────┼────────────────────────────────┼─────────────────┼───────────────┼─────────┼─────────┼─────────────┤\n",
      "│ wilt_dataset                             │       9.64363   │                      9.5674    │       9.81492   │     9.81584   │ 9.45833 │ 9.79013 │    9.64363  │\n",
      "╘══════════════════════════════════════════╧═════════════════╧════════════════════════════════╧═════════════════╧═══════════════╧═════════╧═════════╧═════════════╛\n"
     ]
    }
   ],
   "execution_count": 73
  },
  {
   "metadata": {
    "ExecuteTime": {
     "end_time": "2024-05-25T15:00:59.749237Z",
     "start_time": "2024-05-25T15:00:59.747656Z"
    }
   },
   "cell_type": "code",
   "source": "",
   "id": "602622fbd53345b0",
   "outputs": [],
   "execution_count": 72
  }
 ],
 "metadata": {
  "kernelspec": {
   "display_name": "Python 3",
   "language": "python",
   "name": "python3"
  },
  "language_info": {
   "codemirror_mode": {
    "name": "ipython",
    "version": 2
   },
   "file_extension": ".py",
   "mimetype": "text/x-python",
   "name": "python",
   "nbconvert_exporter": "python",
   "pygments_lexer": "ipython2",
   "version": "2.7.6"
  }
 },
 "nbformat": 4,
 "nbformat_minor": 5
}
