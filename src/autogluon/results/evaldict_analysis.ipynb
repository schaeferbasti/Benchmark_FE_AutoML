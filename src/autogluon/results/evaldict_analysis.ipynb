{
 "cells": [
  {
   "metadata": {},
   "cell_type": "markdown",
   "source": "# Analysis of the Autogluon results",
   "id": "9d743e5e32725c01"
  },
  {
   "metadata": {},
   "cell_type": "markdown",
   "source": "##### Imports",
   "id": "7d795071d839a8eb"
  },
  {
   "cell_type": "code",
   "id": "initial_id",
   "metadata": {
    "collapsed": true,
    "ExecuteTime": {
     "end_time": "2024-09-05T14:53:26.833124Z",
     "start_time": "2024-09-05T14:53:26.829800Z"
    }
   },
   "source": [
    "import os\n",
    "import pandas as pd\n",
    "import numpy as np\n",
    "import matplotlib.pyplot as plt\n",
    "\n",
    "import seaborn as sns\n",
    "from tabulate import tabulate"
   ],
   "outputs": [],
   "execution_count": 174
  },
  {
   "metadata": {
    "ExecuteTime": {
     "end_time": "2024-09-05T14:53:26.837883Z",
     "start_time": "2024-09-05T14:53:26.835184Z"
    }
   },
   "cell_type": "code",
   "source": [
    "import warnings\n",
    "warnings.simplefilter(action='ignore', category=FutureWarning)"
   ],
   "id": "1bab55a250e13b8e",
   "outputs": [],
   "execution_count": 175
  },
  {
   "metadata": {},
   "cell_type": "markdown",
   "source": "##### Create Summaries",
   "id": "e8885a6534c8a06b"
  },
  {
   "metadata": {
    "ExecuteTime": {
     "end_time": "2024-09-05T14:53:26.853893Z",
     "start_time": "2024-09-05T14:53:26.841982Z"
    }
   },
   "cell_type": "code",
   "source": [
    "df_all = pd.DataFrame(columns=['Dataset', 'Type', 'Method', 'Value'])   \n",
    "eval_files = os.listdir('evaldict')\n",
    "\n",
    "for eval_file in eval_files:\n",
    "    core_name = eval_file[:-len('.parquet')]\n",
    "    parts = core_name.split('_')\n",
    "    method = parts[-1]\n",
    "    parts.remove(method)\n",
    "    parts.remove(parts[0])\n",
    "    dataset = '_'.join(parts)\n",
    "    eval_df = pd.read_parquet('evaldict/' + eval_file)\n",
    "    \n",
    "    try:\n",
    "        rmse = (- eval_df[\"root_mean_squared_error\"]).tolist()\n",
    "        value = np.average(rmse)\n",
    "        df_all = df_all._append({'Dataset': dataset, 'Type': 'regression', 'Method': method, 'Value': value}, ignore_index=True)\n",
    "    except KeyError:\n",
    "        try:\n",
    "            roc_auc = (- eval_df[\"roc_auc\"]).tolist()\n",
    "            value = np.average(roc_auc)\n",
    "            df_all = df_all._append({'Dataset': dataset, 'Type': 'binary', 'Method': method, 'Value': value},ignore_index=True)\n",
    "        except KeyError:\n",
    "            log_loss = (- eval_df[\"log_loss\"]).tolist()\n",
    "            value = np.average(log_loss)\n",
    "            df_all = df_all._append({'Dataset': dataset, 'Type': 'multiclass', 'Method': method, 'Value': value},ignore_index=True)\n",
    "print(df_all)"
   ],
   "id": "d6f92c38767d93f5",
   "outputs": [
    {
     "name": "stdout",
     "output_type": "stream",
     "text": [
      "   Dataset        Type    Method     Value\n",
      "0  abalone  regression  original  3.574203\n",
      "1  abalone  regression    openfe  3.160517\n"
     ]
    }
   ],
   "execution_count": 176
  },
  {
   "metadata": {},
   "cell_type": "markdown",
   "source": "##### Add Std Deviation",
   "id": "ca77f613f359465f"
  },
  {
   "metadata": {
    "ExecuteTime": {
     "end_time": "2024-09-05T14:53:26.867161Z",
     "start_time": "2024-09-05T14:53:26.858653Z"
    }
   },
   "cell_type": "code",
   "source": [
    "df_stddev = df_all.groupby(['Dataset', 'Type', 'Method'])['Value'].std().reset_index()\n",
    "df_stddev.rename(columns={'Value': 'StdDev'}, inplace=True)\n",
    "df_stddev['StdDev'] = df_stddev['StdDev'].fillna(0)\n",
    "# Average values\n",
    "df_summary = df_all.groupby(['Dataset', 'Type', 'Method'])['Value'].mean().reset_index().fillna(0)\n",
    "print(df_summary)"
   ],
   "id": "3c3fc03f5bacab84",
   "outputs": [
    {
     "name": "stdout",
     "output_type": "stream",
     "text": [
      "   Dataset        Type    Method     Value\n",
      "0  abalone  regression    openfe  3.160517\n",
      "1  abalone  regression  original  3.574203\n"
     ]
    }
   ],
   "execution_count": 177
  },
  {
   "metadata": {
    "ExecuteTime": {
     "end_time": "2024-09-05T14:53:26.873528Z",
     "start_time": "2024-09-05T14:53:26.868402Z"
    }
   },
   "cell_type": "code",
   "source": [
    "df_summary = pd.merge(df_summary, df_stddev)\n",
    "df_summary['Value_with_StdDev'] = df_summary.apply(lambda row: f\"{row['Value']} ± {row['StdDev']}\", axis=1)\n",
    "print(df_summary)"
   ],
   "id": "7db6bce82450ede8",
   "outputs": [
    {
     "name": "stdout",
     "output_type": "stream",
     "text": [
      "   Dataset        Type    Method     Value  StdDev         Value_with_StdDev\n",
      "0  abalone  regression    openfe  3.160517     0.0  3.1605172821529592 ± 0.0\n",
      "1  abalone  regression  original  3.574203     0.0  3.5742031644559726 ± 0.0\n"
     ]
    }
   ],
   "execution_count": 178
  },
  {
   "metadata": {
    "ExecuteTime": {
     "end_time": "2024-09-05T14:53:26.879463Z",
     "start_time": "2024-09-05T14:53:26.874304Z"
    }
   },
   "cell_type": "code",
   "source": [
    "# Print and write to file\n",
    "pivot_table = df_summary.pivot(index=['Dataset', 'Type'], columns=['Method'], values='Value_with_StdDev').fillna('Failed')\n",
    "pivot_table.reset_index(inplace=True)\n",
    "pivot_table.to_parquet('tabular_data.parquet')\n",
    "print(tabulate(pivot_table, headers='keys', tablefmt='pretty'))"
   ],
   "id": "532e3b6654c5aabe",
   "outputs": [
    {
     "name": "stdout",
     "output_type": "stream",
     "text": [
      "+---+---------+------------+--------------------------+--------------------------+\n",
      "|   | Dataset |    Type    |          openfe          |         original         |\n",
      "+---+---------+------------+--------------------------+--------------------------+\n",
      "| 0 | abalone | regression | 3.1605172821529592 ± 0.0 | 3.5742031644559726 ± 0.0 |\n",
      "+---+---------+------------+--------------------------+--------------------------+\n"
     ]
    }
   ],
   "execution_count": 179
  },
  {
   "metadata": {
    "ExecuteTime": {
     "end_time": "2024-09-05T14:53:27.001659Z",
     "start_time": "2024-09-05T14:53:26.880757Z"
    }
   },
   "cell_type": "code",
   "source": [
    "# Extract values\n",
    "def extract_value(value_with_stddev):\n",
    "    try:\n",
    "        value, _ = value_with_stddev.split(' ± ')\n",
    "        return float(value)\n",
    "    except:\n",
    "        return None        \n",
    "\n",
    "pivot_table_numeric = pivot_table.set_index('Dataset').applymap(extract_value).reset_index()\n",
    "\n",
    "# Melt DataFrame to format for seaborn\n",
    "melted_df = pd.melt(pivot_table_numeric, id_vars=['Dataset', 'Type'], var_name='Method', value_name='Value')\n",
    "\n",
    "plt.figure(figsize=(10, 6))\n",
    "sns.boxplot(x='Method', y='Value', data=melted_df)\n",
    "plt.xlabel(\"Method\")\n",
    "plt.ylabel(\"Value\")\n",
    "plt.title(\"Box Plot of Values by Method\")\n",
    "plt.xticks(rotation=45)  # Rotate x-axis labels if necessary\n",
    "plt.grid(True)\n",
    "plt.tight_layout()\n",
    "plt.savefig('plots/box_plot.png')\n",
    "plt.show()"
   ],
   "id": "42b7c6d5f3a57208",
   "outputs": [
    {
     "data": {
      "text/plain": [
       "<Figure size 1000x600 with 1 Axes>"
      ],
      "image/png": "[encoded data removed]"
     },
     "metadata": {},
     "output_type": "display_data"
    }
   ],
   "execution_count": 180
  }
 ],
 "metadata": {
  "kernelspec": {
   "display_name": "Python 3",
   "language": "python",
   "name": "python3"
  },
  "language_info": {
   "codemirror_mode": {
    "name": "ipython",
    "version": 2
   },
   "file_extension": ".py",
   "mimetype": "text/x-python",
   "name": "python",
   "nbconvert_exporter": "python",
   "pygments_lexer": "ipython2",
   "version": "2.7.6"
  }
 },
 "nbformat": 4,
 "nbformat_minor": 5
}
